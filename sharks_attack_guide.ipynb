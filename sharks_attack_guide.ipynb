{
 "cells": [
  {
   "cell_type": "markdown",
   "metadata": {},
   "source": [
    "# A Shark's Guide to Gourmet Dining"
   ]
  },
  {
   "cell_type": "code",
   "execution_count": 68,
   "metadata": {},
   "outputs": [],
   "source": [
    "import warnings\n",
    "warnings.filterwarnings(\"ignore\")"
   ]
  },
  {
   "cell_type": "code",
   "execution_count": 111,
   "metadata": {},
   "outputs": [],
   "source": [
    "import pandas as pd\n",
    "import re\n",
    "import numpy as np\n",
    "\n",
    "import seaborn as sns\n",
    "import matplotlib.pyplot as plt\n",
    "import plotly.express as px\n",
    "import plotly.graph_objects as go"
   ]
  },
  {
   "cell_type": "code",
   "execution_count": 70,
   "metadata": {},
   "outputs": [
    {
     "data": {
      "text/plain": [
       "(25723, 24)"
      ]
     },
     "execution_count": 70,
     "metadata": {},
     "output_type": "execute_result"
    }
   ],
   "source": [
    "file_path = '/Users/haddock_ana/Ironhack/Projects/Proyect 1/Datasets/attacks.csv'\n",
    "attacks = pd.read_csv(file_path, encoding=\"cp1252\")\n",
    "attacks.shape"
   ]
  },
  {
   "cell_type": "markdown",
   "metadata": {},
   "source": [
    "# Data Cleaning\n",
    "## First attempt\n",
    "- Delete duplicated data\n",
    "- Exanime Nulls (clean all nulls values)\n",
    "\n",
    "## Second attempt\n",
    "- Analyse data from the requiered study variables\n",
    "  - Nulls\n",
    "  - Data formats"
   ]
  },
  {
   "cell_type": "markdown",
   "metadata": {},
   "source": [
    "### First cleaning"
   ]
  },
  {
   "cell_type": "code",
   "execution_count": 71,
   "metadata": {},
   "outputs": [],
   "source": [
    "attacks = attacks [[\"Date\", \"Year\", \"Type\", \"Country\", \"Area\", 'Location',\n",
    "       'Activity', 'Name', 'Sex ', 'Age', 'Injury', 'Fatal (Y/N)', 'Time',\n",
    "       'Species ', 'Investigator or Source']] # Frist subset that filters the columns I know I wont need\n",
    "attacks.rename(columns = {'Sex ':'Sex', 'Species ':'Species'}, inplace=True) # Rename tha columns that have a space at the beginning"
   ]
  },
  {
   "cell_type": "markdown",
   "metadata": {},
   "source": [
    "- Duplicated Values"
   ]
  },
  {
   "cell_type": "code",
   "execution_count": 72,
   "metadata": {},
   "outputs": [
    {
     "data": {
      "text/plain": [
       "19421"
      ]
     },
     "execution_count": 72,
     "metadata": {},
     "output_type": "execute_result"
    }
   ],
   "source": [
    "attacks.duplicated().sum()"
   ]
  },
  {
   "cell_type": "code",
   "execution_count": 73,
   "metadata": {},
   "outputs": [],
   "source": [
    "attacks.drop_duplicates(inplace=True)"
   ]
  },
  {
   "cell_type": "markdown",
   "metadata": {},
   "source": [
    "- Null values"
   ]
  },
  {
   "cell_type": "code",
   "execution_count": 74,
   "metadata": {},
   "outputs": [
    {
     "data": {
      "text/plain": [
       "Date                         1\n",
       "Year                         3\n",
       "Type                         5\n",
       "Country                     51\n",
       "Area                       456\n",
       "Location                   541\n",
       "Activity                   545\n",
       "Name                       211\n",
       "Sex                        566\n",
       "Age                       2831\n",
       "Injury                      29\n",
       "Fatal (Y/N)                540\n",
       "Time                      3354\n",
       "Species                   2839\n",
       "Investigator or Source      18\n",
       "dtype: int64"
      ]
     },
     "execution_count": 74,
     "metadata": {},
     "output_type": "execute_result"
    }
   ],
   "source": [
    "attacks.isna().sum()"
   ]
  },
  {
   "cell_type": "markdown",
   "metadata": {},
   "source": [
    "- There are variables that can be deducted or field by complementary columns.\n",
    "- My approach here is to remove those cases with relevant variables (that are not posible to replace):\n",
    "  - Date\n",
    "  - Country"
   ]
  },
  {
   "cell_type": "code",
   "execution_count": 75,
   "metadata": {},
   "outputs": [],
   "source": [
    "attacks [attacks['Date'].isnull()]\n",
    "attacks.dropna(subset=['Date'], inplace=True)"
   ]
  },
  {
   "cell_type": "markdown",
   "metadata": {},
   "source": [
    "The following step is to remove those cases that have these two variables null, as I think there are not useful without these key inputs of information to my analysis\n",
    "- Country\n",
    "- Activity"
   ]
  },
  {
   "cell_type": "code",
   "execution_count": 76,
   "metadata": {},
   "outputs": [
    {
     "data": {
      "text/plain": [
       "(6294, 15)"
      ]
     },
     "execution_count": 76,
     "metadata": {},
     "output_type": "execute_result"
    }
   ],
   "source": [
    "missing_value = attacks[(attacks['Country'].isnull()) & (attacks['Activity'].isnull())]\n",
    "missing_value_indices = attacks[(attacks['Country'].isnull()) & (attacks['Activity'].isnull())].index\n",
    "attacks.drop(index=missing_value_indices, inplace=True)\n",
    "attacks.shape"
   ]
  },
  {
   "cell_type": "code",
   "execution_count": 77,
   "metadata": {},
   "outputs": [],
   "source": [
    "attacks_v1 = attacks.copy()# Versión del df con los main nulls quitados"
   ]
  },
  {
   "cell_type": "markdown",
   "metadata": {},
   "source": [
    "### Second cleaning\n",
    "\n",
    "In this step I will prepare my final subset, by cleaning and transforming the needed variables.\n"
   ]
  },
  {
   "cell_type": "code",
   "execution_count": 78,
   "metadata": {},
   "outputs": [],
   "source": [
    "attacks.drop(columns=['Date','Type', 'Area', 'Location', 'Name', 'Injury', 'Species','Investigator or Source'], inplace=True)"
   ]
  },
  {
   "cell_type": "markdown",
   "metadata": {},
   "source": [
    "- The most important variable for my analysis focus is \"Fatal (Y/N)\", therefore I will start by transforming this variable."
   ]
  },
  {
   "cell_type": "code",
   "execution_count": 79,
   "metadata": {},
   "outputs": [],
   "source": [
    "attacks['Fatal (Y/N)'].str.strip()\n",
    "attacks = attacks[attacks['Fatal (Y/N)'].isin(['Y', 'N'])] # I am keeping those rows that have a valid value. Either Yes or No"
   ]
  },
  {
   "cell_type": "markdown",
   "metadata": {},
   "source": [
    "- Next one is the variable \"Activity\""
   ]
  },
  {
   "cell_type": "code",
   "execution_count": 80,
   "metadata": {},
   "outputs": [],
   "source": [
    "attacks['Activity'].replace('nan', np.nan, inplace=True) # I have detected the NaN values are in a str format, that is why I am changing the format."
   ]
  },
  {
   "cell_type": "code",
   "execution_count": 81,
   "metadata": {},
   "outputs": [],
   "source": [
    "activity_counts = attacks['Activity'].value_counts() # Analyse the different values we have for Activity\n",
    "mask_activity = activity_counts[activity_counts > 10].index.tolist() # We create a variable with the Activities that are repeated more than 10 times"
   ]
  },
  {
   "cell_type": "code",
   "execution_count": 82,
   "metadata": {},
   "outputs": [
    {
     "name": "stdout",
     "output_type": "stream",
     "text": [
      "['others', 'standing', 'surfing', 'surfing', 'diving', 'surfing', 'swimming', 'fishing', 'walking', 'standing', 'others', 'others', 'swimming', 'fishing', 'others', 'surfing', 'surfing', 'swimming', 'diving', 'surfing', 'surfing', 'surfing', 'surfing', 'fishing', 'others', 'others', 'swimming', 'surfing', 'surfing', 'surfing', 'fishing', 'windsurfing', 'swimming', 'surfing', 'others', 'wading', 'swimming', 'surfing', 'diving', 'swimming', 'fishing', 'walking', 'swimming', 'others', 'snorkeling', 'spearfishing', 'others', 'spearfishing', 'diving', 'diving', 'surfing', 'surfing', 'surfing', 'surfing', 'fishing', 'snorkeling', 'diving', 'diving', 'others', 'spearfishing', 'surfing', 'surfing', 'surfing', 'bathing', 'snorkeling', 'surfing', 'others', 'swimming', 'surfing', 'swimming', 'kayaking', 'kayaking', 'swimming', 'surfing', 'snorkeling', 'surfing', 'surfing', 'surfing', 'surfing', 'surfing', 'surfing', 'fishing', 'fishing', 'surfing', 'swimming', 'surfing', 'spearfishing', 'others', 'surfing', 'swimming', 'swimming', 'surfing', 'surfing', 'wading', 'canoeing', 'others', 'spearfishing', 'swimming', 'snorkeling', 'fishing', 'kayaking', 'others', 'others', 'snorkeling', 'spearfishing', 'surfing', 'others', 'swimming', 'others', 'kayaking', 'others', 'surfing', 'surfing', 'kayaking', 'swimming', 'fishing', 'surfing', 'swimming', 'surfing', 'swimming', 'others', 'swimming', 'surfing', 'others', 'others', 'surfing', 'surfing', 'surfing', 'spearfishing', 'snorkeling', 'others', 'others', 'fishing', 'spearfishing', 'others', 'snorkeling', 'swimming', 'surfing', 'surfing', 'others', 'others', 'snorkeling', 'others', 'surfing', 'surfing', 'surfing', 'surfing', 'surfing', 'others', 'swimming', 'swimming', 'swimming', 'others', 'swimming', 'surfing', 'others', 'kayaking', 'spearfishing', 'others', 'snorkeling', 'surfing', 'others', 'spearfishing', 'swimming', 'others', 'fishing', 'others', 'diving', 'swimming', 'others', 'diving', 'swimming', 'others', 'surfing', 'wading', 'surfing', 'snorkeling', 'others', 'diving', 'fishing', 'fishing', 'surfing', 'fishing', 'floating', 'surfing', 'surfing', 'surfing', 'surfing', 'surfing', 'snorkeling', 'surfing', 'surfing', 'surfing', 'others', 'surfing', 'surfing', 'surfing', 'surfing', 'surfing', 'surfing', 'surfing', 'fishing', 'wading', 'swimming', 'surfing', 'others', 'surfing', 'others', 'spearfishing', 'surfing', 'surfing', 'surfing', 'wading', 'snorkeling', 'others', 'surfing', 'swimming', 'swimming', 'kayaking', 'others', 'surfing', 'surfing', 'surfing', 'spearfishing', 'fishing', 'fishing', 'surfing', 'others', 'surfing', 'swimming', 'diving', 'wading', 'fishing', 'fishing', 'fishing', 'swimming', 'fishing', 'others', 'surfing', 'diving', 'spearfishing', 'floating', 'wading', 'surfing', 'spearfishing', 'floating', 'standing', 'swimming', 'diving', 'swimming', 'surfing', 'surfing', 'swimming', 'swimming', 'swimming', 'swimming', 'swimming', 'swimming', 'others', 'floating', 'fishing', 'surfing', 'surfing', 'surf-skiing', 'swimming', 'spearfishing', 'spearfishing', 'walking', 'fishing', 'snorkeling', 'surfing', 'surfing', 'others', 'surfing', 'diving', 'others', 'fishing', 'swimming', 'surfing', 'spearfishing', 'wading', 'walking', 'windsurfing', 'swimming', 'fishing', 'surfing', 'surfing', 'spearfishing', 'fishing', 'others', 'surfing', 'wading', 'spearfishing', 'fishing', 'swimming', 'others', 'surfing', 'diving', 'others', 'fishing', 'fishing', 'swimming', 'snorkeling', 'surfing', 'swimming', 'surfing', 'surfing', 'swimming', 'wading', 'fishing', 'spearfishing', 'others', 'surfing', 'surfing', 'surfing', 'fishing', 'swimming', 'fishing', 'others', 'surfing', 'fishing', 'surfing', 'others', 'wading', 'surfing', 'surfing', 'snorkeling', 'fishing', 'surfing', 'spearfishing', 'wading', 'others', 'fishing', 'swimming', 'surfing', 'surfing', 'others', 'fishing', 'surf-skiing', 'others', 'wading', 'spearfishing', 'surfing', 'surfing', 'surfing', 'surfing', 'walking', 'fishing', 'spearfishing', 'surfing', 'surfing', 'surfing', 'diving', 'fishing', 'surfing', 'surfing', 'surfing', 'surfing', 'spearfishing', 'others', 'surfing', 'others', 'swimming', 'surfing', 'others', 'swimming', 'others', 'surfing', 'standing', 'swimming', 'others', 'swimming', 'surfing', 'standing', 'spearfishing', 'swimming', 'wading', 'wading', 'others', 'others', 'others', 'others', 'surfing', 'standing', 'wading', 'spearfishing', 'swimming', 'surfing', 'others', 'snorkeling', 'swimming', 'surfing', 'diving', 'snorkeling', 'wading', 'surfing', 'others', 'others', 'surfing', 'others', 'spearfishing', 'fishing', 'swimming', 'standing', 'others', 'fishing', 'fishing', 'others', 'rowing', 'swimming', 'surfing', 'surfing', 'others', 'rowing', 'fishing', 'surfing', 'floating', 'fishing', 'fishing', 'others', 'snorkeling', 'surfing', 'others', 'surfing', 'spearfishing', 'others', 'surfing', 'fishing', 'diving', 'spearfishing', 'fishing', 'surfing', 'fishing', 'fishing', 'others', 'surfing', 'snorkeling', 'surfing', 'surfing', 'surfing', 'surfing', 'others', 'others', 'canoeing', 'surfing', 'surfing', 'standing', 'surfing', 'kayaking', 'surfing', 'fishing', 'surfing', 'kayaking', 'kayaking', 'surfing', 'surfing', 'surfing', 'others', 'swimming', 'fishing', 'kayaking', 'fishing', 'others', 'surfing', 'surfing', 'fishing', 'swimming', 'surfing', 'standing', 'fishing', 'others', 'spearfishing', 'standing', 'others', 'spearfishing', 'swimming', 'swimming', 'others', 'swimming', 'surfing', 'others', 'surfing', 'swimming', 'surfing', 'standing', 'wading', 'swimming', 'swimming', 'surfing', 'surfing', 'swimming', 'surfing', 'surfing', 'rowing', 'spearfishing', 'surfing', 'others', 'others', 'fishing', 'standing', 'others', 'surfing', 'others', 'swimming', 'surfing', 'others', 'others', 'diving', 'others', 'others', 'surfing', 'wading', 'surfing', 'swimming', 'diving', 'surfing', 'spearfishing', 'swimming', 'wading', 'others', 'fishing', 'surfing', 'surfing', 'swimming', 'swimming', 'surfing', 'surfing', 'surfing', 'surfing', 'swimming', 'surfing', 'others', 'others', 'spearfishing', 'fishing', 'surfing', 'fishing', 'spearfishing', 'others', 'diving', 'others', 'snorkeling', 'surfing', 'fishing', 'others', 'surfing', 'surfing', 'kayaking', 'others', 'snorkeling', 'surfing', 'surfing', 'surfing', 'fishing', 'others', 'surfing', 'others', 'snorkeling', 'others', 'diving', 'surfing', 'diving', 'surfing', 'wading', 'swimming', 'diving', 'surfing', 'wading', 'surfing', 'diving', 'standing', 'swimming', 'surfing', 'swimming', 'surfing', 'surfing', 'standing', 'swimming', 'others', 'others', 'others', 'spearfishing', 'swimming', 'fishing', 'others', 'others', 'surfing', 'surfing', 'snorkeling', 'others', 'surfing', 'others', 'fishing', 'snorkeling', 'swimming', 'spearfishing', 'wading', 'surfing', 'others', 'diving', 'swimming', 'walking', 'swimming', 'swimming', 'swimming', 'wading', 'surfing', 'fishing', 'kayaking', 'swimming', 'swimming', 'swimming', 'swimming', 'surfing', 'surfing', 'others', 'fishing', 'surfing', 'diving', 'swimming', 'others', 'fishing', 'surfing', 'others', 'surfing', 'fishing', 'swimming', 'fishing', 'others', 'diving', 'surfing', 'others', 'others', 'swimming', 'surfing', 'diving', 'snorkeling', 'fishing', 'fishing', 'surfing', 'spearfishing', 'spearfishing', 'swimming', 'swimming', 'swimming', 'surfing', 'surfing', 'surfing', 'diving', 'others', 'fishing', 'surfing', 'surfing', 'spearfishing', 'spearfishing', 'swimming', 'surfing', 'others', 'swimming', 'surfing', 'surfing', 'spearfishing', 'diving', 'snorkeling', 'swimming', 'surfing', 'diving', 'surfing', 'surfing', 'swimming', 'surfing', 'others', 'surfing', 'others', 'bathing', 'windsurfing', 'others', 'surfing', 'surfing', 'surfing', 'swimming', 'surfing', 'surfing', 'swimming', 'surfing', 'surfing', 'surfing', 'others', 'spearfishing', 'swimming', 'fishing', 'surfing', 'swimming', 'wading', 'fishing', 'diving', 'surfing', 'spearfishing', 'surfing', 'surfing', 'surfing', 'surfing', 'surfing', 'surfing', 'swimming', 'spearfishing', 'kayaking', 'surfing', 'swimming', 'surfing', 'others', 'surfing', 'swimming', 'others', 'wading', 'fishing', 'swimming', 'swimming', 'swimming', 'swimming', 'surfing', 'others', 'surfing', 'others', 'wading', 'diving', 'surfing', 'fishing', 'spearfishing', 'kayaking', 'swimming', 'others', 'surfing', 'others', 'kayaking', 'surfing', 'others', 'diving', 'surfing', 'others', 'surfing', 'surfing', 'surfing', 'surfing', 'surfing', 'others', 'others', 'surfing', 'fishing', 'surfing', 'fishing', 'fishing', 'surfing', 'snorkeling', 'snorkeling', 'others', 'fishing', 'surfing', 'swimming', 'surfing', 'surfing', 'spearfishing', 'others', 'surfing', 'surfing', 'canoeing', 'fishing', 'surfing', 'surfing', 'surfing', 'surfing', 'surfing', 'swimming', 'kayaking', 'diving', 'surfing', 'diving', 'surfing', 'surfing', 'diving', 'diving', 'surfing', 'diving', 'surfing', 'surfing', 'swimming', 'canoeing', 'fishing', 'others', 'fishing', 'swimming', 'spearfishing', 'others', 'canoeing', 'others', 'swimming', 'surfing', 'surfing', 'surfing', 'surfing', 'others', 'surfing', 'surfing', 'fishing', 'others', 'surfing', 'others', 'surfing', 'swimming', 'wading', 'swimming', 'surfing', 'floating', 'swimming', 'others', 'swimming', 'diving', 'others', 'fishing', 'surfing', 'others', 'kayaking', 'fishing', 'diving', 'swimming', 'fishing', 'surfing', 'kayaking', 'snorkeling', 'surfing', 'diving', 'others', 'surfing', 'others', 'spearfishing', 'surfing', 'others', 'fishing', 'diving', 'spearfishing', 'spearfishing', 'wading', 'snorkeling', 'standing', 'surfing', 'surfing', 'others', 'spearfishing', 'surfing', 'others', 'surfing', 'fishing', 'spearfishing', 'spearfishing', 'others', 'surfing', 'surfing', 'surfing', 'diving', 'others', 'swimming', 'surfing', 'swimming', 'diving', 'others', 'surfing', 'fishing', 'spearfishing', 'surfing', 'diving', 'fishing', 'snorkeling', 'fishing', 'fishing', 'swimming', 'fishing', 'diving', 'surfing', 'others', 'fishing', 'others', 'surfing', 'surfing', 'snorkeling', 'surfing', 'snorkeling', 'snorkeling', 'snorkeling', 'snorkeling', 'fishing', 'snorkeling', 'diving', 'surfing', 'fishing', 'snorkeling', 'spearfishing', 'surfing', 'fishing', 'diving', 'surfing', 'others', 'snorkeling', 'surfing', 'snorkeling', 'surfing', 'surfing', 'surfing', 'surfing', 'swimming', 'surfing', 'swimming', 'swimming', 'surfing', 'surfing', 'surfing', 'others', 'others', 'surfing', 'fishing', 'fishing', 'swimming', 'surfing', 'surfing', 'windsurfing', 'kayaking', 'standing', 'standing', 'surfing', 'swimming', 'swimming', 'surfing', 'swimming', 'fishing', 'fishing', 'snorkeling', 'fishing', 'surfing', 'others', 'surfing', 'others', 'swimming', 'swimming', 'others', 'surfing', 'surfing', 'fishing', 'others', 'swimming', 'surfing', 'diving', 'wading', 'others', 'surfing', 'surfing', 'swimming', 'surfing', 'swimming', 'surfing', 'diving', 'snorkeling', 'surfing', 'spearfishing', 'others', 'fishing', 'others', 'others', 'surfing', 'surfing', 'surfing', 'surfing', 'standing', 'snorkeling', 'others', 'others', 'bathing', 'spearfishing', 'surfing', 'wading', 'swimming', 'swimming', 'kayaking', 'spearfishing', 'others', 'swimming', 'surfing', 'rowing', 'diving', 'wading', 'fishing', 'surfing', 'surfing', 'surfing', 'kayaking', 'surfing', 'kayaking', 'spearfishing', 'others', 'surfing', 'surfing', 'wading', 'diving', 'diving', 'surfing', 'fishing', 'swimming', 'others', 'fishing', 'others', 'swimming', 'others', 'fishing', 'surfing', 'surfing', 'swimming', 'others', 'swimming', 'surfing', 'fishing', 'spearfishing', 'surfing', 'swimming', 'others', 'wading', 'swimming', 'swimming', 'swimming', 'spearfishing', 'others', 'surfing', 'others', 'swimming', 'surfing', 'fishing', 'diving', 'diving', 'snorkeling', 'fishing', 'swimming', 'surfing', 'surfing', 'surfing', 'spearfishing', 'spearfishing', 'others', 'surfing', 'surfing', 'swimming', 'surfing', 'surfing', 'others', 'spearfishing', 'wading', 'fishing', 'surfing', 'surfing', 'surfing', 'surfing', 'surfing', 'others', 'swimming', 'wading', 'surfing', 'fishing', 'fishing', 'surfing', 'fishing', 'surfing', 'surfing', 'others', 'others', 'surfing', 'surfing', 'fishing', 'spearfishing', 'fishing', 'swimming', 'swimming', 'fishing', 'surfing', 'others', 'snorkeling', 'surfing', 'surfing', 'fishing', 'surfing', 'swimming', 'spearfishing', 'others', 'others', 'kayaking', 'snorkeling', 'kayaking', 'fishing', 'fishing', 'fishing', 'spearfishing', 'diving', 'others', 'others', 'fishing', 'fishing', 'fishing', 'diving', 'spearfishing', 'fishing', 'surfing', 'fishing', 'spearfishing', 'surfing', 'surfing', 'swimming', 'swimming', 'surfing', 'surfing', 'surfing', 'surfing', 'surfing', 'surfing', 'surfing', 'surfing', 'fishing', 'surfing', 'surfing', 'others', 'swimming', 'others', 'wading', 'diving', 'surfing', 'others', 'swimming', 'swimming', 'swimming', 'surfing', 'snorkeling', 'wading', 'wading', 'surfing', 'wading', 'diving', 'surfing', 'swimming', 'others', 'rowing', 'spearfishing', 'others', 'spearfishing', 'surfing', 'swimming', 'surfing', 'kayaking', 'wading', 'surfing', 'surfing', 'fishing', 'surfing', 'swimming', 'surfing', 'others', 'surfing', 'surfing', 'diving', 'swimming', 'fishing', 'wading', 'fishing', 'surfing', 'surfing', 'surfing', 'swimming', 'surfing', 'swimming', 'surfing', 'surfing', 'spearfishing', 'wading', 'surfing', 'others', 'walking', 'fishing', 'surfing', 'others', 'walking', 'wading', 'others', 'surfing', 'diving', 'spearfishing', 'surfing', 'surfing', 'surf-skiing', 'surf-skiing', 'others', 'others', 'surfing', 'fishing', 'surfing', 'surfing', 'surfing', 'swimming', 'surfing', 'surfing', 'others', 'fishing', 'surfing', 'surfing', 'surfing', 'surfing', 'surfing', 'floating', 'surf-skiing', 'spearfishing', 'surfing', 'surfing', 'surfing', 'others', 'swimming', 'spearfishing', 'surfing', 'swimming', 'surfing', 'surfing', 'spearfishing', 'others', 'surfing', 'snorkeling', 'wading', 'wading', 'standing', 'others', 'swimming', 'others', 'surfing', 'surfing', 'surfing', 'diving', 'fishing', 'swimming', 'surfing', 'others', 'floating', 'swimming', 'walking', 'swimming', 'others', 'others', 'surfing', 'surfing', 'others', 'fishing', 'snorkeling', 'wading', 'swimming', 'diving', 'wading', 'spearfishing', 'surfing', 'others', 'others', 'swimming', 'surfing', 'surfing', 'swimming', 'surfing', 'wading', 'others', 'fishing', 'wading', 'surfing', 'surfing', 'snorkeling', 'snorkeling', 'swimming', 'others', 'others', 'swimming', 'others', 'surfing', 'fishing', 'surfing', 'others', 'surfing', 'others', 'others', 'surfing', 'surfing', 'fishing', 'swimming', 'surfing', 'spearfishing', 'others', 'spearfishing', 'spearfishing', 'others', 'diving', 'swimming', 'surfing', 'surfing', 'surfing', 'surfing', 'surfing', 'fishing', 'others', 'others', 'swimming', 'canoeing', 'surfing', 'fishing', 'surfing', 'surfing', 'others', 'diving', 'others', 'surfing', 'diving', 'surfing', 'swimming', 'surfing', 'others', 'standing', 'swimming', 'surfing', 'surfing', 'surfing', 'others', 'others', 'surfing', 'surfing', 'others', 'wading', 'spearfishing', 'others', 'surfing', 'others', 'surfing', 'surf-skiing', 'surfing', 'fishing', 'standing', 'swimming', 'others', 'wading', 'walking', 'others', 'swimming', 'spearfishing', 'spearfishing', 'others', 'fishing', 'spearfishing', 'surfing', 'others', 'diving', 'surfing', 'others', 'surfing', 'spearfishing', 'others', 'surfing', 'spearfishing', 'surfing', 'diving', 'others', 'swimming', 'snorkeling', 'surfing', 'standing', 'fishing', 'surfing', 'others', 'swimming', 'wading', 'fishing', 'surfing', 'surfing', 'surfing', 'standing', 'wading', 'swimming', 'fishing', 'surfing', 'swimming', 'kayaking', 'rowing', 'spearfishing', 'rowing', 'surfing', 'diving', 'swimming', 'surfing', 'diving', 'surfing', 'swimming', 'rowing', 'spearfishing', 'fishing', 'surfing', 'surfing', 'fishing', 'surfing', 'surfing', 'spearfishing', 'surfing', 'surfing', 'others', 'fishing', 'surfing', 'surfing', 'surfing', 'wading', 'standing', 'standing', 'surfing', 'surfing', 'wading', 'surfing', 'diving', 'surfing', 'diving', 'surf-skiing', 'surfing', 'surfing', 'surfing', 'surfing', 'surfing', 'standing', 'wading', 'surfing', 'standing', 'others', 'diving', 'surfing', 'swimming', 'walking', 'surfing', 'swimming', 'wading', 'surfing', 'diving', 'swimming', 'others', 'standing', 'fishing', 'swimming', 'swimming', 'surfing', 'swimming', 'diving', 'others', 'spearfishing', 'wading', 'swimming', 'others', 'surfing', 'spearfishing', 'kayaking', 'fishing', 'others', 'surfing', 'fishing', 'others', 'spearfishing', 'surfing', 'wading', 'surfing', 'others', 'surfing', 'surfing', 'surfing', 'snorkeling', 'diving', 'fishing', 'diving', 'swimming', 'spearfishing', 'surfing', 'spearfishing', 'surfing', 'swimming', 'spearfishing', 'others', 'fishing', 'others', 'spearfishing', 'surfing', 'others', 'swimming', 'surfing', 'snorkeling', 'diving', 'diving', 'others', 'surfing', 'surfing', 'spearfishing', 'surfing', 'others', 'surfing', 'surfing', 'others', 'surfing', 'swimming', 'others', 'walking', 'bathing', 'surfing', 'diving', 'swimming', 'spearfishing', 'fishing', 'surfing', 'diving', 'surfing', 'swimming', 'swimming', 'wading', 'fishing', 'fishing', 'surfing', 'snorkeling', 'wading', 'surfing', 'diving', 'others', 'swimming', 'others', 'wading', 'swimming', 'surfing', 'swimming', 'others', 'wading', 'diving', 'surfing', 'swimming', 'diving', 'fishing', 'fishing', 'fishing', 'surfing', 'surfing', 'others', 'surfing', 'others', 'surfing', 'surfing', 'swimming', 'snorkeling', 'spearfishing', 'surfing', 'spearfishing', 'swimming', 'surfing', 'swimming', 'snorkeling', 'snorkeling', 'diving', 'surfing', 'swimming', 'spearfishing', 'others', 'diving', 'surfing', 'others', 'surfing', 'others', 'swimming', 'swimming', 'surfing', 'swimming', 'swimming', 'spearfishing', 'surfing', 'swimming', 'surfing', 'snorkeling', 'others', 'standing', 'spearfishing', 'surfing', 'surfing', 'surfing', 'surfing', 'surfing', 'swimming', 'surfing', 'surfing', 'surfing', 'others', 'wading', 'wading', 'surfing', 'surfing', 'surfing', 'surfing', 'surfing', 'fishing', 'others', 'others', 'others', 'others', 'fishing', 'others', 'others', 'others', 'surfing', 'wading', 'spearfishing', 'others', 'surfing', 'spearfishing', 'spearfishing', 'spearfishing', 'snorkeling', 'surfing', 'surfing', 'others', 'standing', 'swimming', 'swimming', 'surfing', 'surfing', 'surfing', 'wading', 'swimming', 'surfing', 'walking', 'others', 'others', 'swimming', 'surfing', 'swimming', 'surfing', 'surfing', 'surfing', 'surfing', 'surfing', 'others', 'surfing', 'swimming', 'surfing', 'surfing', 'surfing', 'others', 'diving', 'wading', 'swimming', 'swimming', 'swimming', 'surfing', 'surfing', 'snorkeling', 'snorkeling', 'diving', 'swimming', 'surfing', 'diving', 'others', 'swimming', 'snorkeling', 'surfing', 'others', 'standing', 'swimming', 'swimming', 'surfing', 'surfing', 'surfing', 'surfing', 'surfing', 'surfing', 'fishing', 'fishing', 'swimming', 'surfing', 'surfing', 'swimming', 'others', 'others', 'others', 'others', 'surfing', 'swimming', 'surfing', 'surfing', 'standing', 'diving', 'standing', 'surfing', 'swimming', 'surfing', 'fishing', 'surfing', 'standing', 'surfing', 'swimming', 'others', 'others', 'others', 'surfing', 'surfing', 'swimming', 'snorkeling', 'surfing', 'floating', 'others', 'others', 'surfing', 'others', 'fishing', 'surfing', 'fishing', 'diving', 'standing', 'surfing', 'swimming', 'standing', 'wading', 'swimming', 'others', 'wading', 'swimming', 'swimming', 'snorkeling', 'surfing', 'fishing', 'surfing', 'others', 'kayaking', 'surfing', 'swimming', 'fishing', 'swimming', 'others', 'snorkeling', 'surfing', 'surfing', 'surfing', 'others', 'snorkeling', 'surfing', 'others', 'others', 'surfing', 'diving', 'others', 'surfing', 'diving', 'fishing', 'walking', 'swimming', 'swimming', 'swimming', 'wading', 'swimming', 'spearfishing', 'standing', 'wading', 'others', 'others', 'surfing', 'surfing', 'surfing', 'surfing', 'surfing', 'surfing', 'surfing', 'surfing', 'spearfishing', 'others', 'others', 'swimming', 'fishing', 'others', 'others', 'others', 'fishing', 'surfing', 'others', 'surfing', 'swimming', 'others', 'floating', 'swimming', 'spearfishing', 'wading', 'others', 'swimming', 'swimming', 'fishing', 'surfing', 'surfing', 'surfing', 'others', 'others', 'surfing', 'surfing', 'others', 'surfing', 'surfing', 'others', 'surfing', 'surfing', 'surfing', 'surfing', 'surfing', 'surfing', 'snorkeling', 'standing', 'others', 'surfing', 'others', 'surfing', 'swimming', 'others', 'fishing', 'surfing', 'kayaking', 'swimming', 'fishing', 'surfing', 'kayaking', 'diving', 'swimming', 'fishing', 'diving', 'spearfishing', 'surfing', 'diving', 'swimming', 'swimming', 'swimming', 'surfing', 'fishing', 'surfing', 'swimming', 'swimming', 'surfing', 'surfing', 'surfing', 'surfing', 'others', 'surfing', 'surfing', 'others', 'surfing', 'others', 'standing', 'surfing', 'swimming', 'swimming', 'diving', 'swimming', 'wading', 'surfing', 'swimming', 'swimming', 'others', 'others', 'swimming', 'others', 'surfing', 'standing', 'swimming', 'others', 'snorkeling', 'surfing', 'surfing', 'surfing', 'surfing', 'surfing', 'diving', 'wading', 'swimming', 'others', 'others', 'wading', 'others', 'wading', 'standing', 'swimming', 'others', 'fishing', 'standing', 'others', 'surfing', 'swimming', 'swimming', 'snorkeling', 'swimming', 'others', 'standing', 'diving', 'walking', 'wading', 'fishing', 'swimming', 'others', 'surfing', 'spearfishing', 'surfing', 'rowing', 'rowing', 'swimming', 'spearfishing', 'others', 'surfing', 'others', 'surfing', 'surfing', 'others', 'diving', 'fishing', 'surfing', 'swimming', 'bathing', 'surfing', 'spearfishing', 'surfing', 'surfing', 'swimming', 'surfing', 'surfing', 'swimming', 'swimming', 'swimming', 'others', 'surfing', 'surfing', 'others', 'wading', 'fishing', 'kayaking', 'wading', 'wading', 'surfing', 'wading', 'wading', 'surfing', 'surfing', 'fishing', 'surfing', 'others', 'surfing', 'spearfishing', 'surfing', 'swimming', 'surfing', 'others', 'others', 'wading', 'surfing', 'others', 'surfing', 'swimming', 'wading', 'windsurfing', 'surfing', 'swimming', 'swimming', 'surfing', 'spearfishing', 'others', 'others', 'spearfishing', 'fishing', 'surfing', 'swimming', 'others', 'surfing', 'surfing', 'spearfishing', 'others', 'others', 'spearfishing', 'spearfishing', 'surfing', 'standing', 'surfing', 'others', 'surfing', 'swimming', 'surfing', 'walking', 'surfing', 'fishing', 'surfing', 'swimming', 'surfing', 'surfing', 'surfing', 'diving', 'others', 'surfing', 'surfing', 'fishing', 'surfing', 'spearfishing', 'surfing', 'others', 'spearfishing', 'spearfishing', 'others', 'others', 'surfing', 'spearfishing', 'surfing', 'surfing', 'wading', 'surfing', 'surfing', 'diving', 'others', 'surfing', 'surfing', 'surfing', 'others', 'others', 'surfing', 'swimming', 'swimming', 'others', 'others', 'surfing', 'diving', 'swimming', 'others', 'swimming', 'snorkeling', 'swimming', 'swimming', 'windsurfing', 'bathing', 'surfing', 'surfing', 'surfing', 'surfing', 'diving', 'spearfishing', 'spearfishing', 'others', 'swimming', 'diving', 'swimming', 'surf-skiing', 'surfing', 'surfing', 'surfing', 'others', 'swimming', 'swimming', 'surfing', 'surfing', 'surfing', 'surfing', 'walking', 'surfing', 'diving', 'floating', 'fishing', 'fishing', 'others', 'surfing', 'wading', 'others', 'surfing', 'wading', 'surfing', 'surfing', 'surfing', 'standing', 'fishing', 'surfing', 'spearfishing', 'snorkeling', 'surfing', 'others', 'spearfishing', 'surfing', 'surfing', 'spearfishing', 'spearfishing', 'windsurfing', 'swimming', 'diving', 'others', 'rowing', 'snorkeling', 'windsurfing', 'spearfishing', 'others', 'surfing', 'spearfishing', 'others', 'surfing', 'surfing', 'surfing', 'surfing', 'swimming', 'surfing', 'surfing', 'surfing', 'others', 'swimming', 'diving', 'surfing', 'standing', 'others', 'spearfishing', 'others', 'diving', 'fishing', 'standing', 'swimming', 'diving', 'swimming', 'swimming', 'others', 'standing', 'diving', 'surfing', 'surfing', 'surfing', 'surfing', 'diving', 'surfing', 'diving', 'surfing', 'swimming', 'swimming', 'swimming', 'swimming', 'fishing', 'others', 'swimming', 'others', 'others', 'diving', 'others', 'swimming', 'wading', 'swimming', 'swimming', 'others', 'surfing', 'others', 'surfing', 'others', 'others', 'others', 'others', 'surfing', 'standing', 'surfing', 'surfing', 'surfing', 'windsurfing', 'surfing', 'swimming', 'others', 'diving', 'diving', 'diving', 'surfing', 'others', 'surfing', 'surfing', 'surfing', 'swimming', 'swimming', 'surfing', 'diving', 'fishing', 'wading', 'surfing', 'others', 'others', 'surfing', 'surfing', 'surfing', 'standing', 'others', 'swimming', 'others', 'surfing', 'surfing', 'surfing', 'fishing', 'others', 'diving', 'kayaking', 'others', 'surfing', 'swimming', 'swimming', 'swimming', 'swimming', 'swimming', 'diving', 'surfing', 'others', 'diving', 'others', 'diving', 'diving', 'others', 'surfing', 'swimming', 'swimming', 'surfing', 'swimming', 'surfing', 'snorkeling', 'others', 'others', 'surfing', 'surfing', 'others', 'surfing', 'spearfishing', 'others', 'surfing', 'surfing', 'surfing', 'wading', 'surfing', 'swimming', 'surfing', 'others', 'others', 'others', 'surfing', 'swimming', 'windsurfing', 'surfing', 'surfing', 'surfing', 'surfing', 'spearfishing', 'surfing', 'surfing', 'spearfishing', 'wading', 'wading', 'surfing', 'others', 'wading', 'others', 'spearfishing', 'swimming', 'swimming', 'others', 'surfing', 'spearfishing', 'surfing', 'fishing', 'surfing', 'fishing', 'swimming', 'surfing', 'windsurfing', 'fishing', 'others', 'swimming', 'others', 'surfing', 'surfing', 'swimming', 'diving', 'others', 'others', 'surfing', 'swimming', 'kayaking', 'surfing', 'swimming', 'spearfishing', 'surfing', 'surfing', 'wading', 'others', 'swimming', 'spearfishing', 'surfing', 'others', 'others', 'others', 'fishing', 'diving', 'fishing', 'fishing', 'surfing', 'others', 'swimming', 'others', 'swimming', 'diving', 'others', 'diving', 'diving', 'swimming', 'swimming', 'others', 'swimming', 'surfing', 'floating', 'others', 'others', 'diving', 'swimming', 'others', 'others', 'fishing', 'others', 'spearfishing', 'others', 'surfing', 'surfing', 'others', 'spearfishing', 'snorkeling', 'standing', 'others', 'spearfishing', 'surfing', 'surfing', 'kayaking', 'diving', 'diving', 'surfing', 'others', 'diving', 'surfing', 'diving', 'others', 'surfing', 'others', 'surfing', 'standing', 'swimming', 'fishing', 'others', 'surfing', 'surfing', 'snorkeling', 'standing', 'surfing', 'surfing', 'swimming', 'surfing', 'swimming', 'others', 'diving', 'surfing', 'diving', 'snorkeling', 'surfing', 'others', 'surfing', 'diving', 'fishing', 'surfing', 'others', 'diving', 'spearfishing', 'others', 'swimming', 'spearfishing', 'fishing', 'others', 'others', 'diving', 'snorkeling', 'snorkeling', 'fishing', 'fishing', 'others', 'surfing', 'surfing', 'diving', 'others', 'swimming', 'wading', 'fishing', 'canoeing', 'snorkeling', 'swimming', 'swimming', 'surfing', 'surfing', 'others', 'others', 'fishing', 'surfing', 'swimming', 'swimming', 'others', 'diving', 'fishing', 'diving', 'others', 'others', 'diving', 'surfing', 'spearfishing', 'swimming', 'surf-skiing', 'surfing', 'swimming', 'diving', 'surfing', 'surfing', 'surfing', 'swimming', 'surfing', 'surfing', 'surfing', 'surfing', 'spearfishing', 'diving', 'kayaking', 'surfing', 'surfing', 'fishing', 'wading', 'surfing', 'diving', 'spearfishing', 'fishing', 'snorkeling', 'others', 'others', 'others', 'surfing', 'diving', 'surfing', 'surfing', 'others', 'swimming', 'surfing', 'diving', 'others', 'surfing', 'fishing', 'surfing', 'diving', 'swimming', 'swimming', 'surfing', 'surfing', 'diving', 'others', 'others', 'diving', 'surfing', 'others', 'others', 'swimming', 'surfing', 'surfing', 'spearfishing', 'fishing', 'surfing', 'surfing', 'surfing', 'others', 'others', 'spearfishing', 'windsurfing', 'surfing', 'diving', 'swimming', 'surfing', 'others', 'others', 'others', 'surfing', 'kayaking', 'fishing', 'windsurfing', 'swimming', 'kayaking', 'others', 'others', 'swimming', 'surfing', 'others', 'spearfishing', 'others', 'others', 'others', 'others', 'surfing', 'surfing', 'surfing', 'surfing', 'surfing', 'surfing', 'wading', 'surfing', 'walking', 'snorkeling', 'diving', 'others', 'others', 'surfing', 'diving', 'spearfishing', 'diving', 'swimming', 'others', 'snorkeling', 'spearfishing', 'spearfishing', 'diving', 'others', 'swimming', 'surfing', 'diving', 'surfing', 'surfing', 'others', 'surfing', 'swimming', 'surfing', 'windsurfing', 'standing', 'surfing', 'surfing', 'surfing', 'others', 'surfing', 'others', 'fishing', 'diving', 'fishing', 'others', 'others', 'surfing', 'others', 'surfing', 'surfing', 'surfing', 'spearfishing', 'others', 'diving', 'surfing', 'wading', 'surfing', 'surfing', 'surfing', 'wading', 'others', 'snorkeling', 'spearfishing', 'fishing', 'others', 'surfing', 'fishing', 'swimming', 'swimming', 'swimming', 'surfing', 'others', 'windsurfing', 'others', 'spearfishing', 'swimming', 'others', 'spearfishing', 'others', 'surfing', 'others', 'diving', 'spearfishing', 'surfing', 'surfing', 'surfing', 'others', 'swimming', 'others', 'surfing', 'surfing', 'surfing', 'surfing', 'diving', 'others', 'fishing', 'others', 'spearfishing', 'diving', 'diving', 'others', 'diving', 'windsurfing', 'others', 'surfing', 'surfing', 'surfing', 'swimming', 'spearfishing', 'surfing', 'surfing', 'surfing', 'surfing', 'others', 'fishing', 'others', 'fishing', 'others', 'diving', 'others', 'floating', 'fishing', 'diving', 'diving', 'wading', 'wading', 'surfing', 'fishing', 'others', 'snorkeling', 'others', 'spearfishing', 'surfing', 'diving', 'diving', 'surfing', 'swimming', 'surfing', 'others', 'spearfishing', 'spearfishing', 'spearfishing', 'others', 'fishing', 'others', 'others', 'surfing', 'spearfishing', 'surfing', 'surfing', 'surfing', 'diving', 'surfing', 'swimming', 'surfing', 'wading', 'others', 'spearfishing', 'others', 'swimming', 'swimming', 'fishing', 'spearfishing', 'surfing', 'others', 'swimming', 'spearfishing', 'surfing', 'rowing', 'fishing', 'diving', 'spearfishing', 'swimming', 'others', 'others', 'surfing', 'surfing', 'diving', 'swimming', 'swimming', 'others', 'surfing', 'surfing', 'wading', 'standing', 'surfing', 'spearfishing', 'swimming', 'others', 'diving', 'fishing', 'swimming', 'swimming', 'others', 'surfing', 'windsurfing', 'spearfishing', 'floating', 'swimming', 'spearfishing', 'surfing', 'others', 'spearfishing', 'others', 'surfing', 'surfing', 'fishing', 'surfing', 'spearfishing', 'surfing', 'surfing', 'others', 'others', 'fishing', 'windsurfing', 'spearfishing', 'swimming', 'others', 'fishing', 'others', 'windsurfing', 'surfing', 'surfing', 'surfing', 'diving', 'diving', 'others', 'swimming', 'windsurfing', 'others', 'others', 'swimming', 'swimming', 'others', 'surfing', 'swimming', 'spearfishing', 'others', 'others', 'surfing', 'surfing', 'spearfishing', 'spearfishing', 'surfing', 'fishing', 'wading', 'swimming', 'swimming', 'diving', 'diving', 'swimming', 'fishing', 'surfing', 'others', 'swimming', 'spearfishing', 'others', 'diving', 'swimming', 'surfing', 'surfing', 'surfing', 'surfing', 'swimming', 'surfing', 'surfing', 'surfing', 'spearfishing', 'diving', 'others', 'snorkeling', 'swimming', 'surfing', 'spearfishing', 'others', 'fishing', 'spearfishing', 'diving', 'surfing', 'diving', 'diving', 'surfing', 'others', 'others', 'surfing', 'standing', 'surfing', 'diving', 'swimming', 'others', 'surfing', 'spearfishing', 'spearfishing', 'surf-skiing', 'diving', 'others', 'spearfishing', 'swimming', 'swimming', 'surfing', 'surfing', 'diving', 'wading', 'others', 'diving', 'surfing', 'standing', 'surfing', 'surfing', 'diving', 'surfing', 'spearfishing', 'others', 'surfing', 'diving', 'swimming', 'others', 'fishing', 'others', 'spearfishing', 'spearfishing', 'swimming', 'swimming', 'diving', 'others', 'spearfishing', 'swimming', 'spearfishing', 'diving', 'surfing', 'fishing', 'fishing', 'diving', 'swimming', 'others', 'kayaking', 'others', 'floating', 'spearfishing', 'diving', 'fishing', 'others', 'swimming', 'surfing', 'surfing', 'diving', 'others', 'spearfishing', 'others', 'fishing', 'others', 'spearfishing', 'surfing', 'surfing', 'spearfishing', 'diving', 'diving', 'wading', 'floating', 'others', 'fishing', 'surfing', 'surfing', 'diving', 'diving', 'diving', 'others', 'fishing', 'diving', 'surfing', 'surfing', 'swimming', 'others', 'surfing', 'surfing', 'fishing', 'standing', 'spearfishing', 'surfing', 'floating', 'fishing', 'diving', 'fishing', 'spearfishing', 'others', 'fishing', 'others', 'swimming', 'swimming', 'others', 'others', 'others', 'others', 'others', 'swimming', 'others', 'diving', 'others', 'surfing', 'fishing', 'others', 'surfing', 'surfing', 'others', 'others', 'others', 'swimming', 'swimming', 'surfing', 'others', 'surfing', 'spearfishing', 'others', 'diving', 'spearfishing', 'others', 'swimming', 'fishing', 'others', 'fishing', 'standing', 'fishing', 'others', 'others', 'others', 'fishing', 'others', 'fishing', 'spearfishing', 'spearfishing', 'diving', 'others', 'diving', 'others', 'standing', 'standing', 'others', 'surfing', 'surfing', 'others', 'surfing', 'floating', 'diving', 'swimming', 'others', 'diving', 'diving', 'surfing', 'diving', 'diving', 'swimming', 'spearfishing', 'surfing', 'swimming', 'standing', 'swimming', 'surfing', 'others', 'surfing', 'bathing', 'spearfishing', 'others', 'floating', 'diving', 'others', 'others', 'surfing', 'others', 'swimming', 'others', 'others', 'fishing', 'surfing', 'spearfishing', 'others', 'others', 'standing', 'surfing', 'diving', 'swimming', 'diving', 'diving', 'fishing', 'surfing', 'swimming', 'swimming', 'swimming', 'swimming', 'others', 'surfing', 'diving', 'swimming', 'others', 'swimming', 'diving', 'fishing', 'spearfishing', 'standing', 'swimming', 'surfing', 'surfing', 'fishing', 'swimming', 'swimming', 'fishing', 'fishing', 'others', 'diving', 'swimming', 'swimming', 'swimming', 'spearfishing', 'others', 'spearfishing', 'swimming', 'swimming', 'swimming', 'swimming', 'others', 'surfing', 'others', 'fishing', 'spearfishing', 'swimming', 'spearfishing', 'others', 'surfing', 'others', 'swimming', 'wading', 'others', 'spearfishing', 'spearfishing', 'swimming', 'fishing', 'surfing', 'diving', 'diving', 'surfing', 'others', 'swimming', 'surfing', 'swimming', 'others', 'others', 'spearfishing', 'spearfishing', 'surfing', 'diving', 'surfing', 'swimming', 'surfing', 'surfing', 'spearfishing', 'diving', 'others', 'others', 'surfing', 'diving', 'spearfishing', 'swimming', 'others', 'swimming', 'fishing', 'spearfishing', 'surfing', 'others', 'swimming', 'others', 'standing', 'swimming', 'others', 'others', 'swimming', 'others', 'swimming', 'others', 'surfing', 'swimming', 'diving', 'surfing', 'swimming', 'fishing', 'diving', 'wading', 'diving', 'surfing', 'diving', 'swimming', 'swimming', 'surfing', 'others', 'others', 'others', 'surfing', 'swimming', 'surfing', 'others', 'others', 'fishing', 'fishing', 'fishing', 'others', 'surfing', 'surfing', 'diving', 'spearfishing', 'floating', 'others', 'swimming', 'diving', 'fishing', 'diving', 'wading', 'wading', 'others', 'swimming', 'others', 'wading', 'wading', 'swimming', 'swimming', 'swimming', 'swimming', 'others', 'swimming', 'others', 'others', 'spearfishing', 'spearfishing', 'fishing', 'others', 'others', 'swimming', 'fishing', 'swimming', 'diving', 'others', 'diving', 'diving', 'floating', 'fishing', 'surfing', 'surfing', 'others', 'others', 'others', 'diving', 'wading', 'others', 'diving', 'others', 'fishing', 'others', 'surfing', 'fishing', 'others', 'others', 'others', 'others', 'surfing', 'others', 'spearfishing', 'fishing', 'others', 'others', 'spearfishing', 'others', 'spearfishing', 'others', 'standing', 'swimming', 'others', 'fishing', 'diving', 'wading', 'spearfishing', 'swimming', 'spearfishing', 'others', 'others', 'standing', 'others', 'others', 'swimming', 'others', 'wading', 'surfing', 'surfing', 'swimming', 'others', 'spearfishing', 'others', 'diving', 'swimming', 'swimming', 'surfing', 'others', 'swimming', 'others', 'others', 'others', 'others', 'others', 'swimming', 'standing', 'swimming', 'spearfishing', 'spearfishing', 'spearfishing', 'others', 'others', 'spearfishing', 'others', 'floating', 'others', 'spearfishing', 'others', 'others', 'snorkeling', 'spearfishing', 'spearfishing', 'fishing', 'others', 'others', 'fishing', 'others', 'spearfishing', 'spearfishing', 'others', 'others', 'swimming', 'fishing', 'spearfishing', 'swimming', 'others', 'fishing', 'spearfishing', 'spearfishing', 'wading', 'spearfishing', 'bathing', 'swimming', 'bathing', 'others', 'fishing', 'spearfishing', 'others', 'others', 'snorkeling', 'swimming', 'diving', 'swimming', 'diving', 'others', 'wading', 'diving', 'others', 'fishing', 'swimming', 'swimming', 'others', 'others', 'fishing', 'swimming', 'fishing', 'others', 'fishing', 'others', 'others', 'swimming', 'others', 'fishing', 'others', 'others', 'others', 'others', 'diving', 'spearfishing', 'others', 'standing', 'others', 'surfing', 'surfing', 'swimming', 'standing', 'others', 'fishing', 'fishing', 'others', 'surfing', 'others', 'others', 'others', 'others', 'wading', 'others', 'fishing', 'others', 'swimming', 'others', 'bathing', 'others', 'swimming', 'spearfishing', 'others', 'swimming', 'swimming', 'standing', 'diving', 'swimming', 'others', 'spearfishing', 'walking', 'others', 'diving', 'others', 'diving', 'others', 'surfing', 'swimming', 'diving', 'others', 'surfing', 'others', 'standing', 'standing', 'others', 'swimming', 'others', 'fishing', 'swimming', 'fishing', 'diving', 'swimming', 'others', 'fishing', 'fishing', 'swimming', 'swimming', 'swimming', 'swimming', 'floating', 'swimming', 'spearfishing', 'swimming', 'diving', 'others', 'others', 'spearfishing', 'others', 'standing', 'canoeing', 'others', 'fishing', 'fishing', 'spearfishing', 'standing', 'spearfishing', 'diving', 'fishing', 'surfing', 'others', 'diving', 'diving', 'fishing', 'diving', 'spearfishing', 'diving', 'spearfishing', 'others', 'others', 'swimming', 'rowing', 'floating', 'swimming', 'spearfishing', 'surfing', 'standing', 'others', 'others', 'spearfishing', 'fishing', 'swimming', 'diving', 'standing', 'swimming', 'others', 'swimming', 'others', 'fishing', 'spearfishing', 'others', 'spearfishing', 'spearfishing', 'others', 'fishing', 'fishing', 'others', 'spearfishing', 'others', 'others', 'wading', 'fishing', 'wading', 'fishing', 'spearfishing', 'others', 'surfing', 'others', 'others', 'spearfishing', 'bathing', 'others', 'fishing', 'standing', 'swimming', 'fishing', 'others', 'fishing', 'swimming', 'swimming', 'surfing', 'surfing', 'others', 'swimming', 'spearfishing', 'spearfishing', 'others', 'others', 'wading', 'fishing', 'fishing', 'fishing', 'others', 'spearfishing', 'fishing', 'others', 'fishing', 'diving', 'spearfishing', 'fishing', 'diving', 'spearfishing', 'fishing', 'others', 'spearfishing', 'wading', 'others', 'others', 'others', 'spearfishing', 'swimming', 'others', 'spearfishing', 'others', 'fishing', 'diving', 'others', 'fishing', 'fishing', 'standing', 'spearfishing', 'diving', 'others', 'standing', 'others', 'fishing', 'others', 'others', 'others', 'others', 'others', 'others', 'others', 'others', 'standing', 'fishing', 'others', 'diving', 'others', 'others', 'fishing', 'fishing', 'swimming', 'wading', 'fishing', 'others', 'fishing', 'swimming', 'swimming', 'swimming', 'fishing', 'swimming', 'others', 'swimming', 'swimming', 'others', 'spearfishing', 'fishing', 'spearfishing', 'spearfishing', 'spearfishing', 'surfing', 'fishing', 'spearfishing', 'fishing', 'fishing', 'rowing', 'surfing', 'fishing', 'fishing', 'fishing', 'others', 'others', 'diving', 'standing', 'standing', 'others', 'spearfishing', 'others', 'bathing', 'others', 'swimming', 'others', 'others', 'others', 'others', 'swimming', 'fishing', 'others', 'others', 'fishing', 'swimming', 'wading', 'spearfishing', 'others', 'others', 'spearfishing', 'swimming', 'fishing', 'spearfishing', 'fishing', 'diving', 'standing', 'spearfishing', 'spearfishing', 'others', 'diving', 'others', 'walking', 'spearfishing', 'spearfishing', 'swimming', 'diving', 'spearfishing', 'spearfishing', 'others', 'others', 'others', 'spearfishing', 'spearfishing', 'spearfishing', 'swimming', 'fishing', 'spearfishing', 'diving', 'fishing', 'floating', 'others', 'standing', 'others', 'others', 'swimming', 'others', 'fishing', 'swimming', 'others', 'standing', 'others', 'fishing', 'swimming', 'standing', 'others', 'fishing', 'swimming', 'spearfishing', 'diving', 'others', 'fishing', 'swimming', 'fishing', 'others', 'fishing', 'others', 'fishing', 'others', 'fishing', 'fishing', 'others', 'others', 'swimming', 'others', 'diving', 'others', 'others', 'standing', 'others', 'others', 'others', 'swimming', 'spearfishing', 'others', 'others', 'fishing', 'fishing', 'fishing', 'fishing', 'diving', 'diving', 'swimming', 'others', 'diving', 'swimming', 'others', 'others', 'others', 'others', 'others', 'fishing', 'surfing', 'others', 'spearfishing', 'others', 'fishing', 'fishing', 'others', 'fishing', 'others', 'others', 'fishing', 'spearfishing', 'fishing', 'spearfishing', 'fishing', 'spearfishing', 'others', 'others', 'others', 'diving', 'others', 'others', 'others', 'bathing', 'spearfishing', 'spearfishing', 'others', 'spearfishing', 'others', 'fishing', 'swimming', 'wading', 'others', 'fishing', 'swimming', 'others', 'others', 'others', 'fishing', 'others', 'surfing', 'standing', 'others', 'fishing', 'fishing', 'swimming', 'others', 'fishing', 'swimming', 'others', 'diving', 'others', 'spearfishing', 'swimming', 'others', 'others', 'others', 'others', 'fishing', 'spearfishing', 'fishing', 'fishing', 'spearfishing', 'fishing', 'swimming', 'standing', 'others', 'spearfishing', 'others', 'others', 'fishing', 'others', 'others', 'diving', 'others', 'wading', 'others', 'swimming', 'diving', 'spearfishing', 'others', 'others', 'spearfishing', 'others', 'diving', 'fishing', 'fishing', 'spearfishing', 'swimming', 'others', 'others', 'fishing', 'others', 'fishing', 'bathing', 'others', 'others', 'others', 'swimming', 'others', 'others', 'swimming', 'others', 'swimming', 'spearfishing', 'swimming', 'others', 'others', 'fishing', 'fishing', 'others', 'fishing', 'others', 'swimming', 'surfing', 'others', 'swimming', 'spearfishing', 'fishing', 'swimming', 'others', 'others', 'others', 'others', 'fishing', 'spearfishing', 'others', 'swimming', 'swimming', 'others', 'others', 'others', 'swimming', 'others', 'others', 'diving', 'swimming', 'others', 'others', 'wading', 'walking', 'others', 'diving', 'diving', 'others', 'swimming', 'others', 'spearfishing', 'spearfishing', 'surfing', 'swimming', 'spearfishing', 'others', 'others', 'others', 'spearfishing', 'spearfishing', 'others', 'fishing', 'walking', 'spearfishing', 'standing', 'others', 'floating', 'standing', 'surfing', 'others', 'fishing', 'others', 'others', 'others', 'others', 'spearfishing', 'swimming', 'diving', 'spearfishing', 'fishing', 'others', 'swimming', 'surfing', 'standing', 'swimming', 'diving', 'diving', 'spearfishing', 'floating', 'others', 'wading', 'bathing', 'fishing', 'fishing', 'diving', 'fishing', 'others', 'fishing', 'others', 'others', 'spearfishing', 'spearfishing', 'swimming', 'fishing', 'diving', 'others', 'others', 'fishing', 'fishing', 'others', 'fishing', 'diving', 'fishing', 'fishing', 'diving', 'diving', 'swimming', 'diving', 'others', 'others', 'fishing', 'fishing', 'fishing', 'floating', 'fishing', 'swimming', 'wading', 'swimming', 'fishing', 'fishing', 'others', 'fishing', 'others', 'diving', 'bathing', 'others', 'others', 'diving', 'swimming', 'diving', 'swimming', 'others', 'diving', 'others', 'swimming', 'others', 'others', 'others', 'others', 'others', 'fishing', 'swimming', 'spearfishing', 'spearfishing', 'others', 'others', 'others', 'swimming', 'others', 'fishing', 'surfing', 'swimming', 'swimming', 'fishing', 'others', 'fishing', 'others', 'wading', 'swimming', 'swimming', 'spearfishing', 'spearfishing', 'spearfishing', 'spearfishing', 'fishing', 'surfing', 'swimming', 'standing', 'diving', 'spearfishing', 'swimming', 'fishing', 'rowing', 'rowing', 'others', 'others', 'fishing', 'standing', 'spearfishing', 'others', 'swimming', 'swimming', 'swimming', 'swimming', 'spearfishing', 'others', 'fishing', 'swimming', 'swimming', 'others', 'spearfishing', 'spearfishing', 'spearfishing', 'standing', 'diving', 'swimming', 'others', 'swimming', 'swimming', 'others', 'diving', 'bathing', 'fishing', 'others', 'spearfishing', 'swimming', 'swimming', 'spearfishing', 'floating', 'others', 'others', 'others', 'diving', 'fishing', 'swimming', 'others', 'others', 'swimming', 'swimming', 'swimming', 'others', 'others', 'others', 'diving', 'others', 'fishing', 'others', 'wading', 'spearfishing', 'fishing', 'standing', 'others', 'fishing', 'others', 'others', 'others', 'others', 'swimming', 'others', 'swimming', 'spearfishing', 'spearfishing', 'others', 'others', 'others', 'spearfishing', 'spearfishing', 'fishing', 'fishing', 'spearfishing', 'others', 'standing', 'others', 'others', 'fishing', 'swimming', 'surfing', 'swimming', 'fishing', 'fishing', 'fishing', 'fishing', 'fishing', 'others', 'fishing', 'others', 'swimming', 'standing', 'standing', 'fishing', 'spearfishing', 'others', 'others', 'surfing', 'others', 'spearfishing', 'spearfishing', 'spearfishing', 'swimming', 'swimming', 'spearfishing', 'others', 'swimming', 'fishing', 'others', 'others', 'swimming', 'swimming', 'fishing', 'others', 'swimming', 'swimming', 'diving', 'bathing', 'others', 'others', 'fishing', 'spearfishing', 'diving', 'others', 'others', 'others', 'surfing', 'surfing', 'spearfishing', 'swimming', 'swimming', 'others', 'others', 'swimming', 'others', 'diving', 'surfing', 'others', 'surfing', 'fishing', 'fishing', 'diving', 'fishing', 'swimming', 'fishing', 'others', 'swimming', 'standing', 'swimming', 'others', 'others', 'fishing', 'fishing', 'others', 'wading', 'others', 'spearfishing', 'surfing', 'swimming', 'others', 'fishing', 'spearfishing', 'others', 'others', 'standing', 'bathing', 'swimming', 'diving', 'walking', 'others', 'others', 'others', 'others', 'diving', 'swimming', 'swimming', 'swimming', 'swimming', 'swimming', 'swimming', 'floating', 'fishing', 'fishing', 'bathing', 'others', 'fishing', 'bathing', 'bathing', 'others', 'others', 'others', 'others', 'others', 'others', 'spearfishing', 'swimming', 'swimming', 'swimming', 'others', 'others', 'others', 'fishing', 'others', 'diving', 'swimming', 'swimming', 'fishing', 'swimming', 'others', 'bathing', 'others', 'swimming', 'others', 'swimming', 'swimming', 'others', 'others', 'others', 'spearfishing', 'others', 'swimming', 'others', 'others', 'others', 'spearfishing', 'fishing', 'fishing', 'fishing', 'fishing', 'fishing', 'fishing', 'swimming', 'swimming', 'others', 'fishing', 'swimming', 'swimming', 'fishing', 'diving', 'swimming', 'fishing', 'fishing', 'swimming', 'others', 'surfing', 'surfing', 'others', 'wading', 'others', 'fishing', 'others', 'bathing', 'rowing', 'others', 'swimming', 'others', 'diving', 'fishing', 'swimming', 'fishing', 'swimming', 'others', 'swimming', 'bathing', 'swimming', 'swimming', 'fishing', 'fishing', 'others', 'standing', 'swimming', 'others', 'swimming', 'others', 'others', 'swimming', 'surfing', 'others', 'others', 'others', 'bathing', 'swimming', 'swimming', 'swimming', 'others', 'others', 'others', 'others', 'swimming', 'swimming', 'walking', 'swimming', 'diving', 'others', 'bathing', 'swimming', 'swimming', 'fishing', 'others', 'others', 'others', 'swimming', 'others', 'others', 'fishing', 'swimming', 'others', 'swimming', 'swimming', 'bathing', 'others', 'others', 'others', 'others', 'standing', 'others', 'others', 'bathing', 'surfing', 'fishing', 'surfing', 'swimming', 'others', 'others', 'others', 'others', 'others', 'swimming', 'others', 'others', 'swimming', 'others', 'fishing', 'fishing', 'others', 'others', 'others', 'others', 'swimming', 'others', 'others', 'others', 'others', 'swimming', 'swimming', 'swimming', 'spearfishing', 'standing', 'others', 'swimming', 'others', 'others', 'swimming', 'others', 'others', 'swimming', 'others', 'others', 'others', 'others', 'others', 'others', 'others', 'others', 'others', 'others', 'others', 'others', 'others', 'diving', 'others', 'others', 'swimming', 'surf-skiing', 'others', 'fishing', 'others', 'others', 'others', 'swimming', 'others', 'others', 'others', 'others', 'swimming', 'others', 'swimming', 'others', 'others', 'others', 'others', 'others', 'fishing', 'swimming', 'fishing', 'fishing', 'fishing', 'others', 'others', 'fishing', 'fishing', 'others', 'others', 'others', 'floating', 'standing', 'others', 'others', 'others', 'standing', 'others', 'standing', 'swimming', 'fishing', 'others', 'bathing', 'standing', 'standing', 'fishing', 'others', 'diving', 'swimming', 'canoeing', 'wading', 'others', 'swimming', 'swimming', 'swimming', 'diving', 'others', 'others', 'others', 'swimming', 'others', 'others', 'fishing', 'diving', 'spearfishing', 'diving', 'fishing', 'others', 'others', 'others', 'others', 'others', 'others', 'others', 'fishing', 'others', 'others', 'fishing', 'bathing', 'diving', 'swimming', 'swimming', 'fishing', 'swimming', 'fishing', 'swimming', 'fishing', 'others', 'diving', 'others', 'diving', 'fishing', 'others', 'bathing', 'wading', 'others', 'fishing', 'others', 'others', 'diving', 'surfing', 'fishing', 'diving', 'swimming', 'others', 'diving', 'others', 'swimming', 'swimming', 'swimming', 'others', 'fishing', 'others', 'fishing', 'rowing', 'diving', 'swimming', 'diving', 'others', 'fishing', 'swimming', 'fishing', 'swimming', 'swimming', 'swimming', 'fishing', 'fishing', 'others', 'others', 'others', 'others', 'fishing', 'swimming', 'fishing', 'spearfishing', 'others', 'swimming', 'floating', 'others', 'fishing', 'diving', 'fishing', 'swimming', 'fishing', 'diving', 'others', 'diving', 'swimming', 'diving', 'diving', 'fishing', 'rowing', 'diving', 'rowing', 'others', 'others', 'swimming', 'others', 'others', 'swimming', 'others', 'others', 'swimming', 'swimming', 'others', 'diving', 'fishing', 'swimming', 'fishing', 'fishing', 'others', 'others', 'others', 'diving', 'diving', 'others', 'diving', 'others', 'standing', 'others', 'surfing', 'swimming', 'standing', 'surfing', 'fishing', 'fishing', 'others', 'swimming', 'others', 'swimming', 'bathing', 'fishing', 'others', 'fishing', 'fishing', 'others', 'swimming', 'swimming', 'fishing', 'fishing', 'standing', 'surfing', 'swimming', 'swimming', 'swimming', 'swimming', 'fishing', 'others', 'others', 'fishing', 'swimming', 'swimming', 'diving', 'diving', 'diving', 'fishing', 'others', 'bathing', 'swimming', 'others', 'diving', 'others', 'standing', 'others', 'fishing', 'others', 'swimming', 'swimming', 'standing', 'diving', 'others', 'fishing', 'swimming', 'others', 'fishing', 'swimming', 'swimming', 'others', 'others', 'others', 'fishing', 'diving', 'standing', 'fishing', 'fishing', 'fishing', 'diving', 'diving', 'diving', 'standing', 'standing', 'swimming', 'fishing', 'others', 'swimming', 'fishing', 'others', 'diving', 'diving', 'swimming', 'swimming', 'swimming', 'fishing', 'swimming', 'swimming', 'swimming', 'swimming', 'others', 'swimming', 'swimming', 'others', 'others', 'others', 'others', 'others', 'fishing', 'fishing', 'others', 'others', 'diving', 'swimming', 'others', 'swimming', 'others', 'fishing', 'others', 'fishing', 'swimming', 'others', 'fishing', 'swimming', 'swimming', 'swimming', 'swimming', 'others', 'swimming', 'fishing', 'diving', 'diving', 'diving', 'others', 'fishing', 'swimming', 'swimming', 'others', 'swimming', 'diving', 'diving', 'bathing', 'diving', 'others', 'others', 'fishing', 'diving', 'fishing', 'others', 'bathing', 'swimming', 'fishing', 'diving', 'diving', 'diving', 'standing', 'others', 'swimming', 'swimming', 'bathing', 'others', 'others', 'surfing', 'canoeing', 'swimming', 'swimming', 'bathing', 'surfing', 'fishing', 'diving', 'others', 'fishing', 'others', 'diving', 'diving', 'fishing', 'others', 'others', 'swimming', 'fishing', 'diving', 'others', 'swimming', 'fishing', 'others', 'diving', 'bathing', 'standing', 'others', 'diving', 'swimming', 'swimming', 'others', 'others', 'surfing', 'standing', 'swimming', 'others', 'others', 'others', 'others', 'others', 'others', 'walking', 'diving', 'diving', 'surfing', 'others', 'others', 'fishing', 'surfing', 'swimming', 'swimming', 'swimming', 'diving', 'diving', 'diving', 'others', 'bathing', 'others', 'others', 'swimming', 'swimming', 'fishing', 'swimming', 'swimming', 'others', 'swimming', 'swimming', 'swimming', 'others', 'others', 'others', 'floating', 'floating', 'others', 'others', 'fishing', 'fishing', 'swimming', 'others', 'bathing', 'swimming', 'swimming', 'swimming', 'others', 'diving', 'others', 'others', 'bathing', 'diving', 'bathing', 'standing', 'fishing', 'fishing', 'others', 'swimming', 'others', 'swimming', 'fishing', 'bathing', 'swimming', 'swimming', 'swimming', 'swimming', 'standing', 'others', 'fishing', 'diving', 'fishing', 'diving', 'rowing', 'others', 'wading', 'others', 'diving', 'swimming', 'swimming', 'fishing', 'others', 'fishing', 'fishing', 'bathing', 'bathing', 'fishing', 'others', 'swimming', 'fishing', 'others', 'floating', 'swimming', 'swimming', 'swimming', 'fishing', 'standing', 'bathing', 'swimming', 'bathing', 'swimming', 'standing', 'surfing', 'swimming', 'others', 'wading', 'swimming', 'diving', 'diving', 'fishing', 'others', 'swimming', 'others', 'wading', 'others', 'standing', 'others', 'diving', 'swimming', 'others', 'swimming', 'diving', 'floating', 'diving', 'swimming', 'others', 'others', 'others', 'swimming', 'swimming', 'others', 'swimming', 'swimming', 'others', 'others', 'swimming', 'swimming', 'wading', 'wading', 'fishing', 'swimming', 'fishing', 'others', 'bathing', 'surfing', 'diving', 'swimming', 'others', 'others', 'others', 'swimming', 'diving', 'others', 'swimming', 'swimming', 'diving', 'diving', 'bathing', 'others', 'swimming', 'others', 'swimming', 'bathing', 'others', 'others', 'fishing', 'swimming', 'swimming', 'swimming', 'swimming', 'others', 'diving', 'bathing', 'swimming', 'swimming', 'swimming', 'others', 'others', 'swimming', 'rowing', 'bathing', 'diving', 'bathing', 'bathing', 'others', 'fishing', 'wading', 'diving', 'swimming', 'bathing', 'swimming', 'others', 'others', 'swimming', 'others', 'fishing', 'others', 'fishing', 'bathing', 'swimming', 'fishing', 'others', 'others', 'wading', 'canoeing', 'wading', 'fishing', 'others', 'others', 'swimming', 'others', 'others', 'others', 'swimming', 'fishing', 'others', 'others', 'diving', 'swimming', 'swimming', 'others', 'swimming', 'swimming', 'swimming', 'bathing', 'swimming', 'diving', 'swimming', 'swimming', 'swimming', 'others', 'others', 'bathing', 'others', 'others', 'diving', 'others', 'swimming', 'bathing', 'bathing', 'fishing', 'bathing', 'fishing', 'swimming', 'fishing', 'swimming', 'others', 'swimming', 'fishing', 'others', 'fishing', 'bathing', 'swimming', 'others', 'others', 'swimming', 'bathing', 'others', 'others', 'others', 'fishing', 'others', 'others', 'fishing', 'fishing', 'swimming', 'bathing', 'others', 'others', 'fishing', 'diving', 'others', 'swimming', 'swimming', 'others', 'fishing', 'others', 'others', 'others', 'others', 'others', 'others', 'others', 'bathing', 'bathing', 'fishing', 'fishing', 'bathing', 'others', 'swimming', 'swimming', 'swimming', 'wading', 'swimming', 'floating', 'bathing', 'others', 'fishing', 'others', 'standing', 'bathing', 'fishing', 'others', 'fishing', 'others', 'swimming', 'diving', 'swimming', 'swimming', 'swimming', 'swimming', 'fishing', 'diving', 'others', 'swimming', 'diving', 'others', 'diving', 'others', 'bathing', 'others', 'floating', 'swimming', 'fishing', 'swimming', 'bathing', 'wading', 'others', 'fishing', 'swimming', 'swimming', 'bathing', 'others', 'bathing', 'others', 'others', 'others', 'others', 'swimming', 'swimming', 'swimming', 'swimming', 'bathing', 'swimming', 'bathing', 'swimming', 'others', 'fishing', 'others', 'swimming', 'bathing', 'others', 'swimming', 'others', 'diving', 'fishing', 'swimming', 'swimming', 'fishing', 'swimming', 'fishing', 'others', 'fishing', 'swimming', 'others', 'diving', 'standing', 'others', 'swimming', 'bathing', 'others', 'swimming', 'swimming', 'swimming', 'bathing', 'bathing', 'bathing', 'swimming', 'swimming', 'floating', 'bathing', 'swimming', 'others', 'others', 'others', 'swimming', 'others', 'others', 'fishing', 'diving', 'diving', 'swimming', 'others', 'swimming', 'floating', 'bathing', 'bathing', 'others', 'fishing', 'bathing', 'others', 'rowing', 'others', 'others', 'others', 'diving', 'diving', 'others', 'swimming', 'swimming', 'standing', 'swimming', 'others', 'others', 'swimming', 'fishing', 'others', 'others', 'swimming', 'others', 'diving', 'others', 'others', 'fishing', 'fishing', 'standing', 'wading', 'others', 'swimming', 'fishing', 'others', 'fishing', 'bathing', 'others', 'swimming', 'others', 'diving', 'fishing', 'bathing', 'bathing', 'swimming', 'wading', 'bathing', 'diving', 'fishing', 'diving', 'fishing', 'swimming', 'fishing', 'others', 'diving', 'diving', 'others', 'others', 'others', 'swimming', 'swimming', 'swimming', 'swimming', 'others', 'others', 'fishing', 'bathing', 'swimming', 'bathing', 'others', 'fishing', 'swimming', 'fishing', 'swimming', 'bathing', 'others', 'bathing', 'bathing', 'others', 'others', 'others', 'others', 'others', 'others', 'swimming', 'swimming', 'bathing', 'others', 'others', 'fishing', 'swimming', 'others', 'others', 'bathing', 'others', 'others', 'fishing', 'diving', 'swimming', 'others', 'others', 'others', 'others', 'others', 'others', 'others', 'others', 'others', 'fishing', 'others', 'bathing', 'swimming', 'others', 'swimming', 'diving', 'fishing', 'wading', 'swimming', 'bathing', 'others', 'swimming', 'swimming', 'fishing', 'others', 'fishing', 'others', 'swimming', 'swimming', 'others', 'others', 'others', 'others', 'others', 'fishing', 'floating', 'rowing', 'others', 'diving', 'others', 'others', 'others', 'others', 'swimming', 'others', 'rowing', 'swimming', 'others', 'others', 'swimming', 'others', 'others', 'others', 'others', 'swimming', 'bathing', 'others', 'fishing', 'diving', 'diving', 'swimming', 'others', 'others', 'bathing', 'others', 'others', 'others', 'others', 'swimming', 'bathing', 'fishing', 'others', 'others', 'others', 'others', 'swimming', 'others', 'swimming', 'others', 'others', 'others', 'swimming', 'fishing', 'diving', 'diving', 'bathing', 'fishing', 'others', 'others', 'others', 'bathing', 'bathing', 'others', 'others', 'diving', 'fishing', 'diving', 'bathing', 'others', 'others', 'others', 'bathing', 'others', 'swimming', 'bathing', 'others', 'others', 'fishing', 'swimming', 'others', 'swimming', 'others', 'others', 'bathing', 'bathing', 'bathing', 'fishing', 'bathing', 'others', 'others', 'swimming', 'swimming', 'fishing', 'others', 'bathing', 'standing', 'floating', 'bathing', 'swimming', 'others', 'fishing', 'others', 'others', 'swimming', 'swimming', 'others', 'others', 'others', 'others', 'bathing', 'others', 'bathing', 'others', 'fishing', 'others', 'bathing', 'others', 'others', 'fishing', 'bathing', 'swimming', 'others', 'fishing', 'diving', 'bathing', 'swimming', 'bathing', 'diving', 'others', 'diving', 'others', 'fishing', 'bathing', 'bathing', 'others', 'fishing', 'fishing', 'fishing', 'bathing', 'bathing', 'others', 'others', 'others', 'fishing', 'others', 'bathing', 'fishing', 'bathing', 'swimming', 'swimming', 'others', 'canoeing', 'others', 'others', 'fishing', 'fishing', 'bathing', 'bathing', 'others', 'others', 'fishing', 'bathing', 'bathing', 'bathing', 'fishing', 'bathing', 'bathing', 'bathing', 'fishing', 'others', 'standing', 'others', 'fishing', 'swimming', 'bathing', 'swimming', 'others', 'others', 'others', 'others', 'bathing', 'swimming', 'bathing', 'fishing', 'others', 'others', 'others', 'others', 'swimming', 'others', 'bathing', 'others', 'others', 'others', 'others', 'standing', 'others', 'bathing', 'bathing', 'fishing', 'others', 'floating', 'bathing', 'others', 'others', 'others', 'swimming', 'swimming', 'others', 'bathing', 'swimming', 'others', 'swimming', 'others', 'bathing', 'others', 'others', 'bathing', 'others', 'bathing', 'swimming', 'bathing', 'bathing', 'fishing', 'swimming', 'swimming', 'bathing', 'others', 'others', 'others', 'bathing', 'bathing', 'swimming', 'others', 'swimming', 'swimming', 'swimming', 'swimming', 'swimming', 'others', 'bathing', 'others', 'others', 'swimming', 'swimming', 'diving', 'swimming', 'swimming', 'others', 'diving', 'others', 'fishing', 'others', 'others', 'swimming', 'swimming', 'others', 'swimming', 'wading', 'bathing', 'swimming', 'diving', 'swimming', 'bathing', 'others', 'bathing', 'swimming', 'swimming', 'others', 'bathing', 'swimming', 'standing', 'swimming', 'wading', 'swimming', 'others', 'others', 'others', 'others', 'others', 'others', 'others', 'bathing', 'fishing', 'bathing', 'others', 'others', 'others', 'others', 'others', 'swimming', 'others', 'others', 'swimming', 'others', 'others', 'others', 'bathing', 'swimming', 'others', 'others', 'swimming', 'others', 'others', 'others', 'others', 'bathing', 'bathing', 'others', 'swimming', 'bathing', 'others', 'swimming', 'fishing', 'bathing', 'others', 'fishing', 'others', 'bathing', 'others', 'others', 'others', 'bathing', 'surfing', 'swimming', 'swimming', 'others', 'others', 'bathing', 'others', 'others', 'swimming', 'others', 'others', 'swimming', 'swimming', 'swimming', 'others', 'swimming', 'swimming', 'others', 'others', 'swimming', 'bathing', 'others', 'others', 'others', 'others', 'others', 'standing', 'others', 'others', 'fishing', 'others', 'fishing', 'swimming', 'others', 'others', 'swimming', 'others', 'swimming', 'surfing', 'others', 'others', 'fishing', 'swimming', 'others', 'others', 'swimming', 'swimming', 'diving', 'swimming', 'swimming', 'swimming', 'swimming', 'others', 'bathing', 'bathing', 'swimming', 'others', 'diving', 'others', 'diving', 'others', 'others', 'others', 'others', 'others', 'fishing', 'diving', 'diving', 'others', 'swimming', 'swimming', 'swimming', 'swimming', 'others', 'others', 'diving', 'others', 'swimming', 'fishing', 'others', 'others', 'diving', 'snorkeling', 'others', 'surfing', 'others', 'diving', 'others', 'others', 'others', 'bathing', 'others', 'spearfishing', 'others', 'diving', 'fishing', 'swimming', 'diving', 'diving', 'spearfishing', 'others', 'others', 'diving', 'diving', 'fishing', 'diving', 'others', 'others', 'others', 'others', 'diving', 'diving', 'others', 'others', 'swimming', 'canoeing', 'others', 'diving', 'diving', 'swimming', 'spearfishing', 'others', 'swimming', 'fishing', 'swimming', 'swimming', 'others', 'others', 'spearfishing', 'swimming', 'bathing', 'standing', 'diving', 'swimming', 'others', 'others', 'others', 'swimming', 'diving', 'wading', 'others', 'others', 'floating', 'diving', 'fishing', 'others', 'others', 'swimming', 'diving', 'diving', 'diving', 'others', 'others', 'others', 'swimming', 'bathing', 'fishing', 'diving', 'standing', 'swimming', 'wading', 'diving', 'swimming', 'others', 'fishing', 'swimming', 'swimming', 'bathing', 'others', 'swimming', 'fishing', 'wading', 'swimming', 'others', 'fishing', 'fishing', 'fishing', 'swimming', 'diving', 'diving', 'swimming', 'others', 'swimming']\n"
     ]
    }
   ],
   "source": [
    "filtered_words = []\n",
    "values = mask_activity # We create a set with the most repeated Activities\n",
    "attacks['Activity'] = attacks['Activity'].astype(str) # ensure they have a str format\n",
    "\n",
    "for activity in attacks['Activity']:\n",
    "    words = activity.lower().split(\" \")  # Convert activity to lowercase and split by ' ' to iterate over the different words\n",
    "    found = False  # Create a boolean that will become true if we find a word of the set\n",
    "    \n",
    "    for word in words:\n",
    "        if word.strip() in [val.lower() for val in values]:  # Convert values to lowercase for comparison\n",
    "            filtered_words.append(word.strip())  # Append the matching word\n",
    "            found = True\n",
    "            break  # Exit the loop once a match is found\n",
    "    \n",
    "    if not found:\n",
    "        filtered_words.append('others')  # Append 'others' if no match is found in any word\n",
    "\n",
    "print(filtered_words)"
   ]
  },
  {
   "cell_type": "code",
   "execution_count": 83,
   "metadata": {},
   "outputs": [],
   "source": [
    "attacks['filtered_activities']= filtered_words # Create a new column with the filtered activities"
   ]
  },
  {
   "cell_type": "code",
   "execution_count": 84,
   "metadata": {},
   "outputs": [],
   "source": [
    "# I do a mapping that groups similar activities into the most common ones\n",
    "attacks[\"filtered_activities\"] = attacks[\"filtered_activities\"].replace({\n",
    "    \"surf\": \"surfing\",\n",
    "    \"spearfishing\": \"fishing\",\n",
    "    \"surf-skiing\": \"surfing\",\n",
    "    \"wading\": \"bathing\",\n",
    "    \"floating\": \"bathing\",\n",
    "    \"walking\": \"bathing\",\n",
    "    \"windsurfing\": \"surfing\",\n",
    "    \"surf-skiing\": \"surfing\",\n",
    "    \"freediving\": \"diving\",\n",
    "    \"freediving\": \"diving\",\n",
    "    \"snorkeling\": \"diving\",\n",
    "    \"snorkeling\": \"diving\",\n",
    "    \"standing\": \"surfing\",\n",
    "    \"boarding\": \"surfing\",\n",
    "    \"rowing\": \"kayaking\",\n",
    "    \"paddling\": \"kayaking\",\n",
    "    \"canoeing\":\"kayaking\"\n",
    "\n",
    "})"
   ]
  },
  {
   "cell_type": "code",
   "execution_count": 85,
   "metadata": {},
   "outputs": [
    {
     "data": {
      "text/plain": [
       "filtered_activities\n",
       "others      1525\n",
       "surfing     1190\n",
       "fishing      984\n",
       "swimming     974\n",
       "diving       529\n",
       "bathing      395\n",
       "kayaking      77\n",
       "Name: count, dtype: int64"
      ]
     },
     "execution_count": 85,
     "metadata": {},
     "output_type": "execute_result"
    }
   ],
   "source": [
    "attacks['filtered_activities'].value_counts() # See the value counts"
   ]
  },
  {
   "cell_type": "code",
   "execution_count": 86,
   "metadata": {},
   "outputs": [],
   "source": [
    "attacks.drop(columns=['Activity'], inplace=True) # We drop the old Activity column and replace it with the filtered one\n",
    "attacks.rename(columns={'filtered_activities': 'Activity'}, inplace=True)"
   ]
  },
  {
   "cell_type": "markdown",
   "metadata": {},
   "source": [
    "- To get a more compound insight from the activity column I will divide the data to Sports activity and Recreation activity"
   ]
  },
  {
   "cell_type": "code",
   "execution_count": 87,
   "metadata": {},
   "outputs": [],
   "source": [
    "attacks['Activity_type'] = 'Unknown'\n",
    "\n",
    "# List of sports activities\n",
    "sports_activities = ['kayaking', 'surfing', 'diving', 'fishing']\n",
    "\n",
    "# Loop through each row and check if 'Activity' is in sports_activities\n",
    "for index, row in attacks.iterrows():\n",
    "    if row['Activity'] in sports_activities:\n",
    "        attacks.at[index, 'Activity_type'] = 'sports activity'\n",
    "    else:\n",
    "        attacks.at[index, 'Activity_type'] = 'recreation activity' # If the word is not in sports then we assume is a recreatin activity such as swimming or bathing"
   ]
  },
  {
   "cell_type": "markdown",
   "metadata": {},
   "source": [
    "- Clean \"Sex\" variable"
   ]
  },
  {
   "cell_type": "code",
   "execution_count": 88,
   "metadata": {},
   "outputs": [],
   "source": [
    "attacks['Sex'] = attacks['Sex'].astype(str).str.strip()\n",
    "attacks = attacks [(attacks['Sex'] == 'M') | (attacks['Sex'] == 'F')]"
   ]
  },
  {
   "cell_type": "markdown",
   "metadata": {},
   "source": [
    "- Clean \"Age\" variable. This variable has a lot of not homogenic data, that is why the cleaning and transformation needs to be a bit more concious.\n",
    "  Different data types:\n",
    "   - \"Teen\"\n",
    "   - 40 - 50"
   ]
  },
  {
   "cell_type": "code",
   "execution_count": 89,
   "metadata": {},
   "outputs": [],
   "source": [
    "attacks[\"Age\"] = attacks[\"Age\"].replace({\n",
    "    \"Teen\": \"18\",\n",
    "    \"Teens\": \"18\",\n",
    "    \"adult\": \"25\",\n",
    "    \"(adult)\": \"25\",\n",
    "    \"6½\": \"21\",\n",
    "    \"30s\": \"30\",\n",
    "    \"60s\": \"60\",\n",
    "    \"60's\": \"60\",\n",
    "    \"20s\": \"20\",\n",
    "    \"18 months\": \"1\",\n",
    "    \"young\": \"12\",\n",
    "    \"mid-20s\":\"25\",\n",
    "    \"middle-age\": \"40\",\n",
    "    \"young\" : \"12\",\n",
    "    '9 months': \"1\",\n",
    "    \"2 to 3 months\": \"1\" }) # I do a mapping for those values that are using a string to show a Age frame"
   ]
  },
  {
   "cell_type": "code",
   "execution_count": 90,
   "metadata": {},
   "outputs": [],
   "source": [
    "# There are values that comprenhend between a range of Age, 40 - 50. For these cases I'm creating a function to take the first two number using Regex\n",
    "def extract_first_number(text):\n",
    "    text = str(text)\n",
    "    match = re.match(r'\\d+', text)\n",
    "    if match:\n",
    "        return int(match.group())\n",
    "    else:\n",
    "        return None"
   ]
  },
  {
   "cell_type": "code",
   "execution_count": 91,
   "metadata": {},
   "outputs": [],
   "source": [
    "attacks['Age'] = attacks['Age'].apply(lambda x: extract_first_number(x)) # I apply the function to the column and set the values to Int\n",
    "attacks['Age'] = attacks['Age'].astype('Int64')"
   ]
  },
  {
   "cell_type": "code",
   "execution_count": 92,
   "metadata": {},
   "outputs": [],
   "source": [
    "attacks = attacks [attacks ['Age'].notna()] # I filtter the df to just those values with a valid age"
   ]
  },
  {
   "cell_type": "code",
   "execution_count": 93,
   "metadata": {},
   "outputs": [],
   "source": [
    "# I now want to create a column that will group the Ages into generation groups\n",
    "attacks['Age_Group'] = 'Unknown' # Create the new column 'Age_Group' with default value 'Unknown'\n",
    "\n",
    "# I define the conditions and assign age groups accordingly\n",
    "attacks.loc[(attacks['Age'] >= 0) & (attacks['Age'] <= 12), 'Age_Group'] = 'young'\n",
    "attacks.loc[(attacks['Age'] > 12) & (attacks['Age'] <= 18), 'Age_Group'] = 'teenager'\n",
    "attacks.loc[(attacks['Age'] > 18) & (attacks['Age'] <= 30), 'Age_Group'] = 'young adult'\n",
    "attacks.loc[(attacks['Age'] > 30) & (attacks['Age'] <= 60), 'Age_Group'] = 'adult'\n",
    "attacks.loc[(attacks['Age'] > 60), 'Age_Group'] = 'elderly'"
   ]
  },
  {
   "cell_type": "markdown",
   "metadata": {},
   "source": [
    "- I follow a simir process to get ready the \"Time\" variable"
   ]
  },
  {
   "cell_type": "code",
   "execution_count": 94,
   "metadata": {},
   "outputs": [],
   "source": [
    "def clean_time(time_str): # I create a function to get the 5 characters once the first number is found\n",
    "    \n",
    "    if type(time_str) == str:\n",
    "        for i, char in enumerate(time_str): # Iterate over the characters in the string\n",
    "        # If the character is a number\n",
    "            if char.isdigit():\n",
    "            # I extract the time and get only the first two digits\n",
    "                 return time_str[i:i+3]\n",
    "    # If no time found, return None\n",
    "    pass\n",
    "\n",
    "attacks['Time'] = attacks['Time'].apply(clean_time) # I then apply the function to clean the 'Time' column"
   ]
  },
  {
   "cell_type": "code",
   "execution_count": 95,
   "metadata": {},
   "outputs": [],
   "source": [
    "# I have seen that it is easier to sort the column if I put the values as numbers.\n",
    "attacks['Time'] = attacks['Time'].str.extract(r'(\\d+)') # I first remove the \"h\" from hour"
   ]
  },
  {
   "cell_type": "code",
   "execution_count": 96,
   "metadata": {},
   "outputs": [],
   "source": [
    "# Now I want to clean the column from values that are not valid times\n",
    "def clean_time (text):\n",
    "    text = str(text)\n",
    "    match = re.match(r'^\\d{2}$', text) # I look to match the value with the 2 digits of the Time \n",
    "    if match:\n",
    "        return int(match.group()) # If this happens we turn the str to int\n",
    "    else:\n",
    "        return None\n",
    "\n",
    "attacks['Time'] = attacks['Time'].apply(clean_time)"
   ]
  },
  {
   "cell_type": "code",
   "execution_count": 97,
   "metadata": {},
   "outputs": [],
   "source": [
    "attacks = attacks.dropna(subset=['Time']) #I now drop the nan values\n",
    "attacks['Time'] = attacks['Time'].astype(int)"
   ]
  },
  {
   "cell_type": "markdown",
   "metadata": {},
   "source": [
    "- I create a new column that categorizes the day hours into day times"
   ]
  },
  {
   "cell_type": "code",
   "execution_count": 105,
   "metadata": {},
   "outputs": [],
   "source": [
    "attacks['Day_time'] = 'Unknown'\n",
    "\n",
    "# List of day times\n",
    "Morning = [6, 7, 8, 9, 10, 11, 12]\n",
    "Afternoon =  [13, 14, 15, 16, 17, 18]\n",
    "Evening = [18, 19, 20, 21]\n",
    "\n",
    "for index, row in attacks.iterrows():\n",
    "    if row['Time'] in Morning:\n",
    "        attacks.at[index, 'Day_time'] = 'Morning'\n",
    "    elif row['Time'] in Afternoon:\n",
    "        attacks.at[index, 'Day_time'] = 'Afternoon'\n",
    "    elif row['Time'] in Evening:\n",
    "        attacks.at[index, 'Day_time'] = 'Evening'\n",
    "    else:\n",
    "        attacks.at[index, 'Day_time'] = 'Night'"
   ]
  },
  {
   "cell_type": "markdown",
   "metadata": {},
   "source": [
    "- Change \"Year\" value to int64"
   ]
  },
  {
   "cell_type": "code",
   "execution_count": 108,
   "metadata": {},
   "outputs": [],
   "source": [
    "attacks['Year'] = attacks['Year'].astype('Int64')\n",
    "attacks_year = attacks [attacks ['Year'].notna()]"
   ]
  },
  {
   "cell_type": "code",
   "execution_count": 109,
   "metadata": {},
   "outputs": [
    {
     "data": {
      "text/html": [
       "<div>\n",
       "<style scoped>\n",
       "    .dataframe tbody tr th:only-of-type {\n",
       "        vertical-align: middle;\n",
       "    }\n",
       "\n",
       "    .dataframe tbody tr th {\n",
       "        vertical-align: top;\n",
       "    }\n",
       "\n",
       "    .dataframe thead th {\n",
       "        text-align: right;\n",
       "    }\n",
       "</style>\n",
       "<table border=\"1\" class=\"dataframe\">\n",
       "  <thead>\n",
       "    <tr style=\"text-align: right;\">\n",
       "      <th></th>\n",
       "      <th>Year</th>\n",
       "      <th>Country</th>\n",
       "      <th>Sex</th>\n",
       "      <th>Age</th>\n",
       "      <th>Fatal (Y/N)</th>\n",
       "      <th>Time</th>\n",
       "      <th>Activity</th>\n",
       "      <th>Activity_type</th>\n",
       "      <th>Age_Group</th>\n",
       "      <th>Day_time</th>\n",
       "    </tr>\n",
       "  </thead>\n",
       "  <tbody>\n",
       "    <tr>\n",
       "      <th>0</th>\n",
       "      <td>2018</td>\n",
       "      <td>USA</td>\n",
       "      <td>F</td>\n",
       "      <td>57</td>\n",
       "      <td>N</td>\n",
       "      <td>18</td>\n",
       "      <td>others</td>\n",
       "      <td>recreation activity</td>\n",
       "      <td>adult</td>\n",
       "      <td>Afternoon</td>\n",
       "    </tr>\n",
       "    <tr>\n",
       "      <th>1</th>\n",
       "      <td>2018</td>\n",
       "      <td>USA</td>\n",
       "      <td>F</td>\n",
       "      <td>11</td>\n",
       "      <td>N</td>\n",
       "      <td>14</td>\n",
       "      <td>surfing</td>\n",
       "      <td>sports activity</td>\n",
       "      <td>young</td>\n",
       "      <td>Afternoon</td>\n",
       "    </tr>\n",
       "    <tr>\n",
       "      <th>2</th>\n",
       "      <td>2018</td>\n",
       "      <td>USA</td>\n",
       "      <td>M</td>\n",
       "      <td>48</td>\n",
       "      <td>N</td>\n",
       "      <td>7</td>\n",
       "      <td>surfing</td>\n",
       "      <td>sports activity</td>\n",
       "      <td>adult</td>\n",
       "      <td>Morning</td>\n",
       "    </tr>\n",
       "    <tr>\n",
       "      <th>8</th>\n",
       "      <td>2018</td>\n",
       "      <td>USA</td>\n",
       "      <td>M</td>\n",
       "      <td>15</td>\n",
       "      <td>N</td>\n",
       "      <td>17</td>\n",
       "      <td>bathing</td>\n",
       "      <td>recreation activity</td>\n",
       "      <td>teenager</td>\n",
       "      <td>Afternoon</td>\n",
       "    </tr>\n",
       "    <tr>\n",
       "      <th>9</th>\n",
       "      <td>2018</td>\n",
       "      <td>USA</td>\n",
       "      <td>M</td>\n",
       "      <td>12</td>\n",
       "      <td>N</td>\n",
       "      <td>14</td>\n",
       "      <td>surfing</td>\n",
       "      <td>sports activity</td>\n",
       "      <td>young</td>\n",
       "      <td>Afternoon</td>\n",
       "    </tr>\n",
       "  </tbody>\n",
       "</table>\n",
       "</div>"
      ],
      "text/plain": [
       "   Year Country Sex  Age Fatal (Y/N)  Time Activity        Activity_type  \\\n",
       "0  2018     USA   F   57           N    18   others  recreation activity   \n",
       "1  2018     USA   F   11           N    14  surfing      sports activity   \n",
       "2  2018     USA   M   48           N     7  surfing      sports activity   \n",
       "8  2018     USA   M   15           N    17  bathing  recreation activity   \n",
       "9  2018     USA   M   12           N    14  surfing      sports activity   \n",
       "\n",
       "  Age_Group   Day_time  \n",
       "0     adult  Afternoon  \n",
       "1     young  Afternoon  \n",
       "2     adult    Morning  \n",
       "8  teenager  Afternoon  \n",
       "9     young  Afternoon  "
      ]
     },
     "execution_count": 109,
     "metadata": {},
     "output_type": "execute_result"
    }
   ],
   "source": [
    "attacks.head()"
   ]
  },
  {
   "cell_type": "code",
   "execution_count": 112,
   "metadata": {},
   "outputs": [
    {
     "data": {
      "text/plain": [
       "Year             0\n",
       "Country          0\n",
       "Sex              0\n",
       "Age              0\n",
       "Fatal (Y/N)      0\n",
       "Time             0\n",
       "Activity         0\n",
       "Activity_type    0\n",
       "Age_Group        0\n",
       "Day_time         0\n",
       "dtype: int64"
      ]
     },
     "execution_count": 112,
     "metadata": {},
     "output_type": "execute_result"
    }
   ],
   "source": [
    "attacks.isna().sum()"
   ]
  },
  {
   "cell_type": "markdown",
   "metadata": {},
   "source": [
    "# Data Analysis"
   ]
  },
  {
   "cell_type": "code",
   "execution_count": 138,
   "metadata": {},
   "outputs": [],
   "source": [
    "selected_period = attacks[attacks['Year'] >= 1995]\n",
    "attacks_year = selected_period['Year'].value_counts().reset_index()\n",
    "attacks_year.columns = ['Year', 'Number of Attacks']\n",
    "attacks_year = attacks_year.sort_values(by='Year')"
   ]
  },
  {
   "cell_type": "code",
   "execution_count": 289,
   "metadata": {},
   "outputs": [
    {
     "data": {
      "application/vnd.plotly.v1+json": {
       "config": {
        "plotlyServerURL": "https://plot.ly"
       },
       "data": [
        {
         "alignmentgroup": "True",
         "hovertemplate": "Year=%{x}<br>Number of Attacks=%{y}<extra></extra>",
         "legendgroup": "",
         "marker": {
          "color": "rgb(136, 204, 238)",
          "pattern": {
           "shape": ""
          }
         },
         "name": "",
         "offsetgroup": "",
         "orientation": "v",
         "showlegend": false,
         "textposition": "auto",
         "type": "bar",
         "x": [
          1995,
          1996,
          1997,
          1998,
          1999,
          2000,
          2001,
          2002,
          2003,
          2004,
          2005,
          2006,
          2007,
          2008,
          2009,
          2010,
          2011,
          2012,
          2013,
          2014,
          2015,
          2016,
          2017,
          2018
         ],
         "xaxis": "x",
         "y": [
          25,
          25,
          23,
          24,
          30,
          44,
          44,
          58,
          45,
          45,
          49,
          53,
          58,
          57,
          53,
          50,
          54,
          67,
          66,
          45,
          77,
          62,
          57,
          22
         ],
         "yaxis": "y"
        }
       ],
       "layout": {
        "barmode": "relative",
        "legend": {
         "tracegroupgap": 0
        },
        "template": {
         "data": {
          "bar": [
           {
            "error_x": {
             "color": "#2a3f5f"
            },
            "error_y": {
             "color": "#2a3f5f"
            },
            "marker": {
             "line": {
              "color": "#E5ECF6",
              "width": 0.5
             },
             "pattern": {
              "fillmode": "overlay",
              "size": 10,
              "solidity": 0.2
             }
            },
            "type": "bar"
           }
          ],
          "barpolar": [
           {
            "marker": {
             "line": {
              "color": "#E5ECF6",
              "width": 0.5
             },
             "pattern": {
              "fillmode": "overlay",
              "size": 10,
              "solidity": 0.2
             }
            },
            "type": "barpolar"
           }
          ],
          "carpet": [
           {
            "aaxis": {
             "endlinecolor": "#2a3f5f",
             "gridcolor": "white",
             "linecolor": "white",
             "minorgridcolor": "white",
             "startlinecolor": "#2a3f5f"
            },
            "baxis": {
             "endlinecolor": "#2a3f5f",
             "gridcolor": "white",
             "linecolor": "white",
             "minorgridcolor": "white",
             "startlinecolor": "#2a3f5f"
            },
            "type": "carpet"
           }
          ],
          "choropleth": [
           {
            "colorbar": {
             "outlinewidth": 0,
             "ticks": ""
            },
            "type": "choropleth"
           }
          ],
          "contour": [
           {
            "colorbar": {
             "outlinewidth": 0,
             "ticks": ""
            },
            "colorscale": [
             [
              0,
              "#0d0887"
             ],
             [
              0.1111111111111111,
              "#46039f"
             ],
             [
              0.2222222222222222,
              "#7201a8"
             ],
             [
              0.3333333333333333,
              "#9c179e"
             ],
             [
              0.4444444444444444,
              "#bd3786"
             ],
             [
              0.5555555555555556,
              "#d8576b"
             ],
             [
              0.6666666666666666,
              "#ed7953"
             ],
             [
              0.7777777777777778,
              "#fb9f3a"
             ],
             [
              0.8888888888888888,
              "#fdca26"
             ],
             [
              1,
              "#f0f921"
             ]
            ],
            "type": "contour"
           }
          ],
          "contourcarpet": [
           {
            "colorbar": {
             "outlinewidth": 0,
             "ticks": ""
            },
            "type": "contourcarpet"
           }
          ],
          "heatmap": [
           {
            "colorbar": {
             "outlinewidth": 0,
             "ticks": ""
            },
            "colorscale": [
             [
              0,
              "#0d0887"
             ],
             [
              0.1111111111111111,
              "#46039f"
             ],
             [
              0.2222222222222222,
              "#7201a8"
             ],
             [
              0.3333333333333333,
              "#9c179e"
             ],
             [
              0.4444444444444444,
              "#bd3786"
             ],
             [
              0.5555555555555556,
              "#d8576b"
             ],
             [
              0.6666666666666666,
              "#ed7953"
             ],
             [
              0.7777777777777778,
              "#fb9f3a"
             ],
             [
              0.8888888888888888,
              "#fdca26"
             ],
             [
              1,
              "#f0f921"
             ]
            ],
            "type": "heatmap"
           }
          ],
          "heatmapgl": [
           {
            "colorbar": {
             "outlinewidth": 0,
             "ticks": ""
            },
            "colorscale": [
             [
              0,
              "#0d0887"
             ],
             [
              0.1111111111111111,
              "#46039f"
             ],
             [
              0.2222222222222222,
              "#7201a8"
             ],
             [
              0.3333333333333333,
              "#9c179e"
             ],
             [
              0.4444444444444444,
              "#bd3786"
             ],
             [
              0.5555555555555556,
              "#d8576b"
             ],
             [
              0.6666666666666666,
              "#ed7953"
             ],
             [
              0.7777777777777778,
              "#fb9f3a"
             ],
             [
              0.8888888888888888,
              "#fdca26"
             ],
             [
              1,
              "#f0f921"
             ]
            ],
            "type": "heatmapgl"
           }
          ],
          "histogram": [
           {
            "marker": {
             "pattern": {
              "fillmode": "overlay",
              "size": 10,
              "solidity": 0.2
             }
            },
            "type": "histogram"
           }
          ],
          "histogram2d": [
           {
            "colorbar": {
             "outlinewidth": 0,
             "ticks": ""
            },
            "colorscale": [
             [
              0,
              "#0d0887"
             ],
             [
              0.1111111111111111,
              "#46039f"
             ],
             [
              0.2222222222222222,
              "#7201a8"
             ],
             [
              0.3333333333333333,
              "#9c179e"
             ],
             [
              0.4444444444444444,
              "#bd3786"
             ],
             [
              0.5555555555555556,
              "#d8576b"
             ],
             [
              0.6666666666666666,
              "#ed7953"
             ],
             [
              0.7777777777777778,
              "#fb9f3a"
             ],
             [
              0.8888888888888888,
              "#fdca26"
             ],
             [
              1,
              "#f0f921"
             ]
            ],
            "type": "histogram2d"
           }
          ],
          "histogram2dcontour": [
           {
            "colorbar": {
             "outlinewidth": 0,
             "ticks": ""
            },
            "colorscale": [
             [
              0,
              "#0d0887"
             ],
             [
              0.1111111111111111,
              "#46039f"
             ],
             [
              0.2222222222222222,
              "#7201a8"
             ],
             [
              0.3333333333333333,
              "#9c179e"
             ],
             [
              0.4444444444444444,
              "#bd3786"
             ],
             [
              0.5555555555555556,
              "#d8576b"
             ],
             [
              0.6666666666666666,
              "#ed7953"
             ],
             [
              0.7777777777777778,
              "#fb9f3a"
             ],
             [
              0.8888888888888888,
              "#fdca26"
             ],
             [
              1,
              "#f0f921"
             ]
            ],
            "type": "histogram2dcontour"
           }
          ],
          "mesh3d": [
           {
            "colorbar": {
             "outlinewidth": 0,
             "ticks": ""
            },
            "type": "mesh3d"
           }
          ],
          "parcoords": [
           {
            "line": {
             "colorbar": {
              "outlinewidth": 0,
              "ticks": ""
             }
            },
            "type": "parcoords"
           }
          ],
          "pie": [
           {
            "automargin": true,
            "type": "pie"
           }
          ],
          "scatter": [
           {
            "fillpattern": {
             "fillmode": "overlay",
             "size": 10,
             "solidity": 0.2
            },
            "type": "scatter"
           }
          ],
          "scatter3d": [
           {
            "line": {
             "colorbar": {
              "outlinewidth": 0,
              "ticks": ""
             }
            },
            "marker": {
             "colorbar": {
              "outlinewidth": 0,
              "ticks": ""
             }
            },
            "type": "scatter3d"
           }
          ],
          "scattercarpet": [
           {
            "marker": {
             "colorbar": {
              "outlinewidth": 0,
              "ticks": ""
             }
            },
            "type": "scattercarpet"
           }
          ],
          "scattergeo": [
           {
            "marker": {
             "colorbar": {
              "outlinewidth": 0,
              "ticks": ""
             }
            },
            "type": "scattergeo"
           }
          ],
          "scattergl": [
           {
            "marker": {
             "colorbar": {
              "outlinewidth": 0,
              "ticks": ""
             }
            },
            "type": "scattergl"
           }
          ],
          "scattermapbox": [
           {
            "marker": {
             "colorbar": {
              "outlinewidth": 0,
              "ticks": ""
             }
            },
            "type": "scattermapbox"
           }
          ],
          "scatterpolar": [
           {
            "marker": {
             "colorbar": {
              "outlinewidth": 0,
              "ticks": ""
             }
            },
            "type": "scatterpolar"
           }
          ],
          "scatterpolargl": [
           {
            "marker": {
             "colorbar": {
              "outlinewidth": 0,
              "ticks": ""
             }
            },
            "type": "scatterpolargl"
           }
          ],
          "scatterternary": [
           {
            "marker": {
             "colorbar": {
              "outlinewidth": 0,
              "ticks": ""
             }
            },
            "type": "scatterternary"
           }
          ],
          "surface": [
           {
            "colorbar": {
             "outlinewidth": 0,
             "ticks": ""
            },
            "colorscale": [
             [
              0,
              "#0d0887"
             ],
             [
              0.1111111111111111,
              "#46039f"
             ],
             [
              0.2222222222222222,
              "#7201a8"
             ],
             [
              0.3333333333333333,
              "#9c179e"
             ],
             [
              0.4444444444444444,
              "#bd3786"
             ],
             [
              0.5555555555555556,
              "#d8576b"
             ],
             [
              0.6666666666666666,
              "#ed7953"
             ],
             [
              0.7777777777777778,
              "#fb9f3a"
             ],
             [
              0.8888888888888888,
              "#fdca26"
             ],
             [
              1,
              "#f0f921"
             ]
            ],
            "type": "surface"
           }
          ],
          "table": [
           {
            "cells": {
             "fill": {
              "color": "#EBF0F8"
             },
             "line": {
              "color": "white"
             }
            },
            "header": {
             "fill": {
              "color": "#C8D4E3"
             },
             "line": {
              "color": "white"
             }
            },
            "type": "table"
           }
          ]
         },
         "layout": {
          "annotationdefaults": {
           "arrowcolor": "#2a3f5f",
           "arrowhead": 0,
           "arrowwidth": 1
          },
          "autotypenumbers": "strict",
          "coloraxis": {
           "colorbar": {
            "outlinewidth": 0,
            "ticks": ""
           }
          },
          "colorscale": {
           "diverging": [
            [
             0,
             "#8e0152"
            ],
            [
             0.1,
             "#c51b7d"
            ],
            [
             0.2,
             "#de77ae"
            ],
            [
             0.3,
             "#f1b6da"
            ],
            [
             0.4,
             "#fde0ef"
            ],
            [
             0.5,
             "#f7f7f7"
            ],
            [
             0.6,
             "#e6f5d0"
            ],
            [
             0.7,
             "#b8e186"
            ],
            [
             0.8,
             "#7fbc41"
            ],
            [
             0.9,
             "#4d9221"
            ],
            [
             1,
             "#276419"
            ]
           ],
           "sequential": [
            [
             0,
             "#0d0887"
            ],
            [
             0.1111111111111111,
             "#46039f"
            ],
            [
             0.2222222222222222,
             "#7201a8"
            ],
            [
             0.3333333333333333,
             "#9c179e"
            ],
            [
             0.4444444444444444,
             "#bd3786"
            ],
            [
             0.5555555555555556,
             "#d8576b"
            ],
            [
             0.6666666666666666,
             "#ed7953"
            ],
            [
             0.7777777777777778,
             "#fb9f3a"
            ],
            [
             0.8888888888888888,
             "#fdca26"
            ],
            [
             1,
             "#f0f921"
            ]
           ],
           "sequentialminus": [
            [
             0,
             "#0d0887"
            ],
            [
             0.1111111111111111,
             "#46039f"
            ],
            [
             0.2222222222222222,
             "#7201a8"
            ],
            [
             0.3333333333333333,
             "#9c179e"
            ],
            [
             0.4444444444444444,
             "#bd3786"
            ],
            [
             0.5555555555555556,
             "#d8576b"
            ],
            [
             0.6666666666666666,
             "#ed7953"
            ],
            [
             0.7777777777777778,
             "#fb9f3a"
            ],
            [
             0.8888888888888888,
             "#fdca26"
            ],
            [
             1,
             "#f0f921"
            ]
           ]
          },
          "colorway": [
           "#636efa",
           "#EF553B",
           "#00cc96",
           "#ab63fa",
           "#FFA15A",
           "#19d3f3",
           "#FF6692",
           "#B6E880",
           "#FF97FF",
           "#FECB52"
          ],
          "font": {
           "color": "#2a3f5f"
          },
          "geo": {
           "bgcolor": "white",
           "lakecolor": "white",
           "landcolor": "#E5ECF6",
           "showlakes": true,
           "showland": true,
           "subunitcolor": "white"
          },
          "hoverlabel": {
           "align": "left"
          },
          "hovermode": "closest",
          "mapbox": {
           "style": "light"
          },
          "paper_bgcolor": "white",
          "plot_bgcolor": "#E5ECF6",
          "polar": {
           "angularaxis": {
            "gridcolor": "white",
            "linecolor": "white",
            "ticks": ""
           },
           "bgcolor": "#E5ECF6",
           "radialaxis": {
            "gridcolor": "white",
            "linecolor": "white",
            "ticks": ""
           }
          },
          "scene": {
           "xaxis": {
            "backgroundcolor": "#E5ECF6",
            "gridcolor": "white",
            "gridwidth": 2,
            "linecolor": "white",
            "showbackground": true,
            "ticks": "",
            "zerolinecolor": "white"
           },
           "yaxis": {
            "backgroundcolor": "#E5ECF6",
            "gridcolor": "white",
            "gridwidth": 2,
            "linecolor": "white",
            "showbackground": true,
            "ticks": "",
            "zerolinecolor": "white"
           },
           "zaxis": {
            "backgroundcolor": "#E5ECF6",
            "gridcolor": "white",
            "gridwidth": 2,
            "linecolor": "white",
            "showbackground": true,
            "ticks": "",
            "zerolinecolor": "white"
           }
          },
          "shapedefaults": {
           "line": {
            "color": "#2a3f5f"
           }
          },
          "ternary": {
           "aaxis": {
            "gridcolor": "white",
            "linecolor": "white",
            "ticks": ""
           },
           "baxis": {
            "gridcolor": "white",
            "linecolor": "white",
            "ticks": ""
           },
           "bgcolor": "#E5ECF6",
           "caxis": {
            "gridcolor": "white",
            "linecolor": "white",
            "ticks": ""
           }
          },
          "title": {
           "x": 0.05
          },
          "xaxis": {
           "automargin": true,
           "gridcolor": "white",
           "linecolor": "white",
           "ticks": "",
           "title": {
            "standoff": 15
           },
           "zerolinecolor": "white",
           "zerolinewidth": 2
          },
          "yaxis": {
           "automargin": true,
           "gridcolor": "white",
           "linecolor": "white",
           "ticks": "",
           "title": {
            "standoff": 15
           },
           "zerolinecolor": "white",
           "zerolinewidth": 2
          }
         }
        },
        "title": {
         "text": "Number of Shark Attacks per Year since 1995"
        },
        "xaxis": {
         "anchor": "y",
         "domain": [
          0,
          1
         ],
         "title": {
          "text": "Year"
         }
        },
        "yaxis": {
         "anchor": "x",
         "domain": [
          0,
          1
         ],
         "title": {
          "text": "Number of Attacks"
         }
        }
       }
      }
     },
     "metadata": {},
     "output_type": "display_data"
    }
   ],
   "source": [
    "custom_palette = px.colors.qualitative.Safe\n",
    "fig = px.bar(attacks_year, x='Year', y='Number of Attacks', title='Number of Shark Attacks per Year since 1995',\n",
    "             labels={'Year': 'Year', 'Number of Attacks': 'Number of Attacks'}, color_discrete_sequence=custom_palette)\n",
    "fig.show()"
   ]
  },
  {
   "cell_type": "markdown",
   "metadata": {},
   "source": [
    "## `Hypothesy 1`"
   ]
  },
  {
   "cell_type": "markdown",
   "metadata": {},
   "source": [
    "**Surfers are the most vulnerable to attacks:** Sharks find it easier to prey on surfers due to their active movements and proximity to the ocean's surface, making them more accessible targets."
   ]
  },
  {
   "cell_type": "code",
   "execution_count": 258,
   "metadata": {},
   "outputs": [
    {
     "data": {
      "application/vnd.plotly.v1+json": {
       "config": {
        "plotlyServerURL": "https://plot.ly"
       },
       "data": [
        {
         "alignmentgroup": "True",
         "hovertemplate": "Number of Attacks=%{x}<br>Activity=%{y}<extra></extra>",
         "legendgroup": "",
         "marker": {
          "color": "rgb(136, 204, 238)",
          "pattern": {
           "shape": ""
          }
         },
         "name": "",
         "offsetgroup": "",
         "orientation": "h",
         "showlegend": false,
         "textposition": "auto",
         "type": "bar",
         "x": [
          209,
          83,
          74,
          50,
          43,
          33,
          8
         ],
         "xaxis": "x",
         "y": [
          "surfing",
          "others",
          "swimming",
          "diving",
          "fishing",
          "bathing",
          "kayaking"
         ],
         "yaxis": "y"
        }
       ],
       "layout": {
        "barmode": "relative",
        "legend": {
         "tracegroupgap": 0
        },
        "template": {
         "data": {
          "bar": [
           {
            "error_x": {
             "color": "#2a3f5f"
            },
            "error_y": {
             "color": "#2a3f5f"
            },
            "marker": {
             "line": {
              "color": "#E5ECF6",
              "width": 0.5
             },
             "pattern": {
              "fillmode": "overlay",
              "size": 10,
              "solidity": 0.2
             }
            },
            "type": "bar"
           }
          ],
          "barpolar": [
           {
            "marker": {
             "line": {
              "color": "#E5ECF6",
              "width": 0.5
             },
             "pattern": {
              "fillmode": "overlay",
              "size": 10,
              "solidity": 0.2
             }
            },
            "type": "barpolar"
           }
          ],
          "carpet": [
           {
            "aaxis": {
             "endlinecolor": "#2a3f5f",
             "gridcolor": "white",
             "linecolor": "white",
             "minorgridcolor": "white",
             "startlinecolor": "#2a3f5f"
            },
            "baxis": {
             "endlinecolor": "#2a3f5f",
             "gridcolor": "white",
             "linecolor": "white",
             "minorgridcolor": "white",
             "startlinecolor": "#2a3f5f"
            },
            "type": "carpet"
           }
          ],
          "choropleth": [
           {
            "colorbar": {
             "outlinewidth": 0,
             "ticks": ""
            },
            "type": "choropleth"
           }
          ],
          "contour": [
           {
            "colorbar": {
             "outlinewidth": 0,
             "ticks": ""
            },
            "colorscale": [
             [
              0,
              "#0d0887"
             ],
             [
              0.1111111111111111,
              "#46039f"
             ],
             [
              0.2222222222222222,
              "#7201a8"
             ],
             [
              0.3333333333333333,
              "#9c179e"
             ],
             [
              0.4444444444444444,
              "#bd3786"
             ],
             [
              0.5555555555555556,
              "#d8576b"
             ],
             [
              0.6666666666666666,
              "#ed7953"
             ],
             [
              0.7777777777777778,
              "#fb9f3a"
             ],
             [
              0.8888888888888888,
              "#fdca26"
             ],
             [
              1,
              "#f0f921"
             ]
            ],
            "type": "contour"
           }
          ],
          "contourcarpet": [
           {
            "colorbar": {
             "outlinewidth": 0,
             "ticks": ""
            },
            "type": "contourcarpet"
           }
          ],
          "heatmap": [
           {
            "colorbar": {
             "outlinewidth": 0,
             "ticks": ""
            },
            "colorscale": [
             [
              0,
              "#0d0887"
             ],
             [
              0.1111111111111111,
              "#46039f"
             ],
             [
              0.2222222222222222,
              "#7201a8"
             ],
             [
              0.3333333333333333,
              "#9c179e"
             ],
             [
              0.4444444444444444,
              "#bd3786"
             ],
             [
              0.5555555555555556,
              "#d8576b"
             ],
             [
              0.6666666666666666,
              "#ed7953"
             ],
             [
              0.7777777777777778,
              "#fb9f3a"
             ],
             [
              0.8888888888888888,
              "#fdca26"
             ],
             [
              1,
              "#f0f921"
             ]
            ],
            "type": "heatmap"
           }
          ],
          "heatmapgl": [
           {
            "colorbar": {
             "outlinewidth": 0,
             "ticks": ""
            },
            "colorscale": [
             [
              0,
              "#0d0887"
             ],
             [
              0.1111111111111111,
              "#46039f"
             ],
             [
              0.2222222222222222,
              "#7201a8"
             ],
             [
              0.3333333333333333,
              "#9c179e"
             ],
             [
              0.4444444444444444,
              "#bd3786"
             ],
             [
              0.5555555555555556,
              "#d8576b"
             ],
             [
              0.6666666666666666,
              "#ed7953"
             ],
             [
              0.7777777777777778,
              "#fb9f3a"
             ],
             [
              0.8888888888888888,
              "#fdca26"
             ],
             [
              1,
              "#f0f921"
             ]
            ],
            "type": "heatmapgl"
           }
          ],
          "histogram": [
           {
            "marker": {
             "pattern": {
              "fillmode": "overlay",
              "size": 10,
              "solidity": 0.2
             }
            },
            "type": "histogram"
           }
          ],
          "histogram2d": [
           {
            "colorbar": {
             "outlinewidth": 0,
             "ticks": ""
            },
            "colorscale": [
             [
              0,
              "#0d0887"
             ],
             [
              0.1111111111111111,
              "#46039f"
             ],
             [
              0.2222222222222222,
              "#7201a8"
             ],
             [
              0.3333333333333333,
              "#9c179e"
             ],
             [
              0.4444444444444444,
              "#bd3786"
             ],
             [
              0.5555555555555556,
              "#d8576b"
             ],
             [
              0.6666666666666666,
              "#ed7953"
             ],
             [
              0.7777777777777778,
              "#fb9f3a"
             ],
             [
              0.8888888888888888,
              "#fdca26"
             ],
             [
              1,
              "#f0f921"
             ]
            ],
            "type": "histogram2d"
           }
          ],
          "histogram2dcontour": [
           {
            "colorbar": {
             "outlinewidth": 0,
             "ticks": ""
            },
            "colorscale": [
             [
              0,
              "#0d0887"
             ],
             [
              0.1111111111111111,
              "#46039f"
             ],
             [
              0.2222222222222222,
              "#7201a8"
             ],
             [
              0.3333333333333333,
              "#9c179e"
             ],
             [
              0.4444444444444444,
              "#bd3786"
             ],
             [
              0.5555555555555556,
              "#d8576b"
             ],
             [
              0.6666666666666666,
              "#ed7953"
             ],
             [
              0.7777777777777778,
              "#fb9f3a"
             ],
             [
              0.8888888888888888,
              "#fdca26"
             ],
             [
              1,
              "#f0f921"
             ]
            ],
            "type": "histogram2dcontour"
           }
          ],
          "mesh3d": [
           {
            "colorbar": {
             "outlinewidth": 0,
             "ticks": ""
            },
            "type": "mesh3d"
           }
          ],
          "parcoords": [
           {
            "line": {
             "colorbar": {
              "outlinewidth": 0,
              "ticks": ""
             }
            },
            "type": "parcoords"
           }
          ],
          "pie": [
           {
            "automargin": true,
            "type": "pie"
           }
          ],
          "scatter": [
           {
            "fillpattern": {
             "fillmode": "overlay",
             "size": 10,
             "solidity": 0.2
            },
            "type": "scatter"
           }
          ],
          "scatter3d": [
           {
            "line": {
             "colorbar": {
              "outlinewidth": 0,
              "ticks": ""
             }
            },
            "marker": {
             "colorbar": {
              "outlinewidth": 0,
              "ticks": ""
             }
            },
            "type": "scatter3d"
           }
          ],
          "scattercarpet": [
           {
            "marker": {
             "colorbar": {
              "outlinewidth": 0,
              "ticks": ""
             }
            },
            "type": "scattercarpet"
           }
          ],
          "scattergeo": [
           {
            "marker": {
             "colorbar": {
              "outlinewidth": 0,
              "ticks": ""
             }
            },
            "type": "scattergeo"
           }
          ],
          "scattergl": [
           {
            "marker": {
             "colorbar": {
              "outlinewidth": 0,
              "ticks": ""
             }
            },
            "type": "scattergl"
           }
          ],
          "scattermapbox": [
           {
            "marker": {
             "colorbar": {
              "outlinewidth": 0,
              "ticks": ""
             }
            },
            "type": "scattermapbox"
           }
          ],
          "scatterpolar": [
           {
            "marker": {
             "colorbar": {
              "outlinewidth": 0,
              "ticks": ""
             }
            },
            "type": "scatterpolar"
           }
          ],
          "scatterpolargl": [
           {
            "marker": {
             "colorbar": {
              "outlinewidth": 0,
              "ticks": ""
             }
            },
            "type": "scatterpolargl"
           }
          ],
          "scatterternary": [
           {
            "marker": {
             "colorbar": {
              "outlinewidth": 0,
              "ticks": ""
             }
            },
            "type": "scatterternary"
           }
          ],
          "surface": [
           {
            "colorbar": {
             "outlinewidth": 0,
             "ticks": ""
            },
            "colorscale": [
             [
              0,
              "#0d0887"
             ],
             [
              0.1111111111111111,
              "#46039f"
             ],
             [
              0.2222222222222222,
              "#7201a8"
             ],
             [
              0.3333333333333333,
              "#9c179e"
             ],
             [
              0.4444444444444444,
              "#bd3786"
             ],
             [
              0.5555555555555556,
              "#d8576b"
             ],
             [
              0.6666666666666666,
              "#ed7953"
             ],
             [
              0.7777777777777778,
              "#fb9f3a"
             ],
             [
              0.8888888888888888,
              "#fdca26"
             ],
             [
              1,
              "#f0f921"
             ]
            ],
            "type": "surface"
           }
          ],
          "table": [
           {
            "cells": {
             "fill": {
              "color": "#EBF0F8"
             },
             "line": {
              "color": "white"
             }
            },
            "header": {
             "fill": {
              "color": "#C8D4E3"
             },
             "line": {
              "color": "white"
             }
            },
            "type": "table"
           }
          ]
         },
         "layout": {
          "annotationdefaults": {
           "arrowcolor": "#2a3f5f",
           "arrowhead": 0,
           "arrowwidth": 1
          },
          "autotypenumbers": "strict",
          "coloraxis": {
           "colorbar": {
            "outlinewidth": 0,
            "ticks": ""
           }
          },
          "colorscale": {
           "diverging": [
            [
             0,
             "#8e0152"
            ],
            [
             0.1,
             "#c51b7d"
            ],
            [
             0.2,
             "#de77ae"
            ],
            [
             0.3,
             "#f1b6da"
            ],
            [
             0.4,
             "#fde0ef"
            ],
            [
             0.5,
             "#f7f7f7"
            ],
            [
             0.6,
             "#e6f5d0"
            ],
            [
             0.7,
             "#b8e186"
            ],
            [
             0.8,
             "#7fbc41"
            ],
            [
             0.9,
             "#4d9221"
            ],
            [
             1,
             "#276419"
            ]
           ],
           "sequential": [
            [
             0,
             "#0d0887"
            ],
            [
             0.1111111111111111,
             "#46039f"
            ],
            [
             0.2222222222222222,
             "#7201a8"
            ],
            [
             0.3333333333333333,
             "#9c179e"
            ],
            [
             0.4444444444444444,
             "#bd3786"
            ],
            [
             0.5555555555555556,
             "#d8576b"
            ],
            [
             0.6666666666666666,
             "#ed7953"
            ],
            [
             0.7777777777777778,
             "#fb9f3a"
            ],
            [
             0.8888888888888888,
             "#fdca26"
            ],
            [
             1,
             "#f0f921"
            ]
           ],
           "sequentialminus": [
            [
             0,
             "#0d0887"
            ],
            [
             0.1111111111111111,
             "#46039f"
            ],
            [
             0.2222222222222222,
             "#7201a8"
            ],
            [
             0.3333333333333333,
             "#9c179e"
            ],
            [
             0.4444444444444444,
             "#bd3786"
            ],
            [
             0.5555555555555556,
             "#d8576b"
            ],
            [
             0.6666666666666666,
             "#ed7953"
            ],
            [
             0.7777777777777778,
             "#fb9f3a"
            ],
            [
             0.8888888888888888,
             "#fdca26"
            ],
            [
             1,
             "#f0f921"
            ]
           ]
          },
          "colorway": [
           "#636efa",
           "#EF553B",
           "#00cc96",
           "#ab63fa",
           "#FFA15A",
           "#19d3f3",
           "#FF6692",
           "#B6E880",
           "#FF97FF",
           "#FECB52"
          ],
          "font": {
           "color": "#2a3f5f"
          },
          "geo": {
           "bgcolor": "white",
           "lakecolor": "white",
           "landcolor": "#E5ECF6",
           "showlakes": true,
           "showland": true,
           "subunitcolor": "white"
          },
          "hoverlabel": {
           "align": "left"
          },
          "hovermode": "closest",
          "mapbox": {
           "style": "light"
          },
          "paper_bgcolor": "white",
          "plot_bgcolor": "#E5ECF6",
          "polar": {
           "angularaxis": {
            "gridcolor": "white",
            "linecolor": "white",
            "ticks": ""
           },
           "bgcolor": "#E5ECF6",
           "radialaxis": {
            "gridcolor": "white",
            "linecolor": "white",
            "ticks": ""
           }
          },
          "scene": {
           "xaxis": {
            "backgroundcolor": "#E5ECF6",
            "gridcolor": "white",
            "gridwidth": 2,
            "linecolor": "white",
            "showbackground": true,
            "ticks": "",
            "zerolinecolor": "white"
           },
           "yaxis": {
            "backgroundcolor": "#E5ECF6",
            "gridcolor": "white",
            "gridwidth": 2,
            "linecolor": "white",
            "showbackground": true,
            "ticks": "",
            "zerolinecolor": "white"
           },
           "zaxis": {
            "backgroundcolor": "#E5ECF6",
            "gridcolor": "white",
            "gridwidth": 2,
            "linecolor": "white",
            "showbackground": true,
            "ticks": "",
            "zerolinecolor": "white"
           }
          },
          "shapedefaults": {
           "line": {
            "color": "#2a3f5f"
           }
          },
          "ternary": {
           "aaxis": {
            "gridcolor": "white",
            "linecolor": "white",
            "ticks": ""
           },
           "baxis": {
            "gridcolor": "white",
            "linecolor": "white",
            "ticks": ""
           },
           "bgcolor": "#E5ECF6",
           "caxis": {
            "gridcolor": "white",
            "linecolor": "white",
            "ticks": ""
           }
          },
          "title": {
           "x": 0.05
          },
          "xaxis": {
           "automargin": true,
           "gridcolor": "white",
           "linecolor": "white",
           "ticks": "",
           "title": {
            "standoff": 15
           },
           "zerolinecolor": "white",
           "zerolinewidth": 2
          },
          "yaxis": {
           "automargin": true,
           "gridcolor": "white",
           "linecolor": "white",
           "ticks": "",
           "title": {
            "standoff": 15
           },
           "zerolinecolor": "white",
           "zerolinewidth": 2
          }
         }
        },
        "title": {
         "text": "Distribution of Shark Attacks by Activity (2010-2018)"
        },
        "xaxis": {
         "anchor": "y",
         "domain": [
          0,
          1
         ],
         "tickangle": -45,
         "title": {
          "text": "Number of Attacks"
         }
        },
        "yaxis": {
         "anchor": "x",
         "domain": [
          0,
          1
         ],
         "title": {
          "text": "Activity"
         }
        }
       }
      }
     },
     "metadata": {},
     "output_type": "display_data"
    }
   ],
   "source": [
    "# Filter data for the last 5 years\n",
    "last_attacks = attacks[attacks['Year'] >= 2010]\n",
    "\n",
    "# Group attacks by activity and count the occurrences\n",
    "activity_counts = last_attacks['Activity'].value_counts().reset_index()\n",
    "activity_counts.columns = ['Activity', 'Number of Attacks']\n",
    "activity_counts_sorted = activity_counts.sort_values(by='Number of Attacks', ascending=False)\n",
    "\n",
    "# Create the bar chart\n",
    "fig = px.bar(activity_counts, y='Activity', x='Number of Attacks', \n",
    "             title='Distribution of Shark Attacks by Activity (2010-2018)',\n",
    "             labels={'Activity': 'Activity', 'Number of Attacks': 'Number of Attacks'},\n",
    "             template='plotly', # You can change the template if needed\n",
    "             color_discrete_sequence=px.colors.qualitative.Safe) # Set color palette\n",
    "\n",
    "# Rotate x-axis labels for better readability\n",
    "fig.update_layout(xaxis_tickangle=-45)\n",
    "\n",
    "fig.show()"
   ]
  },
  {
   "cell_type": "markdown",
   "metadata": {},
   "source": [
    "## `Hypothesy 2`"
   ]
  },
  {
   "cell_type": "markdown",
   "metadata": {},
   "source": [
    "**Swimmers present a tougher challenge than surfers:** While reaching people swimming may require sharks to venture closer to the coast, once within range, they provide a more substantial meal compared to surfers, who may only offer an apetizer."
   ]
  },
  {
   "cell_type": "code",
   "execution_count": 259,
   "metadata": {},
   "outputs": [
    {
     "data": {
      "application/vnd.plotly.v1+json": {
       "config": {
        "plotlyServerURL": "https://plot.ly"
       },
       "data": [
        {
         "alignmentgroup": "True",
         "hovertemplate": "Activity Type=%{x}<br>Proportion of Attacks=%{y}<extra></extra>",
         "legendgroup": "",
         "marker": {
          "color": "rgb(136, 204, 238)",
          "pattern": {
           "shape": ""
          }
         },
         "name": "",
         "offsetgroup": "",
         "orientation": "v",
         "showlegend": false,
         "textposition": "auto",
         "type": "bar",
         "x": [
          "sports activity",
          "recreation activity"
         ],
         "xaxis": "x",
         "y": [
          0.5667022411953042,
          0.43329775880469584
         ],
         "yaxis": "y"
        }
       ],
       "layout": {
        "barmode": "relative",
        "legend": {
         "tracegroupgap": 0
        },
        "template": {
         "data": {
          "bar": [
           {
            "error_x": {
             "color": "#2a3f5f"
            },
            "error_y": {
             "color": "#2a3f5f"
            },
            "marker": {
             "line": {
              "color": "#E5ECF6",
              "width": 0.5
             },
             "pattern": {
              "fillmode": "overlay",
              "size": 10,
              "solidity": 0.2
             }
            },
            "type": "bar"
           }
          ],
          "barpolar": [
           {
            "marker": {
             "line": {
              "color": "#E5ECF6",
              "width": 0.5
             },
             "pattern": {
              "fillmode": "overlay",
              "size": 10,
              "solidity": 0.2
             }
            },
            "type": "barpolar"
           }
          ],
          "carpet": [
           {
            "aaxis": {
             "endlinecolor": "#2a3f5f",
             "gridcolor": "white",
             "linecolor": "white",
             "minorgridcolor": "white",
             "startlinecolor": "#2a3f5f"
            },
            "baxis": {
             "endlinecolor": "#2a3f5f",
             "gridcolor": "white",
             "linecolor": "white",
             "minorgridcolor": "white",
             "startlinecolor": "#2a3f5f"
            },
            "type": "carpet"
           }
          ],
          "choropleth": [
           {
            "colorbar": {
             "outlinewidth": 0,
             "ticks": ""
            },
            "type": "choropleth"
           }
          ],
          "contour": [
           {
            "colorbar": {
             "outlinewidth": 0,
             "ticks": ""
            },
            "colorscale": [
             [
              0,
              "#0d0887"
             ],
             [
              0.1111111111111111,
              "#46039f"
             ],
             [
              0.2222222222222222,
              "#7201a8"
             ],
             [
              0.3333333333333333,
              "#9c179e"
             ],
             [
              0.4444444444444444,
              "#bd3786"
             ],
             [
              0.5555555555555556,
              "#d8576b"
             ],
             [
              0.6666666666666666,
              "#ed7953"
             ],
             [
              0.7777777777777778,
              "#fb9f3a"
             ],
             [
              0.8888888888888888,
              "#fdca26"
             ],
             [
              1,
              "#f0f921"
             ]
            ],
            "type": "contour"
           }
          ],
          "contourcarpet": [
           {
            "colorbar": {
             "outlinewidth": 0,
             "ticks": ""
            },
            "type": "contourcarpet"
           }
          ],
          "heatmap": [
           {
            "colorbar": {
             "outlinewidth": 0,
             "ticks": ""
            },
            "colorscale": [
             [
              0,
              "#0d0887"
             ],
             [
              0.1111111111111111,
              "#46039f"
             ],
             [
              0.2222222222222222,
              "#7201a8"
             ],
             [
              0.3333333333333333,
              "#9c179e"
             ],
             [
              0.4444444444444444,
              "#bd3786"
             ],
             [
              0.5555555555555556,
              "#d8576b"
             ],
             [
              0.6666666666666666,
              "#ed7953"
             ],
             [
              0.7777777777777778,
              "#fb9f3a"
             ],
             [
              0.8888888888888888,
              "#fdca26"
             ],
             [
              1,
              "#f0f921"
             ]
            ],
            "type": "heatmap"
           }
          ],
          "heatmapgl": [
           {
            "colorbar": {
             "outlinewidth": 0,
             "ticks": ""
            },
            "colorscale": [
             [
              0,
              "#0d0887"
             ],
             [
              0.1111111111111111,
              "#46039f"
             ],
             [
              0.2222222222222222,
              "#7201a8"
             ],
             [
              0.3333333333333333,
              "#9c179e"
             ],
             [
              0.4444444444444444,
              "#bd3786"
             ],
             [
              0.5555555555555556,
              "#d8576b"
             ],
             [
              0.6666666666666666,
              "#ed7953"
             ],
             [
              0.7777777777777778,
              "#fb9f3a"
             ],
             [
              0.8888888888888888,
              "#fdca26"
             ],
             [
              1,
              "#f0f921"
             ]
            ],
            "type": "heatmapgl"
           }
          ],
          "histogram": [
           {
            "marker": {
             "pattern": {
              "fillmode": "overlay",
              "size": 10,
              "solidity": 0.2
             }
            },
            "type": "histogram"
           }
          ],
          "histogram2d": [
           {
            "colorbar": {
             "outlinewidth": 0,
             "ticks": ""
            },
            "colorscale": [
             [
              0,
              "#0d0887"
             ],
             [
              0.1111111111111111,
              "#46039f"
             ],
             [
              0.2222222222222222,
              "#7201a8"
             ],
             [
              0.3333333333333333,
              "#9c179e"
             ],
             [
              0.4444444444444444,
              "#bd3786"
             ],
             [
              0.5555555555555556,
              "#d8576b"
             ],
             [
              0.6666666666666666,
              "#ed7953"
             ],
             [
              0.7777777777777778,
              "#fb9f3a"
             ],
             [
              0.8888888888888888,
              "#fdca26"
             ],
             [
              1,
              "#f0f921"
             ]
            ],
            "type": "histogram2d"
           }
          ],
          "histogram2dcontour": [
           {
            "colorbar": {
             "outlinewidth": 0,
             "ticks": ""
            },
            "colorscale": [
             [
              0,
              "#0d0887"
             ],
             [
              0.1111111111111111,
              "#46039f"
             ],
             [
              0.2222222222222222,
              "#7201a8"
             ],
             [
              0.3333333333333333,
              "#9c179e"
             ],
             [
              0.4444444444444444,
              "#bd3786"
             ],
             [
              0.5555555555555556,
              "#d8576b"
             ],
             [
              0.6666666666666666,
              "#ed7953"
             ],
             [
              0.7777777777777778,
              "#fb9f3a"
             ],
             [
              0.8888888888888888,
              "#fdca26"
             ],
             [
              1,
              "#f0f921"
             ]
            ],
            "type": "histogram2dcontour"
           }
          ],
          "mesh3d": [
           {
            "colorbar": {
             "outlinewidth": 0,
             "ticks": ""
            },
            "type": "mesh3d"
           }
          ],
          "parcoords": [
           {
            "line": {
             "colorbar": {
              "outlinewidth": 0,
              "ticks": ""
             }
            },
            "type": "parcoords"
           }
          ],
          "pie": [
           {
            "automargin": true,
            "type": "pie"
           }
          ],
          "scatter": [
           {
            "fillpattern": {
             "fillmode": "overlay",
             "size": 10,
             "solidity": 0.2
            },
            "type": "scatter"
           }
          ],
          "scatter3d": [
           {
            "line": {
             "colorbar": {
              "outlinewidth": 0,
              "ticks": ""
             }
            },
            "marker": {
             "colorbar": {
              "outlinewidth": 0,
              "ticks": ""
             }
            },
            "type": "scatter3d"
           }
          ],
          "scattercarpet": [
           {
            "marker": {
             "colorbar": {
              "outlinewidth": 0,
              "ticks": ""
             }
            },
            "type": "scattercarpet"
           }
          ],
          "scattergeo": [
           {
            "marker": {
             "colorbar": {
              "outlinewidth": 0,
              "ticks": ""
             }
            },
            "type": "scattergeo"
           }
          ],
          "scattergl": [
           {
            "marker": {
             "colorbar": {
              "outlinewidth": 0,
              "ticks": ""
             }
            },
            "type": "scattergl"
           }
          ],
          "scattermapbox": [
           {
            "marker": {
             "colorbar": {
              "outlinewidth": 0,
              "ticks": ""
             }
            },
            "type": "scattermapbox"
           }
          ],
          "scatterpolar": [
           {
            "marker": {
             "colorbar": {
              "outlinewidth": 0,
              "ticks": ""
             }
            },
            "type": "scatterpolar"
           }
          ],
          "scatterpolargl": [
           {
            "marker": {
             "colorbar": {
              "outlinewidth": 0,
              "ticks": ""
             }
            },
            "type": "scatterpolargl"
           }
          ],
          "scatterternary": [
           {
            "marker": {
             "colorbar": {
              "outlinewidth": 0,
              "ticks": ""
             }
            },
            "type": "scatterternary"
           }
          ],
          "surface": [
           {
            "colorbar": {
             "outlinewidth": 0,
             "ticks": ""
            },
            "colorscale": [
             [
              0,
              "#0d0887"
             ],
             [
              0.1111111111111111,
              "#46039f"
             ],
             [
              0.2222222222222222,
              "#7201a8"
             ],
             [
              0.3333333333333333,
              "#9c179e"
             ],
             [
              0.4444444444444444,
              "#bd3786"
             ],
             [
              0.5555555555555556,
              "#d8576b"
             ],
             [
              0.6666666666666666,
              "#ed7953"
             ],
             [
              0.7777777777777778,
              "#fb9f3a"
             ],
             [
              0.8888888888888888,
              "#fdca26"
             ],
             [
              1,
              "#f0f921"
             ]
            ],
            "type": "surface"
           }
          ],
          "table": [
           {
            "cells": {
             "fill": {
              "color": "#EBF0F8"
             },
             "line": {
              "color": "white"
             }
            },
            "header": {
             "fill": {
              "color": "#C8D4E3"
             },
             "line": {
              "color": "white"
             }
            },
            "type": "table"
           }
          ]
         },
         "layout": {
          "annotationdefaults": {
           "arrowcolor": "#2a3f5f",
           "arrowhead": 0,
           "arrowwidth": 1
          },
          "autotypenumbers": "strict",
          "coloraxis": {
           "colorbar": {
            "outlinewidth": 0,
            "ticks": ""
           }
          },
          "colorscale": {
           "diverging": [
            [
             0,
             "#8e0152"
            ],
            [
             0.1,
             "#c51b7d"
            ],
            [
             0.2,
             "#de77ae"
            ],
            [
             0.3,
             "#f1b6da"
            ],
            [
             0.4,
             "#fde0ef"
            ],
            [
             0.5,
             "#f7f7f7"
            ],
            [
             0.6,
             "#e6f5d0"
            ],
            [
             0.7,
             "#b8e186"
            ],
            [
             0.8,
             "#7fbc41"
            ],
            [
             0.9,
             "#4d9221"
            ],
            [
             1,
             "#276419"
            ]
           ],
           "sequential": [
            [
             0,
             "#0d0887"
            ],
            [
             0.1111111111111111,
             "#46039f"
            ],
            [
             0.2222222222222222,
             "#7201a8"
            ],
            [
             0.3333333333333333,
             "#9c179e"
            ],
            [
             0.4444444444444444,
             "#bd3786"
            ],
            [
             0.5555555555555556,
             "#d8576b"
            ],
            [
             0.6666666666666666,
             "#ed7953"
            ],
            [
             0.7777777777777778,
             "#fb9f3a"
            ],
            [
             0.8888888888888888,
             "#fdca26"
            ],
            [
             1,
             "#f0f921"
            ]
           ],
           "sequentialminus": [
            [
             0,
             "#0d0887"
            ],
            [
             0.1111111111111111,
             "#46039f"
            ],
            [
             0.2222222222222222,
             "#7201a8"
            ],
            [
             0.3333333333333333,
             "#9c179e"
            ],
            [
             0.4444444444444444,
             "#bd3786"
            ],
            [
             0.5555555555555556,
             "#d8576b"
            ],
            [
             0.6666666666666666,
             "#ed7953"
            ],
            [
             0.7777777777777778,
             "#fb9f3a"
            ],
            [
             0.8888888888888888,
             "#fdca26"
            ],
            [
             1,
             "#f0f921"
            ]
           ]
          },
          "colorway": [
           "#636efa",
           "#EF553B",
           "#00cc96",
           "#ab63fa",
           "#FFA15A",
           "#19d3f3",
           "#FF6692",
           "#B6E880",
           "#FF97FF",
           "#FECB52"
          ],
          "font": {
           "color": "#2a3f5f"
          },
          "geo": {
           "bgcolor": "white",
           "lakecolor": "white",
           "landcolor": "#E5ECF6",
           "showlakes": true,
           "showland": true,
           "subunitcolor": "white"
          },
          "hoverlabel": {
           "align": "left"
          },
          "hovermode": "closest",
          "mapbox": {
           "style": "light"
          },
          "paper_bgcolor": "white",
          "plot_bgcolor": "#E5ECF6",
          "polar": {
           "angularaxis": {
            "gridcolor": "white",
            "linecolor": "white",
            "ticks": ""
           },
           "bgcolor": "#E5ECF6",
           "radialaxis": {
            "gridcolor": "white",
            "linecolor": "white",
            "ticks": ""
           }
          },
          "scene": {
           "xaxis": {
            "backgroundcolor": "#E5ECF6",
            "gridcolor": "white",
            "gridwidth": 2,
            "linecolor": "white",
            "showbackground": true,
            "ticks": "",
            "zerolinecolor": "white"
           },
           "yaxis": {
            "backgroundcolor": "#E5ECF6",
            "gridcolor": "white",
            "gridwidth": 2,
            "linecolor": "white",
            "showbackground": true,
            "ticks": "",
            "zerolinecolor": "white"
           },
           "zaxis": {
            "backgroundcolor": "#E5ECF6",
            "gridcolor": "white",
            "gridwidth": 2,
            "linecolor": "white",
            "showbackground": true,
            "ticks": "",
            "zerolinecolor": "white"
           }
          },
          "shapedefaults": {
           "line": {
            "color": "#2a3f5f"
           }
          },
          "ternary": {
           "aaxis": {
            "gridcolor": "white",
            "linecolor": "white",
            "ticks": ""
           },
           "baxis": {
            "gridcolor": "white",
            "linecolor": "white",
            "ticks": ""
           },
           "bgcolor": "#E5ECF6",
           "caxis": {
            "gridcolor": "white",
            "linecolor": "white",
            "ticks": ""
           }
          },
          "title": {
           "x": 0.05
          },
          "xaxis": {
           "automargin": true,
           "gridcolor": "white",
           "linecolor": "white",
           "ticks": "",
           "title": {
            "standoff": 15
           },
           "zerolinecolor": "white",
           "zerolinewidth": 2
          },
          "yaxis": {
           "automargin": true,
           "gridcolor": "white",
           "linecolor": "white",
           "ticks": "",
           "title": {
            "standoff": 15
           },
           "zerolinecolor": "white",
           "zerolinewidth": 2
          }
         }
        },
        "title": {
         "text": "Proportion of Shark Attacks by Activity Type"
        },
        "xaxis": {
         "anchor": "y",
         "domain": [
          0,
          1
         ],
         "title": {
          "text": "Activity Type"
         }
        },
        "yaxis": {
         "anchor": "x",
         "domain": [
          0,
          1
         ],
         "title": {
          "text": "Proportion of Attacks"
         }
        }
       }
      }
     },
     "metadata": {},
     "output_type": "display_data"
    }
   ],
   "source": [
    "# Group attacks by Activity_type and count the occurrences\n",
    "activity_type_counts = attacks['Activity_type'].value_counts().reset_index()\n",
    "activity_type_counts.columns = ['Activity_type', 'Number of Attacks']\n",
    "\n",
    "# Calculate the total number of attacks\n",
    "total_attacks = activity_type_counts['Number of Attacks'].sum()\n",
    "\n",
    "# Calculate the proportion of attacks for each activity type\n",
    "activity_type_counts['Proportion'] = activity_type_counts['Number of Attacks'] / total_attacks\n",
    "\n",
    "# Create the bar chart\n",
    "fig = px.bar(activity_type_counts, x='Activity_type', y='Proportion', \n",
    "             title='Proportion of Shark Attacks by Activity Type',\n",
    "             labels={'Activity_type': 'Activity Type', 'Proportion': 'Proportion of Attacks'},\n",
    "             template='plotly', # You can change the template if needed\n",
    "             color_discrete_sequence=px.colors.qualitative.Safe) # Set color palette\n",
    "\n",
    "fig.show()"
   ]
  },
  {
   "cell_type": "code",
   "execution_count": 292,
   "metadata": {},
   "outputs": [
    {
     "data": {
      "text/html": [
       "<div>\n",
       "<style scoped>\n",
       "    .dataframe tbody tr th:only-of-type {\n",
       "        vertical-align: middle;\n",
       "    }\n",
       "\n",
       "    .dataframe tbody tr th {\n",
       "        vertical-align: top;\n",
       "    }\n",
       "\n",
       "    .dataframe thead th {\n",
       "        text-align: right;\n",
       "    }\n",
       "</style>\n",
       "<table border=\"1\" class=\"dataframe\">\n",
       "  <thead>\n",
       "    <tr style=\"text-align: right;\">\n",
       "      <th>Fatal (Y/N)</th>\n",
       "      <th>Activity_type</th>\n",
       "      <th>N</th>\n",
       "      <th>Y</th>\n",
       "      <th>Total</th>\n",
       "    </tr>\n",
       "  </thead>\n",
       "  <tbody>\n",
       "    <tr>\n",
       "      <th>0</th>\n",
       "      <td>recreation activity</td>\n",
       "      <td>609</td>\n",
       "      <td>203</td>\n",
       "      <td>812</td>\n",
       "    </tr>\n",
       "    <tr>\n",
       "      <th>1</th>\n",
       "      <td>sports activity</td>\n",
       "      <td>944</td>\n",
       "      <td>118</td>\n",
       "      <td>1062</td>\n",
       "    </tr>\n",
       "  </tbody>\n",
       "</table>\n",
       "</div>"
      ],
      "text/plain": [
       "Fatal (Y/N)        Activity_type    N    Y  Total\n",
       "0            recreation activity  609  203    812\n",
       "1                sports activity  944  118   1062"
      ]
     },
     "execution_count": 292,
     "metadata": {},
     "output_type": "execute_result"
    }
   ],
   "source": [
    "activity_type_fatal_counts = attacks.groupby(['Activity_type', 'Fatal (Y/N)']).size().reset_index(name='Counts')\n",
    "\n",
    "# Pivot the DataFrame to have Fatal (Y/N) as columns\n",
    "activity_type_fatal_pivot = activity_type_fatal_counts.pivot_table(index='Activity_type', columns='Fatal (Y/N)', values='Counts', aggfunc='sum', fill_value=0).reset_index()\n",
    "\n",
    "# Calculate the total number of attacks for each activity type\n",
    "activity_type_fatal_pivot['Total'] = activity_type_fatal_pivot['N'] + activity_type_fatal_pivot['Y']\n",
    "activity_type_fatal_pivot"
   ]
  },
  {
   "cell_type": "code",
   "execution_count": 286,
   "metadata": {},
   "outputs": [
    {
     "data": {
      "application/vnd.plotly.v1+json": {
       "config": {
        "plotlyServerURL": "https://plot.ly"
       },
       "data": [
        {
         "alignmentgroup": "True",
         "hovertemplate": "Death=No<br>Activity Type=%{x}<br>Proportion of Attacks=%{y}<extra></extra>",
         "legendgroup": "No",
         "marker": {
          "color": "lightblue",
          "opacity": 0.8,
          "pattern": {
           "shape": ""
          }
         },
         "name": "No",
         "offsetgroup": "No",
         "orientation": "v",
         "showlegend": true,
         "textposition": "auto",
         "type": "bar",
         "x": [
          "recreation activity",
          "sports activity"
         ],
         "xaxis": "x",
         "y": [
          0.75,
          0.8888888888888888
         ],
         "yaxis": "y"
        },
        {
         "alignmentgroup": "True",
         "hovertemplate": "Death=Yes<br>Activity Type=%{x}<br>Proportion of Attacks=%{y}<extra></extra>",
         "legendgroup": "Yes",
         "marker": {
          "color": "darkblue",
          "opacity": 0.8,
          "pattern": {
           "shape": ""
          }
         },
         "name": "Yes",
         "offsetgroup": "Yes",
         "orientation": "v",
         "showlegend": true,
         "textposition": "auto",
         "type": "bar",
         "x": [
          "recreation activity",
          "sports activity"
         ],
         "xaxis": "x",
         "y": [
          0.25,
          0.1111111111111111
         ],
         "yaxis": "y"
        }
       ],
       "layout": {
        "barmode": "group",
        "legend": {
         "title": {
          "text": "Death"
         },
         "tracegroupgap": 0
        },
        "template": {
         "data": {
          "bar": [
           {
            "error_x": {
             "color": "#2a3f5f"
            },
            "error_y": {
             "color": "#2a3f5f"
            },
            "marker": {
             "line": {
              "color": "#E5ECF6",
              "width": 0.5
             },
             "pattern": {
              "fillmode": "overlay",
              "size": 10,
              "solidity": 0.2
             }
            },
            "type": "bar"
           }
          ],
          "barpolar": [
           {
            "marker": {
             "line": {
              "color": "#E5ECF6",
              "width": 0.5
             },
             "pattern": {
              "fillmode": "overlay",
              "size": 10,
              "solidity": 0.2
             }
            },
            "type": "barpolar"
           }
          ],
          "carpet": [
           {
            "aaxis": {
             "endlinecolor": "#2a3f5f",
             "gridcolor": "white",
             "linecolor": "white",
             "minorgridcolor": "white",
             "startlinecolor": "#2a3f5f"
            },
            "baxis": {
             "endlinecolor": "#2a3f5f",
             "gridcolor": "white",
             "linecolor": "white",
             "minorgridcolor": "white",
             "startlinecolor": "#2a3f5f"
            },
            "type": "carpet"
           }
          ],
          "choropleth": [
           {
            "colorbar": {
             "outlinewidth": 0,
             "ticks": ""
            },
            "type": "choropleth"
           }
          ],
          "contour": [
           {
            "colorbar": {
             "outlinewidth": 0,
             "ticks": ""
            },
            "colorscale": [
             [
              0,
              "#0d0887"
             ],
             [
              0.1111111111111111,
              "#46039f"
             ],
             [
              0.2222222222222222,
              "#7201a8"
             ],
             [
              0.3333333333333333,
              "#9c179e"
             ],
             [
              0.4444444444444444,
              "#bd3786"
             ],
             [
              0.5555555555555556,
              "#d8576b"
             ],
             [
              0.6666666666666666,
              "#ed7953"
             ],
             [
              0.7777777777777778,
              "#fb9f3a"
             ],
             [
              0.8888888888888888,
              "#fdca26"
             ],
             [
              1,
              "#f0f921"
             ]
            ],
            "type": "contour"
           }
          ],
          "contourcarpet": [
           {
            "colorbar": {
             "outlinewidth": 0,
             "ticks": ""
            },
            "type": "contourcarpet"
           }
          ],
          "heatmap": [
           {
            "colorbar": {
             "outlinewidth": 0,
             "ticks": ""
            },
            "colorscale": [
             [
              0,
              "#0d0887"
             ],
             [
              0.1111111111111111,
              "#46039f"
             ],
             [
              0.2222222222222222,
              "#7201a8"
             ],
             [
              0.3333333333333333,
              "#9c179e"
             ],
             [
              0.4444444444444444,
              "#bd3786"
             ],
             [
              0.5555555555555556,
              "#d8576b"
             ],
             [
              0.6666666666666666,
              "#ed7953"
             ],
             [
              0.7777777777777778,
              "#fb9f3a"
             ],
             [
              0.8888888888888888,
              "#fdca26"
             ],
             [
              1,
              "#f0f921"
             ]
            ],
            "type": "heatmap"
           }
          ],
          "heatmapgl": [
           {
            "colorbar": {
             "outlinewidth": 0,
             "ticks": ""
            },
            "colorscale": [
             [
              0,
              "#0d0887"
             ],
             [
              0.1111111111111111,
              "#46039f"
             ],
             [
              0.2222222222222222,
              "#7201a8"
             ],
             [
              0.3333333333333333,
              "#9c179e"
             ],
             [
              0.4444444444444444,
              "#bd3786"
             ],
             [
              0.5555555555555556,
              "#d8576b"
             ],
             [
              0.6666666666666666,
              "#ed7953"
             ],
             [
              0.7777777777777778,
              "#fb9f3a"
             ],
             [
              0.8888888888888888,
              "#fdca26"
             ],
             [
              1,
              "#f0f921"
             ]
            ],
            "type": "heatmapgl"
           }
          ],
          "histogram": [
           {
            "marker": {
             "pattern": {
              "fillmode": "overlay",
              "size": 10,
              "solidity": 0.2
             }
            },
            "type": "histogram"
           }
          ],
          "histogram2d": [
           {
            "colorbar": {
             "outlinewidth": 0,
             "ticks": ""
            },
            "colorscale": [
             [
              0,
              "#0d0887"
             ],
             [
              0.1111111111111111,
              "#46039f"
             ],
             [
              0.2222222222222222,
              "#7201a8"
             ],
             [
              0.3333333333333333,
              "#9c179e"
             ],
             [
              0.4444444444444444,
              "#bd3786"
             ],
             [
              0.5555555555555556,
              "#d8576b"
             ],
             [
              0.6666666666666666,
              "#ed7953"
             ],
             [
              0.7777777777777778,
              "#fb9f3a"
             ],
             [
              0.8888888888888888,
              "#fdca26"
             ],
             [
              1,
              "#f0f921"
             ]
            ],
            "type": "histogram2d"
           }
          ],
          "histogram2dcontour": [
           {
            "colorbar": {
             "outlinewidth": 0,
             "ticks": ""
            },
            "colorscale": [
             [
              0,
              "#0d0887"
             ],
             [
              0.1111111111111111,
              "#46039f"
             ],
             [
              0.2222222222222222,
              "#7201a8"
             ],
             [
              0.3333333333333333,
              "#9c179e"
             ],
             [
              0.4444444444444444,
              "#bd3786"
             ],
             [
              0.5555555555555556,
              "#d8576b"
             ],
             [
              0.6666666666666666,
              "#ed7953"
             ],
             [
              0.7777777777777778,
              "#fb9f3a"
             ],
             [
              0.8888888888888888,
              "#fdca26"
             ],
             [
              1,
              "#f0f921"
             ]
            ],
            "type": "histogram2dcontour"
           }
          ],
          "mesh3d": [
           {
            "colorbar": {
             "outlinewidth": 0,
             "ticks": ""
            },
            "type": "mesh3d"
           }
          ],
          "parcoords": [
           {
            "line": {
             "colorbar": {
              "outlinewidth": 0,
              "ticks": ""
             }
            },
            "type": "parcoords"
           }
          ],
          "pie": [
           {
            "automargin": true,
            "type": "pie"
           }
          ],
          "scatter": [
           {
            "fillpattern": {
             "fillmode": "overlay",
             "size": 10,
             "solidity": 0.2
            },
            "type": "scatter"
           }
          ],
          "scatter3d": [
           {
            "line": {
             "colorbar": {
              "outlinewidth": 0,
              "ticks": ""
             }
            },
            "marker": {
             "colorbar": {
              "outlinewidth": 0,
              "ticks": ""
             }
            },
            "type": "scatter3d"
           }
          ],
          "scattercarpet": [
           {
            "marker": {
             "colorbar": {
              "outlinewidth": 0,
              "ticks": ""
             }
            },
            "type": "scattercarpet"
           }
          ],
          "scattergeo": [
           {
            "marker": {
             "colorbar": {
              "outlinewidth": 0,
              "ticks": ""
             }
            },
            "type": "scattergeo"
           }
          ],
          "scattergl": [
           {
            "marker": {
             "colorbar": {
              "outlinewidth": 0,
              "ticks": ""
             }
            },
            "type": "scattergl"
           }
          ],
          "scattermapbox": [
           {
            "marker": {
             "colorbar": {
              "outlinewidth": 0,
              "ticks": ""
             }
            },
            "type": "scattermapbox"
           }
          ],
          "scatterpolar": [
           {
            "marker": {
             "colorbar": {
              "outlinewidth": 0,
              "ticks": ""
             }
            },
            "type": "scatterpolar"
           }
          ],
          "scatterpolargl": [
           {
            "marker": {
             "colorbar": {
              "outlinewidth": 0,
              "ticks": ""
             }
            },
            "type": "scatterpolargl"
           }
          ],
          "scatterternary": [
           {
            "marker": {
             "colorbar": {
              "outlinewidth": 0,
              "ticks": ""
             }
            },
            "type": "scatterternary"
           }
          ],
          "surface": [
           {
            "colorbar": {
             "outlinewidth": 0,
             "ticks": ""
            },
            "colorscale": [
             [
              0,
              "#0d0887"
             ],
             [
              0.1111111111111111,
              "#46039f"
             ],
             [
              0.2222222222222222,
              "#7201a8"
             ],
             [
              0.3333333333333333,
              "#9c179e"
             ],
             [
              0.4444444444444444,
              "#bd3786"
             ],
             [
              0.5555555555555556,
              "#d8576b"
             ],
             [
              0.6666666666666666,
              "#ed7953"
             ],
             [
              0.7777777777777778,
              "#fb9f3a"
             ],
             [
              0.8888888888888888,
              "#fdca26"
             ],
             [
              1,
              "#f0f921"
             ]
            ],
            "type": "surface"
           }
          ],
          "table": [
           {
            "cells": {
             "fill": {
              "color": "#EBF0F8"
             },
             "line": {
              "color": "white"
             }
            },
            "header": {
             "fill": {
              "color": "#C8D4E3"
             },
             "line": {
              "color": "white"
             }
            },
            "type": "table"
           }
          ]
         },
         "layout": {
          "annotationdefaults": {
           "arrowcolor": "#2a3f5f",
           "arrowhead": 0,
           "arrowwidth": 1
          },
          "autotypenumbers": "strict",
          "coloraxis": {
           "colorbar": {
            "outlinewidth": 0,
            "ticks": ""
           }
          },
          "colorscale": {
           "diverging": [
            [
             0,
             "#8e0152"
            ],
            [
             0.1,
             "#c51b7d"
            ],
            [
             0.2,
             "#de77ae"
            ],
            [
             0.3,
             "#f1b6da"
            ],
            [
             0.4,
             "#fde0ef"
            ],
            [
             0.5,
             "#f7f7f7"
            ],
            [
             0.6,
             "#e6f5d0"
            ],
            [
             0.7,
             "#b8e186"
            ],
            [
             0.8,
             "#7fbc41"
            ],
            [
             0.9,
             "#4d9221"
            ],
            [
             1,
             "#276419"
            ]
           ],
           "sequential": [
            [
             0,
             "#0d0887"
            ],
            [
             0.1111111111111111,
             "#46039f"
            ],
            [
             0.2222222222222222,
             "#7201a8"
            ],
            [
             0.3333333333333333,
             "#9c179e"
            ],
            [
             0.4444444444444444,
             "#bd3786"
            ],
            [
             0.5555555555555556,
             "#d8576b"
            ],
            [
             0.6666666666666666,
             "#ed7953"
            ],
            [
             0.7777777777777778,
             "#fb9f3a"
            ],
            [
             0.8888888888888888,
             "#fdca26"
            ],
            [
             1,
             "#f0f921"
            ]
           ],
           "sequentialminus": [
            [
             0,
             "#0d0887"
            ],
            [
             0.1111111111111111,
             "#46039f"
            ],
            [
             0.2222222222222222,
             "#7201a8"
            ],
            [
             0.3333333333333333,
             "#9c179e"
            ],
            [
             0.4444444444444444,
             "#bd3786"
            ],
            [
             0.5555555555555556,
             "#d8576b"
            ],
            [
             0.6666666666666666,
             "#ed7953"
            ],
            [
             0.7777777777777778,
             "#fb9f3a"
            ],
            [
             0.8888888888888888,
             "#fdca26"
            ],
            [
             1,
             "#f0f921"
            ]
           ]
          },
          "colorway": [
           "#636efa",
           "#EF553B",
           "#00cc96",
           "#ab63fa",
           "#FFA15A",
           "#19d3f3",
           "#FF6692",
           "#B6E880",
           "#FF97FF",
           "#FECB52"
          ],
          "font": {
           "color": "#2a3f5f"
          },
          "geo": {
           "bgcolor": "white",
           "lakecolor": "white",
           "landcolor": "#E5ECF6",
           "showlakes": true,
           "showland": true,
           "subunitcolor": "white"
          },
          "hoverlabel": {
           "align": "left"
          },
          "hovermode": "closest",
          "mapbox": {
           "style": "light"
          },
          "paper_bgcolor": "white",
          "plot_bgcolor": "#E5ECF6",
          "polar": {
           "angularaxis": {
            "gridcolor": "white",
            "linecolor": "white",
            "ticks": ""
           },
           "bgcolor": "#E5ECF6",
           "radialaxis": {
            "gridcolor": "white",
            "linecolor": "white",
            "ticks": ""
           }
          },
          "scene": {
           "xaxis": {
            "backgroundcolor": "#E5ECF6",
            "gridcolor": "white",
            "gridwidth": 2,
            "linecolor": "white",
            "showbackground": true,
            "ticks": "",
            "zerolinecolor": "white"
           },
           "yaxis": {
            "backgroundcolor": "#E5ECF6",
            "gridcolor": "white",
            "gridwidth": 2,
            "linecolor": "white",
            "showbackground": true,
            "ticks": "",
            "zerolinecolor": "white"
           },
           "zaxis": {
            "backgroundcolor": "#E5ECF6",
            "gridcolor": "white",
            "gridwidth": 2,
            "linecolor": "white",
            "showbackground": true,
            "ticks": "",
            "zerolinecolor": "white"
           }
          },
          "shapedefaults": {
           "line": {
            "color": "#2a3f5f"
           }
          },
          "ternary": {
           "aaxis": {
            "gridcolor": "white",
            "linecolor": "white",
            "ticks": ""
           },
           "baxis": {
            "gridcolor": "white",
            "linecolor": "white",
            "ticks": ""
           },
           "bgcolor": "#E5ECF6",
           "caxis": {
            "gridcolor": "white",
            "linecolor": "white",
            "ticks": ""
           }
          },
          "title": {
           "x": 0.05
          },
          "xaxis": {
           "automargin": true,
           "gridcolor": "white",
           "linecolor": "white",
           "ticks": "",
           "title": {
            "standoff": 15
           },
           "zerolinecolor": "white",
           "zerolinewidth": 2
          },
          "yaxis": {
           "automargin": true,
           "gridcolor": "white",
           "linecolor": "white",
           "ticks": "",
           "title": {
            "standoff": 15
           },
           "zerolinecolor": "white",
           "zerolinewidth": 2
          }
         }
        },
        "title": {
         "text": "Proportion of Shark Attacks Resulting in Fatalities by Activity Type"
        },
        "xaxis": {
         "anchor": "y",
         "domain": [
          0,
          1
         ],
         "title": {
          "text": "Activity Type"
         }
        },
        "yaxis": {
         "anchor": "x",
         "domain": [
          0,
          1
         ],
         "title": {
          "text": "Proportion of Attacks"
         }
        }
       }
      }
     },
     "metadata": {},
     "output_type": "display_data"
    }
   ],
   "source": [
    "# Calculate the proportion of fatal and non-fatal attacks for each activity type\n",
    "activity_type_fatal_pivot['No'] = activity_type_fatal_pivot['N'] / activity_type_fatal_pivot['Total']\n",
    "activity_type_fatal_pivot['Yes'] = activity_type_fatal_pivot['Y'] / activity_type_fatal_pivot['Total']\n",
    "\n",
    "fig = px.bar(activity_type_fatal_pivot, x='Activity_type', y=['No', 'Yes'],\n",
    "             title='Proportion of Shark Attacks Resulting in Fatalities by Activity Type',\n",
    "             labels={'Activity_type': 'Activity Type', 'value': 'Proportion of Attacks', 'variable': 'Death'},\n",
    "             color_discrete_map={'No': 'lightblue', 'Yes': 'darkblue'}, # Set color palette for 'No' and 'Yes'\n",
    "             barmode='group',# Grouped bars\n",
    "             opacity=0.8) # Adjust the opacity of the bars\n",
    "\n",
    "fig.show()"
   ]
  },
  {
   "cell_type": "markdown",
   "metadata": {},
   "source": [
    "## `Hypothesy 3`"
   ]
  },
  {
   "cell_type": "markdown",
   "metadata": {},
   "source": [
    "**Breakfast time may be prime dining hours:** With more people engaging in sports activities during the morning, sharks may have a higher chance of encountering potential prey, leading to increased feeding opportunities."
   ]
  },
  {
   "cell_type": "code",
   "execution_count": 331,
   "metadata": {},
   "outputs": [
    {
     "data": {
      "application/vnd.plotly.v1+json": {
       "config": {
        "plotlyServerURL": "https://plot.ly"
       },
       "data": [
        {
         "hovertemplate": "Time=%{x}<br>Frequency=%{y}<extra></extra>",
         "legendgroup": "",
         "line": {
          "color": "#636efa",
          "dash": "solid"
         },
         "marker": {
          "symbol": "circle"
         },
         "mode": "lines",
         "name": "",
         "orientation": "v",
         "showlegend": false,
         "type": "scatter",
         "x": [
          2,
          3,
          4,
          5,
          6,
          7,
          8,
          9,
          10,
          11,
          12,
          13,
          14,
          15,
          16,
          17,
          18,
          19,
          20,
          21,
          22,
          23
         ],
         "xaxis": "x",
         "y": [
          3,
          2,
          2,
          7,
          29,
          55,
          79,
          100,
          140,
          199,
          165,
          175,
          195,
          190,
          206,
          157,
          104,
          34,
          24,
          2,
          1,
          5
         ],
         "yaxis": "y"
        }
       ],
       "layout": {
        "legend": {
         "tracegroupgap": 0
        },
        "template": {
         "data": {
          "bar": [
           {
            "error_x": {
             "color": "#2a3f5f"
            },
            "error_y": {
             "color": "#2a3f5f"
            },
            "marker": {
             "line": {
              "color": "#E5ECF6",
              "width": 0.5
             },
             "pattern": {
              "fillmode": "overlay",
              "size": 10,
              "solidity": 0.2
             }
            },
            "type": "bar"
           }
          ],
          "barpolar": [
           {
            "marker": {
             "line": {
              "color": "#E5ECF6",
              "width": 0.5
             },
             "pattern": {
              "fillmode": "overlay",
              "size": 10,
              "solidity": 0.2
             }
            },
            "type": "barpolar"
           }
          ],
          "carpet": [
           {
            "aaxis": {
             "endlinecolor": "#2a3f5f",
             "gridcolor": "white",
             "linecolor": "white",
             "minorgridcolor": "white",
             "startlinecolor": "#2a3f5f"
            },
            "baxis": {
             "endlinecolor": "#2a3f5f",
             "gridcolor": "white",
             "linecolor": "white",
             "minorgridcolor": "white",
             "startlinecolor": "#2a3f5f"
            },
            "type": "carpet"
           }
          ],
          "choropleth": [
           {
            "colorbar": {
             "outlinewidth": 0,
             "ticks": ""
            },
            "type": "choropleth"
           }
          ],
          "contour": [
           {
            "colorbar": {
             "outlinewidth": 0,
             "ticks": ""
            },
            "colorscale": [
             [
              0,
              "#0d0887"
             ],
             [
              0.1111111111111111,
              "#46039f"
             ],
             [
              0.2222222222222222,
              "#7201a8"
             ],
             [
              0.3333333333333333,
              "#9c179e"
             ],
             [
              0.4444444444444444,
              "#bd3786"
             ],
             [
              0.5555555555555556,
              "#d8576b"
             ],
             [
              0.6666666666666666,
              "#ed7953"
             ],
             [
              0.7777777777777778,
              "#fb9f3a"
             ],
             [
              0.8888888888888888,
              "#fdca26"
             ],
             [
              1,
              "#f0f921"
             ]
            ],
            "type": "contour"
           }
          ],
          "contourcarpet": [
           {
            "colorbar": {
             "outlinewidth": 0,
             "ticks": ""
            },
            "type": "contourcarpet"
           }
          ],
          "heatmap": [
           {
            "colorbar": {
             "outlinewidth": 0,
             "ticks": ""
            },
            "colorscale": [
             [
              0,
              "#0d0887"
             ],
             [
              0.1111111111111111,
              "#46039f"
             ],
             [
              0.2222222222222222,
              "#7201a8"
             ],
             [
              0.3333333333333333,
              "#9c179e"
             ],
             [
              0.4444444444444444,
              "#bd3786"
             ],
             [
              0.5555555555555556,
              "#d8576b"
             ],
             [
              0.6666666666666666,
              "#ed7953"
             ],
             [
              0.7777777777777778,
              "#fb9f3a"
             ],
             [
              0.8888888888888888,
              "#fdca26"
             ],
             [
              1,
              "#f0f921"
             ]
            ],
            "type": "heatmap"
           }
          ],
          "heatmapgl": [
           {
            "colorbar": {
             "outlinewidth": 0,
             "ticks": ""
            },
            "colorscale": [
             [
              0,
              "#0d0887"
             ],
             [
              0.1111111111111111,
              "#46039f"
             ],
             [
              0.2222222222222222,
              "#7201a8"
             ],
             [
              0.3333333333333333,
              "#9c179e"
             ],
             [
              0.4444444444444444,
              "#bd3786"
             ],
             [
              0.5555555555555556,
              "#d8576b"
             ],
             [
              0.6666666666666666,
              "#ed7953"
             ],
             [
              0.7777777777777778,
              "#fb9f3a"
             ],
             [
              0.8888888888888888,
              "#fdca26"
             ],
             [
              1,
              "#f0f921"
             ]
            ],
            "type": "heatmapgl"
           }
          ],
          "histogram": [
           {
            "marker": {
             "pattern": {
              "fillmode": "overlay",
              "size": 10,
              "solidity": 0.2
             }
            },
            "type": "histogram"
           }
          ],
          "histogram2d": [
           {
            "colorbar": {
             "outlinewidth": 0,
             "ticks": ""
            },
            "colorscale": [
             [
              0,
              "#0d0887"
             ],
             [
              0.1111111111111111,
              "#46039f"
             ],
             [
              0.2222222222222222,
              "#7201a8"
             ],
             [
              0.3333333333333333,
              "#9c179e"
             ],
             [
              0.4444444444444444,
              "#bd3786"
             ],
             [
              0.5555555555555556,
              "#d8576b"
             ],
             [
              0.6666666666666666,
              "#ed7953"
             ],
             [
              0.7777777777777778,
              "#fb9f3a"
             ],
             [
              0.8888888888888888,
              "#fdca26"
             ],
             [
              1,
              "#f0f921"
             ]
            ],
            "type": "histogram2d"
           }
          ],
          "histogram2dcontour": [
           {
            "colorbar": {
             "outlinewidth": 0,
             "ticks": ""
            },
            "colorscale": [
             [
              0,
              "#0d0887"
             ],
             [
              0.1111111111111111,
              "#46039f"
             ],
             [
              0.2222222222222222,
              "#7201a8"
             ],
             [
              0.3333333333333333,
              "#9c179e"
             ],
             [
              0.4444444444444444,
              "#bd3786"
             ],
             [
              0.5555555555555556,
              "#d8576b"
             ],
             [
              0.6666666666666666,
              "#ed7953"
             ],
             [
              0.7777777777777778,
              "#fb9f3a"
             ],
             [
              0.8888888888888888,
              "#fdca26"
             ],
             [
              1,
              "#f0f921"
             ]
            ],
            "type": "histogram2dcontour"
           }
          ],
          "mesh3d": [
           {
            "colorbar": {
             "outlinewidth": 0,
             "ticks": ""
            },
            "type": "mesh3d"
           }
          ],
          "parcoords": [
           {
            "line": {
             "colorbar": {
              "outlinewidth": 0,
              "ticks": ""
             }
            },
            "type": "parcoords"
           }
          ],
          "pie": [
           {
            "automargin": true,
            "type": "pie"
           }
          ],
          "scatter": [
           {
            "fillpattern": {
             "fillmode": "overlay",
             "size": 10,
             "solidity": 0.2
            },
            "type": "scatter"
           }
          ],
          "scatter3d": [
           {
            "line": {
             "colorbar": {
              "outlinewidth": 0,
              "ticks": ""
             }
            },
            "marker": {
             "colorbar": {
              "outlinewidth": 0,
              "ticks": ""
             }
            },
            "type": "scatter3d"
           }
          ],
          "scattercarpet": [
           {
            "marker": {
             "colorbar": {
              "outlinewidth": 0,
              "ticks": ""
             }
            },
            "type": "scattercarpet"
           }
          ],
          "scattergeo": [
           {
            "marker": {
             "colorbar": {
              "outlinewidth": 0,
              "ticks": ""
             }
            },
            "type": "scattergeo"
           }
          ],
          "scattergl": [
           {
            "marker": {
             "colorbar": {
              "outlinewidth": 0,
              "ticks": ""
             }
            },
            "type": "scattergl"
           }
          ],
          "scattermapbox": [
           {
            "marker": {
             "colorbar": {
              "outlinewidth": 0,
              "ticks": ""
             }
            },
            "type": "scattermapbox"
           }
          ],
          "scatterpolar": [
           {
            "marker": {
             "colorbar": {
              "outlinewidth": 0,
              "ticks": ""
             }
            },
            "type": "scatterpolar"
           }
          ],
          "scatterpolargl": [
           {
            "marker": {
             "colorbar": {
              "outlinewidth": 0,
              "ticks": ""
             }
            },
            "type": "scatterpolargl"
           }
          ],
          "scatterternary": [
           {
            "marker": {
             "colorbar": {
              "outlinewidth": 0,
              "ticks": ""
             }
            },
            "type": "scatterternary"
           }
          ],
          "surface": [
           {
            "colorbar": {
             "outlinewidth": 0,
             "ticks": ""
            },
            "colorscale": [
             [
              0,
              "#0d0887"
             ],
             [
              0.1111111111111111,
              "#46039f"
             ],
             [
              0.2222222222222222,
              "#7201a8"
             ],
             [
              0.3333333333333333,
              "#9c179e"
             ],
             [
              0.4444444444444444,
              "#bd3786"
             ],
             [
              0.5555555555555556,
              "#d8576b"
             ],
             [
              0.6666666666666666,
              "#ed7953"
             ],
             [
              0.7777777777777778,
              "#fb9f3a"
             ],
             [
              0.8888888888888888,
              "#fdca26"
             ],
             [
              1,
              "#f0f921"
             ]
            ],
            "type": "surface"
           }
          ],
          "table": [
           {
            "cells": {
             "fill": {
              "color": "#EBF0F8"
             },
             "line": {
              "color": "white"
             }
            },
            "header": {
             "fill": {
              "color": "#C8D4E3"
             },
             "line": {
              "color": "white"
             }
            },
            "type": "table"
           }
          ]
         },
         "layout": {
          "annotationdefaults": {
           "arrowcolor": "#2a3f5f",
           "arrowhead": 0,
           "arrowwidth": 1
          },
          "autotypenumbers": "strict",
          "coloraxis": {
           "colorbar": {
            "outlinewidth": 0,
            "ticks": ""
           }
          },
          "colorscale": {
           "diverging": [
            [
             0,
             "#8e0152"
            ],
            [
             0.1,
             "#c51b7d"
            ],
            [
             0.2,
             "#de77ae"
            ],
            [
             0.3,
             "#f1b6da"
            ],
            [
             0.4,
             "#fde0ef"
            ],
            [
             0.5,
             "#f7f7f7"
            ],
            [
             0.6,
             "#e6f5d0"
            ],
            [
             0.7,
             "#b8e186"
            ],
            [
             0.8,
             "#7fbc41"
            ],
            [
             0.9,
             "#4d9221"
            ],
            [
             1,
             "#276419"
            ]
           ],
           "sequential": [
            [
             0,
             "#0d0887"
            ],
            [
             0.1111111111111111,
             "#46039f"
            ],
            [
             0.2222222222222222,
             "#7201a8"
            ],
            [
             0.3333333333333333,
             "#9c179e"
            ],
            [
             0.4444444444444444,
             "#bd3786"
            ],
            [
             0.5555555555555556,
             "#d8576b"
            ],
            [
             0.6666666666666666,
             "#ed7953"
            ],
            [
             0.7777777777777778,
             "#fb9f3a"
            ],
            [
             0.8888888888888888,
             "#fdca26"
            ],
            [
             1,
             "#f0f921"
            ]
           ],
           "sequentialminus": [
            [
             0,
             "#0d0887"
            ],
            [
             0.1111111111111111,
             "#46039f"
            ],
            [
             0.2222222222222222,
             "#7201a8"
            ],
            [
             0.3333333333333333,
             "#9c179e"
            ],
            [
             0.4444444444444444,
             "#bd3786"
            ],
            [
             0.5555555555555556,
             "#d8576b"
            ],
            [
             0.6666666666666666,
             "#ed7953"
            ],
            [
             0.7777777777777778,
             "#fb9f3a"
            ],
            [
             0.8888888888888888,
             "#fdca26"
            ],
            [
             1,
             "#f0f921"
            ]
           ]
          },
          "colorway": [
           "#636efa",
           "#EF553B",
           "#00cc96",
           "#ab63fa",
           "#FFA15A",
           "#19d3f3",
           "#FF6692",
           "#B6E880",
           "#FF97FF",
           "#FECB52"
          ],
          "font": {
           "color": "#2a3f5f"
          },
          "geo": {
           "bgcolor": "white",
           "lakecolor": "white",
           "landcolor": "#E5ECF6",
           "showlakes": true,
           "showland": true,
           "subunitcolor": "white"
          },
          "hoverlabel": {
           "align": "left"
          },
          "hovermode": "closest",
          "mapbox": {
           "style": "light"
          },
          "paper_bgcolor": "white",
          "plot_bgcolor": "#E5ECF6",
          "polar": {
           "angularaxis": {
            "gridcolor": "white",
            "linecolor": "white",
            "ticks": ""
           },
           "bgcolor": "#E5ECF6",
           "radialaxis": {
            "gridcolor": "white",
            "linecolor": "white",
            "ticks": ""
           }
          },
          "scene": {
           "xaxis": {
            "backgroundcolor": "#E5ECF6",
            "gridcolor": "white",
            "gridwidth": 2,
            "linecolor": "white",
            "showbackground": true,
            "ticks": "",
            "zerolinecolor": "white"
           },
           "yaxis": {
            "backgroundcolor": "#E5ECF6",
            "gridcolor": "white",
            "gridwidth": 2,
            "linecolor": "white",
            "showbackground": true,
            "ticks": "",
            "zerolinecolor": "white"
           },
           "zaxis": {
            "backgroundcolor": "#E5ECF6",
            "gridcolor": "white",
            "gridwidth": 2,
            "linecolor": "white",
            "showbackground": true,
            "ticks": "",
            "zerolinecolor": "white"
           }
          },
          "shapedefaults": {
           "line": {
            "color": "#2a3f5f"
           }
          },
          "ternary": {
           "aaxis": {
            "gridcolor": "white",
            "linecolor": "white",
            "ticks": ""
           },
           "baxis": {
            "gridcolor": "white",
            "linecolor": "white",
            "ticks": ""
           },
           "bgcolor": "#E5ECF6",
           "caxis": {
            "gridcolor": "white",
            "linecolor": "white",
            "ticks": ""
           }
          },
          "title": {
           "x": 0.05
          },
          "xaxis": {
           "automargin": true,
           "gridcolor": "white",
           "linecolor": "white",
           "ticks": "",
           "title": {
            "standoff": 15
           },
           "zerolinecolor": "white",
           "zerolinewidth": 2
          },
          "yaxis": {
           "automargin": true,
           "gridcolor": "white",
           "linecolor": "white",
           "ticks": "",
           "title": {
            "standoff": 15
           },
           "zerolinecolor": "white",
           "zerolinewidth": 2
          }
         }
        },
        "title": {
         "text": "Frequency of Cases by Time"
        },
        "xaxis": {
         "anchor": "y",
         "domain": [
          0,
          1
         ],
         "title": {
          "text": "Time"
         }
        },
        "yaxis": {
         "anchor": "x",
         "domain": [
          0,
          1
         ],
         "title": {
          "text": "Frequency"
         }
        }
       }
      }
     },
     "metadata": {},
     "output_type": "display_data"
    },
    {
     "data": {
      "application/vnd.plotly.v1+json": {
       "config": {
        "plotlyServerURL": "https://plot.ly"
       },
       "data": [
        {
         "coloraxis": "coloraxis",
         "hovertemplate": "Time of Day: %{x}<br>y: %{y}<br>color: %{z}<extra></extra>",
         "name": "0",
         "type": "heatmap",
         "x": [
          2,
          3,
          4,
          5,
          6,
          7,
          8,
          9,
          10,
          11,
          12,
          13,
          14,
          15,
          16,
          17,
          18,
          19,
          20,
          21,
          22,
          23
         ],
         "xaxis": "x",
         "y": [
          ""
         ],
         "yaxis": "y",
         "z": [
          [
           3,
           2,
           2,
           7,
           29,
           55,
           79,
           100,
           140,
           199,
           165,
           175,
           195,
           190,
           206,
           157,
           104,
           34,
           24,
           2,
           1,
           5
          ]
         ]
        }
       ],
       "layout": {
        "coloraxis": {
         "colorscale": [
          [
           0,
           "rgb(247,251,255)"
          ],
          [
           0.125,
           "rgb(222,235,247)"
          ],
          [
           0.25,
           "rgb(198,219,239)"
          ],
          [
           0.375,
           "rgb(158,202,225)"
          ],
          [
           0.5,
           "rgb(107,174,214)"
          ],
          [
           0.625,
           "rgb(66,146,198)"
          ],
          [
           0.75,
           "rgb(33,113,181)"
          ],
          [
           0.875,
           "rgb(8,81,156)"
          ],
          [
           1,
           "rgb(8,48,107)"
          ]
         ]
        },
        "template": {
         "data": {
          "bar": [
           {
            "error_x": {
             "color": "#2a3f5f"
            },
            "error_y": {
             "color": "#2a3f5f"
            },
            "marker": {
             "line": {
              "color": "#E5ECF6",
              "width": 0.5
             },
             "pattern": {
              "fillmode": "overlay",
              "size": 10,
              "solidity": 0.2
             }
            },
            "type": "bar"
           }
          ],
          "barpolar": [
           {
            "marker": {
             "line": {
              "color": "#E5ECF6",
              "width": 0.5
             },
             "pattern": {
              "fillmode": "overlay",
              "size": 10,
              "solidity": 0.2
             }
            },
            "type": "barpolar"
           }
          ],
          "carpet": [
           {
            "aaxis": {
             "endlinecolor": "#2a3f5f",
             "gridcolor": "white",
             "linecolor": "white",
             "minorgridcolor": "white",
             "startlinecolor": "#2a3f5f"
            },
            "baxis": {
             "endlinecolor": "#2a3f5f",
             "gridcolor": "white",
             "linecolor": "white",
             "minorgridcolor": "white",
             "startlinecolor": "#2a3f5f"
            },
            "type": "carpet"
           }
          ],
          "choropleth": [
           {
            "colorbar": {
             "outlinewidth": 0,
             "ticks": ""
            },
            "type": "choropleth"
           }
          ],
          "contour": [
           {
            "colorbar": {
             "outlinewidth": 0,
             "ticks": ""
            },
            "colorscale": [
             [
              0,
              "#0d0887"
             ],
             [
              0.1111111111111111,
              "#46039f"
             ],
             [
              0.2222222222222222,
              "#7201a8"
             ],
             [
              0.3333333333333333,
              "#9c179e"
             ],
             [
              0.4444444444444444,
              "#bd3786"
             ],
             [
              0.5555555555555556,
              "#d8576b"
             ],
             [
              0.6666666666666666,
              "#ed7953"
             ],
             [
              0.7777777777777778,
              "#fb9f3a"
             ],
             [
              0.8888888888888888,
              "#fdca26"
             ],
             [
              1,
              "#f0f921"
             ]
            ],
            "type": "contour"
           }
          ],
          "contourcarpet": [
           {
            "colorbar": {
             "outlinewidth": 0,
             "ticks": ""
            },
            "type": "contourcarpet"
           }
          ],
          "heatmap": [
           {
            "colorbar": {
             "outlinewidth": 0,
             "ticks": ""
            },
            "colorscale": [
             [
              0,
              "#0d0887"
             ],
             [
              0.1111111111111111,
              "#46039f"
             ],
             [
              0.2222222222222222,
              "#7201a8"
             ],
             [
              0.3333333333333333,
              "#9c179e"
             ],
             [
              0.4444444444444444,
              "#bd3786"
             ],
             [
              0.5555555555555556,
              "#d8576b"
             ],
             [
              0.6666666666666666,
              "#ed7953"
             ],
             [
              0.7777777777777778,
              "#fb9f3a"
             ],
             [
              0.8888888888888888,
              "#fdca26"
             ],
             [
              1,
              "#f0f921"
             ]
            ],
            "type": "heatmap"
           }
          ],
          "heatmapgl": [
           {
            "colorbar": {
             "outlinewidth": 0,
             "ticks": ""
            },
            "colorscale": [
             [
              0,
              "#0d0887"
             ],
             [
              0.1111111111111111,
              "#46039f"
             ],
             [
              0.2222222222222222,
              "#7201a8"
             ],
             [
              0.3333333333333333,
              "#9c179e"
             ],
             [
              0.4444444444444444,
              "#bd3786"
             ],
             [
              0.5555555555555556,
              "#d8576b"
             ],
             [
              0.6666666666666666,
              "#ed7953"
             ],
             [
              0.7777777777777778,
              "#fb9f3a"
             ],
             [
              0.8888888888888888,
              "#fdca26"
             ],
             [
              1,
              "#f0f921"
             ]
            ],
            "type": "heatmapgl"
           }
          ],
          "histogram": [
           {
            "marker": {
             "pattern": {
              "fillmode": "overlay",
              "size": 10,
              "solidity": 0.2
             }
            },
            "type": "histogram"
           }
          ],
          "histogram2d": [
           {
            "colorbar": {
             "outlinewidth": 0,
             "ticks": ""
            },
            "colorscale": [
             [
              0,
              "#0d0887"
             ],
             [
              0.1111111111111111,
              "#46039f"
             ],
             [
              0.2222222222222222,
              "#7201a8"
             ],
             [
              0.3333333333333333,
              "#9c179e"
             ],
             [
              0.4444444444444444,
              "#bd3786"
             ],
             [
              0.5555555555555556,
              "#d8576b"
             ],
             [
              0.6666666666666666,
              "#ed7953"
             ],
             [
              0.7777777777777778,
              "#fb9f3a"
             ],
             [
              0.8888888888888888,
              "#fdca26"
             ],
             [
              1,
              "#f0f921"
             ]
            ],
            "type": "histogram2d"
           }
          ],
          "histogram2dcontour": [
           {
            "colorbar": {
             "outlinewidth": 0,
             "ticks": ""
            },
            "colorscale": [
             [
              0,
              "#0d0887"
             ],
             [
              0.1111111111111111,
              "#46039f"
             ],
             [
              0.2222222222222222,
              "#7201a8"
             ],
             [
              0.3333333333333333,
              "#9c179e"
             ],
             [
              0.4444444444444444,
              "#bd3786"
             ],
             [
              0.5555555555555556,
              "#d8576b"
             ],
             [
              0.6666666666666666,
              "#ed7953"
             ],
             [
              0.7777777777777778,
              "#fb9f3a"
             ],
             [
              0.8888888888888888,
              "#fdca26"
             ],
             [
              1,
              "#f0f921"
             ]
            ],
            "type": "histogram2dcontour"
           }
          ],
          "mesh3d": [
           {
            "colorbar": {
             "outlinewidth": 0,
             "ticks": ""
            },
            "type": "mesh3d"
           }
          ],
          "parcoords": [
           {
            "line": {
             "colorbar": {
              "outlinewidth": 0,
              "ticks": ""
             }
            },
            "type": "parcoords"
           }
          ],
          "pie": [
           {
            "automargin": true,
            "type": "pie"
           }
          ],
          "scatter": [
           {
            "fillpattern": {
             "fillmode": "overlay",
             "size": 10,
             "solidity": 0.2
            },
            "type": "scatter"
           }
          ],
          "scatter3d": [
           {
            "line": {
             "colorbar": {
              "outlinewidth": 0,
              "ticks": ""
             }
            },
            "marker": {
             "colorbar": {
              "outlinewidth": 0,
              "ticks": ""
             }
            },
            "type": "scatter3d"
           }
          ],
          "scattercarpet": [
           {
            "marker": {
             "colorbar": {
              "outlinewidth": 0,
              "ticks": ""
             }
            },
            "type": "scattercarpet"
           }
          ],
          "scattergeo": [
           {
            "marker": {
             "colorbar": {
              "outlinewidth": 0,
              "ticks": ""
             }
            },
            "type": "scattergeo"
           }
          ],
          "scattergl": [
           {
            "marker": {
             "colorbar": {
              "outlinewidth": 0,
              "ticks": ""
             }
            },
            "type": "scattergl"
           }
          ],
          "scattermapbox": [
           {
            "marker": {
             "colorbar": {
              "outlinewidth": 0,
              "ticks": ""
             }
            },
            "type": "scattermapbox"
           }
          ],
          "scatterpolar": [
           {
            "marker": {
             "colorbar": {
              "outlinewidth": 0,
              "ticks": ""
             }
            },
            "type": "scatterpolar"
           }
          ],
          "scatterpolargl": [
           {
            "marker": {
             "colorbar": {
              "outlinewidth": 0,
              "ticks": ""
             }
            },
            "type": "scatterpolargl"
           }
          ],
          "scatterternary": [
           {
            "marker": {
             "colorbar": {
              "outlinewidth": 0,
              "ticks": ""
             }
            },
            "type": "scatterternary"
           }
          ],
          "surface": [
           {
            "colorbar": {
             "outlinewidth": 0,
             "ticks": ""
            },
            "colorscale": [
             [
              0,
              "#0d0887"
             ],
             [
              0.1111111111111111,
              "#46039f"
             ],
             [
              0.2222222222222222,
              "#7201a8"
             ],
             [
              0.3333333333333333,
              "#9c179e"
             ],
             [
              0.4444444444444444,
              "#bd3786"
             ],
             [
              0.5555555555555556,
              "#d8576b"
             ],
             [
              0.6666666666666666,
              "#ed7953"
             ],
             [
              0.7777777777777778,
              "#fb9f3a"
             ],
             [
              0.8888888888888888,
              "#fdca26"
             ],
             [
              1,
              "#f0f921"
             ]
            ],
            "type": "surface"
           }
          ],
          "table": [
           {
            "cells": {
             "fill": {
              "color": "#EBF0F8"
             },
             "line": {
              "color": "white"
             }
            },
            "header": {
             "fill": {
              "color": "#C8D4E3"
             },
             "line": {
              "color": "white"
             }
            },
            "type": "table"
           }
          ]
         },
         "layout": {
          "annotationdefaults": {
           "arrowcolor": "#2a3f5f",
           "arrowhead": 0,
           "arrowwidth": 1
          },
          "autotypenumbers": "strict",
          "coloraxis": {
           "colorbar": {
            "outlinewidth": 0,
            "ticks": ""
           }
          },
          "colorscale": {
           "diverging": [
            [
             0,
             "#8e0152"
            ],
            [
             0.1,
             "#c51b7d"
            ],
            [
             0.2,
             "#de77ae"
            ],
            [
             0.3,
             "#f1b6da"
            ],
            [
             0.4,
             "#fde0ef"
            ],
            [
             0.5,
             "#f7f7f7"
            ],
            [
             0.6,
             "#e6f5d0"
            ],
            [
             0.7,
             "#b8e186"
            ],
            [
             0.8,
             "#7fbc41"
            ],
            [
             0.9,
             "#4d9221"
            ],
            [
             1,
             "#276419"
            ]
           ],
           "sequential": [
            [
             0,
             "#0d0887"
            ],
            [
             0.1111111111111111,
             "#46039f"
            ],
            [
             0.2222222222222222,
             "#7201a8"
            ],
            [
             0.3333333333333333,
             "#9c179e"
            ],
            [
             0.4444444444444444,
             "#bd3786"
            ],
            [
             0.5555555555555556,
             "#d8576b"
            ],
            [
             0.6666666666666666,
             "#ed7953"
            ],
            [
             0.7777777777777778,
             "#fb9f3a"
            ],
            [
             0.8888888888888888,
             "#fdca26"
            ],
            [
             1,
             "#f0f921"
            ]
           ],
           "sequentialminus": [
            [
             0,
             "#0d0887"
            ],
            [
             0.1111111111111111,
             "#46039f"
            ],
            [
             0.2222222222222222,
             "#7201a8"
            ],
            [
             0.3333333333333333,
             "#9c179e"
            ],
            [
             0.4444444444444444,
             "#bd3786"
            ],
            [
             0.5555555555555556,
             "#d8576b"
            ],
            [
             0.6666666666666666,
             "#ed7953"
            ],
            [
             0.7777777777777778,
             "#fb9f3a"
            ],
            [
             0.8888888888888888,
             "#fdca26"
            ],
            [
             1,
             "#f0f921"
            ]
           ]
          },
          "colorway": [
           "#636efa",
           "#EF553B",
           "#00cc96",
           "#ab63fa",
           "#FFA15A",
           "#19d3f3",
           "#FF6692",
           "#B6E880",
           "#FF97FF",
           "#FECB52"
          ],
          "font": {
           "color": "#2a3f5f"
          },
          "geo": {
           "bgcolor": "white",
           "lakecolor": "white",
           "landcolor": "#E5ECF6",
           "showlakes": true,
           "showland": true,
           "subunitcolor": "white"
          },
          "hoverlabel": {
           "align": "left"
          },
          "hovermode": "closest",
          "mapbox": {
           "style": "light"
          },
          "paper_bgcolor": "white",
          "plot_bgcolor": "#E5ECF6",
          "polar": {
           "angularaxis": {
            "gridcolor": "white",
            "linecolor": "white",
            "ticks": ""
           },
           "bgcolor": "#E5ECF6",
           "radialaxis": {
            "gridcolor": "white",
            "linecolor": "white",
            "ticks": ""
           }
          },
          "scene": {
           "xaxis": {
            "backgroundcolor": "#E5ECF6",
            "gridcolor": "white",
            "gridwidth": 2,
            "linecolor": "white",
            "showbackground": true,
            "ticks": "",
            "zerolinecolor": "white"
           },
           "yaxis": {
            "backgroundcolor": "#E5ECF6",
            "gridcolor": "white",
            "gridwidth": 2,
            "linecolor": "white",
            "showbackground": true,
            "ticks": "",
            "zerolinecolor": "white"
           },
           "zaxis": {
            "backgroundcolor": "#E5ECF6",
            "gridcolor": "white",
            "gridwidth": 2,
            "linecolor": "white",
            "showbackground": true,
            "ticks": "",
            "zerolinecolor": "white"
           }
          },
          "shapedefaults": {
           "line": {
            "color": "#2a3f5f"
           }
          },
          "ternary": {
           "aaxis": {
            "gridcolor": "white",
            "linecolor": "white",
            "ticks": ""
           },
           "baxis": {
            "gridcolor": "white",
            "linecolor": "white",
            "ticks": ""
           },
           "bgcolor": "#E5ECF6",
           "caxis": {
            "gridcolor": "white",
            "linecolor": "white",
            "ticks": ""
           }
          },
          "title": {
           "x": 0.05
          },
          "xaxis": {
           "automargin": true,
           "gridcolor": "white",
           "linecolor": "white",
           "ticks": "",
           "title": {
            "standoff": 15
           },
           "zerolinecolor": "white",
           "zerolinewidth": 2
          },
          "yaxis": {
           "automargin": true,
           "gridcolor": "white",
           "linecolor": "white",
           "ticks": "",
           "title": {
            "standoff": 15
           },
           "zerolinecolor": "white",
           "zerolinewidth": 2
          }
         }
        },
        "title": {
         "text": "Heatmap of Shark Attacks by Time of Day"
        },
        "xaxis": {
         "anchor": "y",
         "domain": [
          0,
          1
         ],
         "ticktext": [
          "Night",
          "Morning",
          "Afternoon",
          "Evening"
         ],
         "tickvals": [
          5,
          10,
          15,
          20
         ],
         "title": {
          "text": "Time of Day"
         }
        },
        "yaxis": {
         "anchor": "x",
         "autorange": "reversed",
         "domain": [
          0,
          1
         ]
        }
       }
      }
     },
     "metadata": {},
     "output_type": "display_data"
    }
   ],
   "source": [
    "# Grouping by 'Time' and counting the frequency of cases\n",
    "time_frequency = attacks.groupby('Time').size().reset_index(name='Frequency')\n",
    "\n",
    "# Sorting by time\n",
    "time_frequency = time_frequency.sort_values(by='Time')\n",
    "\n",
    "# Create a line plot\n",
    "fig_line = px.line(time_frequency, x='Time', y='Frequency', title='Frequency of Cases by Time')\n",
    "\n",
    "# Create a heatmap\n",
    "fig_heatmap = px.imshow([time_frequency['Frequency']], \n",
    "                        labels=dict(x=\"Time of Day\", y=\"\"),\n",
    "                        x=time_frequency['Time'], y=[''],\n",
    "                        color_continuous_scale='blues',\n",
    "                        aspect='auto',\n",
    "                        title='Heatmap of Shark Attacks by Time of Day')\n",
    "fig_heatmap.update_xaxes(tickvals=[5, 10, 15, 20], \n",
    "                         ticktext=['Night', 'Morning', 'Afternoon', 'Evening'])\n",
    "\n",
    "# Display the plots\n",
    "fig_line.show()\n",
    "fig_heatmap.show()"
   ]
  },
  {
   "cell_type": "code",
   "execution_count": 296,
   "metadata": {},
   "outputs": [
    {
     "data": {
      "text/html": [
       "<div>\n",
       "<style scoped>\n",
       "    .dataframe tbody tr th:only-of-type {\n",
       "        vertical-align: middle;\n",
       "    }\n",
       "\n",
       "    .dataframe tbody tr th {\n",
       "        vertical-align: top;\n",
       "    }\n",
       "\n",
       "    .dataframe thead th {\n",
       "        text-align: right;\n",
       "    }\n",
       "</style>\n",
       "<table border=\"1\" class=\"dataframe\">\n",
       "  <thead>\n",
       "    <tr style=\"text-align: right;\">\n",
       "      <th>Fatal (Y/N)</th>\n",
       "      <th>Sex</th>\n",
       "      <th>N</th>\n",
       "      <th>Y</th>\n",
       "      <th>Total</th>\n",
       "    </tr>\n",
       "  </thead>\n",
       "  <tbody>\n",
       "    <tr>\n",
       "      <th>0</th>\n",
       "      <td>F</td>\n",
       "      <td>238</td>\n",
       "      <td>37</td>\n",
       "      <td>275</td>\n",
       "    </tr>\n",
       "    <tr>\n",
       "      <th>1</th>\n",
       "      <td>M</td>\n",
       "      <td>1315</td>\n",
       "      <td>284</td>\n",
       "      <td>1599</td>\n",
       "    </tr>\n",
       "  </tbody>\n",
       "</table>\n",
       "</div>"
      ],
      "text/plain": [
       "Fatal (Y/N) Sex     N    Y  Total\n",
       "0             F   238   37    275\n",
       "1             M  1315  284   1599"
      ]
     },
     "execution_count": 296,
     "metadata": {},
     "output_type": "execute_result"
    }
   ],
   "source": [
    "sex_fatal_counts = attacks.groupby(['Sex', 'Fatal (Y/N)']).size().reset_index(name='Counts')\n",
    "\n",
    "# Pivot the DataFrame to have Fatal (Y/N) as columns\n",
    "sex_fatal_pivot = sex_fatal_counts.pivot_table(index='Sex', columns='Fatal (Y/N)', values='Counts', aggfunc='sum', fill_value=0).reset_index()\n",
    "\n",
    "# Calculate the total number of attacks for each activity type\n",
    "sex_fatal_pivot['Total'] = sex_fatal_pivot['N'] + sex_fatal_pivot['Y']\n",
    "sex_fatal_pivot"
   ]
  },
  {
   "cell_type": "code",
   "execution_count": 163,
   "metadata": {},
   "outputs": [
    {
     "data": {
      "text/html": [
       "<div>\n",
       "<style scoped>\n",
       "    .dataframe tbody tr th:only-of-type {\n",
       "        vertical-align: middle;\n",
       "    }\n",
       "\n",
       "    .dataframe tbody tr th {\n",
       "        vertical-align: top;\n",
       "    }\n",
       "\n",
       "    .dataframe thead th {\n",
       "        text-align: right;\n",
       "    }\n",
       "</style>\n",
       "<table border=\"1\" class=\"dataframe\">\n",
       "  <thead>\n",
       "    <tr style=\"text-align: right;\">\n",
       "      <th></th>\n",
       "      <th>Activity</th>\n",
       "      <th>Total Count</th>\n",
       "    </tr>\n",
       "  </thead>\n",
       "  <tbody>\n",
       "    <tr>\n",
       "      <th>0</th>\n",
       "      <td>surfing</td>\n",
       "      <td>687</td>\n",
       "    </tr>\n",
       "    <tr>\n",
       "      <th>1</th>\n",
       "      <td>swimming</td>\n",
       "      <td>361</td>\n",
       "    </tr>\n",
       "    <tr>\n",
       "      <th>2</th>\n",
       "      <td>others</td>\n",
       "      <td>308</td>\n",
       "    </tr>\n",
       "    <tr>\n",
       "      <th>3</th>\n",
       "      <td>fishing</td>\n",
       "      <td>190</td>\n",
       "    </tr>\n",
       "    <tr>\n",
       "      <th>4</th>\n",
       "      <td>diving</td>\n",
       "      <td>167</td>\n",
       "    </tr>\n",
       "    <tr>\n",
       "      <th>5</th>\n",
       "      <td>bathing</td>\n",
       "      <td>143</td>\n",
       "    </tr>\n",
       "    <tr>\n",
       "      <th>6</th>\n",
       "      <td>kayaking</td>\n",
       "      <td>18</td>\n",
       "    </tr>\n",
       "  </tbody>\n",
       "</table>\n",
       "</div>"
      ],
      "text/plain": [
       "   Activity  Total Count\n",
       "0   surfing          687\n",
       "1  swimming          361\n",
       "2    others          308\n",
       "3   fishing          190\n",
       "4    diving          167\n",
       "5   bathing          143\n",
       "6  kayaking           18"
      ]
     },
     "execution_count": 163,
     "metadata": {},
     "output_type": "execute_result"
    }
   ],
   "source": [
    "attacks_activities = attacks['Activity'].value_counts().reset_index()\n",
    "activity_counts.columns = ['Activity', 'Total Count']\n",
    "activity_counts"
   ]
  },
  {
   "cell_type": "markdown",
   "metadata": {},
   "source": [
    "## `Hypothesy 4`"
   ]
  },
  {
   "cell_type": "markdown",
   "metadata": {},
   "source": [
    "**Advanced age increases vulnerability:** Older individuals may be more susceptible to shark attacks due to potential mobility limitations and decreased ability to evade or defend against predators."
   ]
  },
  {
   "cell_type": "code",
   "execution_count": 339,
   "metadata": {},
   "outputs": [
    {
     "data": {
      "image/png": "[encoded data removed]",
      "text/plain": [
       "<Figure size 583.111x500 with 1 Axes>"
      ]
     },
     "metadata": {},
     "output_type": "display_data"
    }
   ],
   "source": [
    "#sns.set_palette(\"Blues\")\n",
    "#custom_palette = [\"lightblue\", \"darkblue\"]\n",
    "\n",
    "custom_palette = sns.color_palette(\"Blues\", n_colors=3)  # Adjust n_colors as needed\n",
    "custom_palette = sns.color_palette([(r, g, b, 0.9) for (r, g, b) in custom_palette])  # Adjust transparency (0.7 in this example)\n",
    "\n",
    "# Set the custom palette\n",
    "sns.set_palette(custom_palette)\n",
    "\n",
    "# Set the custom color palette\n",
    "#sns.set_palette(custom_palette)\n",
    "\n",
    "# Create the categorical plot with jitter and specify the hue\n",
    "sns.catplot(data=attacks, x=\"Activity\", y='Age', hue='Fatal (Y/N)', jitter=0.2)\n",
    "\n",
    "# Add a title to the plot\n",
    "plt.title('Relationship between Activity and Age with the Fatality result differentiation')\n",
    "\n",
    "# Show the plot\n",
    "plt.show()"
   ]
  },
  {
   "cell_type": "code",
   "execution_count": 352,
   "metadata": {},
   "outputs": [
    {
     "data": {
      "application/vnd.plotly.v1+json": {
       "config": {
        "plotlyServerURL": "https://plot.ly"
       },
       "data": [
        {
         "alignmentgroup": "True",
         "boxpoints": "all",
         "hovertemplate": "Fatal (Y/N)=N<br>Activity=%{x}<br>Age=%{y}<extra></extra>",
         "legendgroup": "N",
         "marker": {
          "color": "#084594"
         },
         "name": "N",
         "notched": false,
         "offsetgroup": "N",
         "orientation": "v",
         "showlegend": true,
         "type": "box",
         "x": [
          "others",
          "surfing",
          "surfing",
          "bathing",
          "surfing",
          "swimming",
          "fishing",
          "diving",
          "surfing",
          "fishing",
          "others",
          "surfing",
          "swimming",
          "surfing",
          "others",
          "bathing",
          "swimming",
          "surfing",
          "swimming",
          "bathing",
          "others",
          "fishing",
          "surfing",
          "surfing",
          "fishing",
          "surfing",
          "surfing",
          "surfing",
          "swimming",
          "surfing",
          "diving",
          "surfing",
          "surfing",
          "surfing",
          "surfing",
          "surfing",
          "surfing",
          "bathing",
          "others",
          "swimming",
          "fishing",
          "others",
          "surfing",
          "others",
          "kayaking",
          "others",
          "swimming",
          "surfing",
          "others",
          "swimming",
          "others",
          "surfing",
          "diving",
          "surfing",
          "surfing",
          "others",
          "diving",
          "surfing",
          "surfing",
          "surfing",
          "others",
          "swimming",
          "swimming",
          "swimming",
          "surfing",
          "others",
          "fishing",
          "swimming",
          "swimming",
          "others",
          "diving",
          "swimming",
          "surfing",
          "bathing",
          "surfing",
          "others",
          "diving",
          "fishing",
          "surfing",
          "fishing",
          "bathing",
          "surfing",
          "surfing",
          "diving",
          "surfing",
          "surfing",
          "surfing",
          "others",
          "surfing",
          "surfing",
          "surfing",
          "bathing",
          "swimming",
          "surfing",
          "surfing",
          "surfing",
          "bathing",
          "others",
          "swimming",
          "surfing",
          "surfing",
          "others",
          "surfing",
          "fishing",
          "swimming",
          "fishing",
          "others",
          "surfing",
          "diving",
          "bathing",
          "bathing",
          "surfing",
          "swimming",
          "swimming",
          "swimming",
          "swimming",
          "swimming",
          "swimming",
          "others",
          "bathing",
          "surfing",
          "surfing",
          "swimming",
          "diving",
          "surfing",
          "surfing",
          "surfing",
          "surfing",
          "fishing",
          "bathing",
          "surfing",
          "fishing",
          "surfing",
          "diving",
          "surfing",
          "swimming",
          "bathing",
          "fishing",
          "others",
          "surfing",
          "surfing",
          "surfing",
          "swimming",
          "others",
          "surfing",
          "surfing",
          "others",
          "bathing",
          "surfing",
          "surfing",
          "surfing",
          "fishing",
          "bathing",
          "others",
          "surfing",
          "surfing",
          "others",
          "fishing",
          "surfing",
          "bathing",
          "surfing",
          "surfing",
          "surfing",
          "surfing",
          "bathing",
          "fishing",
          "fishing",
          "surfing",
          "surfing",
          "surfing",
          "surfing",
          "others",
          "swimming",
          "others",
          "swimming",
          "others",
          "surfing",
          "surfing",
          "others",
          "swimming",
          "surfing",
          "swimming",
          "bathing",
          "bathing",
          "others",
          "others",
          "surfing",
          "surfing",
          "bathing",
          "fishing",
          "surfing",
          "others",
          "diving",
          "bathing",
          "surfing",
          "others",
          "surfing",
          "others",
          "fishing",
          "surfing",
          "kayaking",
          "fishing",
          "diving",
          "surfing",
          "surfing",
          "surfing",
          "surfing",
          "diving",
          "surfing",
          "surfing",
          "surfing",
          "surfing",
          "surfing",
          "surfing",
          "surfing",
          "surfing",
          "fishing",
          "kayaking",
          "fishing",
          "surfing",
          "swimming",
          "others",
          "others",
          "surfing",
          "surfing",
          "swimming",
          "swimming",
          "surfing",
          "surfing",
          "fishing",
          "others",
          "surfing",
          "others",
          "swimming",
          "others",
          "surfing",
          "bathing",
          "swimming",
          "surfing",
          "swimming",
          "bathing",
          "surfing",
          "others",
          "surfing",
          "diving",
          "surfing",
          "others",
          "surfing",
          "surfing",
          "diving",
          "surfing",
          "fishing",
          "others",
          "others",
          "surfing",
          "diving",
          "surfing",
          "diving",
          "surfing",
          "bathing",
          "surfing",
          "diving",
          "surfing",
          "swimming",
          "swimming",
          "surfing",
          "surfing",
          "surfing",
          "swimming",
          "others",
          "fishing",
          "others",
          "surfing",
          "others",
          "surfing",
          "fishing",
          "diving",
          "fishing",
          "surfing",
          "others",
          "diving",
          "bathing",
          "bathing",
          "swimming",
          "swimming",
          "swimming",
          "surfing",
          "surfing",
          "swimming",
          "fishing",
          "others",
          "surfing",
          "others",
          "surfing",
          "fishing",
          "fishing",
          "surfing",
          "diving",
          "surfing",
          "fishing",
          "surfing",
          "others",
          "surfing",
          "fishing",
          "diving",
          "surfing",
          "diving",
          "surfing",
          "surfing",
          "swimming",
          "surfing",
          "others",
          "surfing",
          "others",
          "surfing",
          "surfing",
          "surfing",
          "surfing",
          "surfing",
          "others",
          "swimming",
          "surfing",
          "surfing",
          "surfing",
          "surfing",
          "surfing",
          "surfing",
          "swimming",
          "kayaking",
          "surfing",
          "swimming",
          "surfing",
          "others",
          "swimming",
          "others",
          "bathing",
          "fishing",
          "swimming",
          "others",
          "others",
          "bathing",
          "diving",
          "surfing",
          "kayaking",
          "swimming",
          "others",
          "surfing",
          "surfing",
          "surfing",
          "surfing",
          "surfing",
          "surfing",
          "surfing",
          "others",
          "others",
          "surfing",
          "surfing",
          "surfing",
          "surfing",
          "fishing",
          "surfing",
          "surfing",
          "surfing",
          "surfing",
          "surfing",
          "diving",
          "kayaking",
          "swimming",
          "fishing",
          "others",
          "surfing",
          "surfing",
          "surfing",
          "surfing",
          "fishing",
          "others",
          "bathing",
          "surfing",
          "swimming",
          "surfing",
          "others",
          "diving",
          "swimming",
          "surfing",
          "kayaking",
          "diving",
          "surfing",
          "diving",
          "diving",
          "bathing",
          "surfing",
          "surfing",
          "surfing",
          "others",
          "surfing",
          "surfing",
          "diving",
          "others",
          "fishing",
          "surfing",
          "swimming",
          "diving",
          "others",
          "surfing",
          "diving",
          "diving",
          "diving",
          "diving",
          "diving",
          "diving",
          "surfing",
          "surfing",
          "surfing",
          "surfing",
          "surfing",
          "swimming",
          "surfing",
          "surfing",
          "others",
          "surfing",
          "surfing",
          "surfing",
          "surfing",
          "swimming",
          "swimming",
          "swimming",
          "fishing",
          "others",
          "swimming",
          "swimming",
          "others",
          "surfing",
          "fishing",
          "others",
          "swimming",
          "diving",
          "bathing",
          "surfing",
          "surfing",
          "swimming",
          "surfing",
          "diving",
          "surfing",
          "others",
          "others",
          "fishing",
          "bathing",
          "swimming",
          "swimming",
          "fishing",
          "surfing",
          "diving",
          "fishing",
          "surfing",
          "surfing",
          "kayaking",
          "others",
          "surfing",
          "bathing",
          "diving",
          "fishing",
          "swimming",
          "swimming",
          "fishing",
          "surfing",
          "swimming",
          "swimming",
          "swimming",
          "surfing",
          "others",
          "swimming",
          "surfing",
          "fishing",
          "surfing",
          "surfing",
          "surfing",
          "surfing",
          "surfing",
          "others",
          "bathing",
          "surfing",
          "surfing",
          "swimming",
          "fishing",
          "surfing",
          "surfing",
          "others",
          "surfing",
          "fishing",
          "swimming",
          "diving",
          "surfing",
          "surfing",
          "swimming",
          "kayaking",
          "fishing",
          "diving",
          "fishing",
          "surfing",
          "fishing",
          "fishing",
          "surfing",
          "surfing",
          "swimming",
          "swimming",
          "surfing",
          "surfing",
          "surfing",
          "surfing",
          "surfing",
          "surfing",
          "surfing",
          "others",
          "swimming",
          "bathing",
          "surfing",
          "surfing",
          "diving",
          "bathing",
          "surfing",
          "bathing",
          "surfing",
          "swimming",
          "others",
          "fishing",
          "others",
          "swimming",
          "kayaking",
          "bathing",
          "surfing",
          "swimming",
          "surfing",
          "swimming",
          "fishing",
          "surfing",
          "surfing",
          "surfing",
          "surfing",
          "surfing",
          "bathing",
          "surfing",
          "bathing",
          "bathing",
          "surfing",
          "surfing",
          "others",
          "surfing",
          "surfing",
          "surfing",
          "surfing",
          "surfing",
          "surfing",
          "bathing",
          "surfing",
          "fishing",
          "surfing",
          "surfing",
          "fishing",
          "swimming",
          "surfing",
          "others",
          "diving",
          "bathing",
          "bathing",
          "surfing",
          "swimming",
          "others",
          "surfing",
          "surfing",
          "swimming",
          "surfing",
          "others",
          "swimming",
          "bathing",
          "swimming",
          "others",
          "surfing",
          "diving",
          "bathing",
          "swimming",
          "bathing",
          "fishing",
          "surfing",
          "others",
          "surfing",
          "bathing",
          "surfing",
          "surfing",
          "diving",
          "swimming",
          "swimming",
          "others",
          "surfing",
          "surfing",
          "others",
          "surfing",
          "others",
          "surfing",
          "swimming",
          "surfing",
          "others",
          "fishing",
          "diving",
          "surfing",
          "surfing",
          "surfing",
          "surfing",
          "others",
          "swimming",
          "surfing",
          "others",
          "swimming",
          "surfing",
          "swimming",
          "others",
          "others",
          "bathing",
          "surfing",
          "surfing",
          "surfing",
          "surfing",
          "swimming",
          "bathing",
          "bathing",
          "others",
          "swimming",
          "others",
          "fishing",
          "surfing",
          "diving",
          "surfing",
          "others",
          "surfing",
          "fishing",
          "surfing",
          "fishing",
          "surfing",
          "diving",
          "swimming",
          "diving",
          "surfing",
          "surfing",
          "others",
          "bathing",
          "surfing",
          "surfing",
          "surfing",
          "surfing",
          "bathing",
          "fishing",
          "diving",
          "surfing",
          "surfing",
          "swimming",
          "fishing",
          "surfing",
          "surfing",
          "surfing",
          "surfing",
          "fishing",
          "surfing",
          "surfing",
          "surfing",
          "surfing",
          "surfing",
          "surfing",
          "bathing",
          "surfing",
          "diving",
          "surfing",
          "surfing",
          "surfing",
          "surfing",
          "bathing",
          "surfing",
          "surfing",
          "surfing",
          "bathing",
          "surfing",
          "swimming",
          "bathing",
          "surfing",
          "swimming",
          "others",
          "surfing",
          "fishing",
          "others",
          "swimming",
          "surfing",
          "surfing",
          "fishing",
          "surfing",
          "surfing",
          "surfing",
          "diving",
          "fishing",
          "surfing",
          "diving",
          "diving",
          "fishing",
          "others",
          "surfing",
          "surfing",
          "surfing",
          "others",
          "bathing",
          "bathing",
          "swimming",
          "fishing",
          "surfing",
          "surfing",
          "swimming",
          "swimming",
          "bathing",
          "bathing",
          "surfing",
          "swimming",
          "bathing",
          "swimming",
          "surfing",
          "swimming",
          "bathing",
          "diving",
          "surfing",
          "surfing",
          "surfing",
          "others",
          "surfing",
          "swimming",
          "surfing",
          "surfing",
          "diving",
          "fishing",
          "swimming",
          "surfing",
          "surfing",
          "surfing",
          "surfing",
          "surfing",
          "surfing",
          "surfing",
          "surfing",
          "others",
          "bathing",
          "surfing",
          "surfing",
          "surfing",
          "surfing",
          "surfing",
          "others",
          "others",
          "surfing",
          "bathing",
          "fishing",
          "others",
          "fishing",
          "surfing",
          "swimming",
          "surfing",
          "bathing",
          "swimming",
          "surfing",
          "bathing",
          "swimming",
          "surfing",
          "surfing",
          "surfing",
          "surfing",
          "surfing",
          "others",
          "surfing",
          "swimming",
          "surfing",
          "diving",
          "swimming",
          "diving",
          "others",
          "swimming",
          "diving",
          "surfing",
          "others",
          "swimming",
          "surfing",
          "surfing",
          "surfing",
          "surfing",
          "surfing",
          "fishing",
          "swimming",
          "others",
          "others",
          "others",
          "surfing",
          "swimming",
          "surfing",
          "surfing",
          "surfing",
          "surfing",
          "surfing",
          "swimming",
          "surfing",
          "surfing",
          "surfing",
          "surfing",
          "swimming",
          "surfing",
          "surfing",
          "swimming",
          "surfing",
          "bathing",
          "others",
          "others",
          "surfing",
          "surfing",
          "surfing",
          "swimming",
          "surfing",
          "bathing",
          "swimming",
          "others",
          "bathing",
          "swimming",
          "surfing",
          "surfing",
          "kayaking",
          "surfing",
          "fishing",
          "diving",
          "diving",
          "others",
          "surfing",
          "others",
          "surfing",
          "bathing",
          "swimming",
          "fishing",
          "surfing",
          "bathing",
          "others",
          "others",
          "surfing",
          "surfing",
          "surfing",
          "surfing",
          "surfing",
          "surfing",
          "surfing",
          "surfing",
          "fishing",
          "swimming",
          "surfing",
          "others",
          "bathing",
          "fishing",
          "bathing",
          "surfing",
          "surfing",
          "others",
          "surfing",
          "surfing",
          "surfing",
          "surfing",
          "others",
          "surfing",
          "surfing",
          "surfing",
          "surfing",
          "surfing",
          "surfing",
          "fishing",
          "swimming",
          "swimming",
          "surfing",
          "surfing",
          "swimming",
          "swimming",
          "surfing",
          "surfing",
          "surfing",
          "surfing",
          "surfing",
          "swimming",
          "swimming",
          "diving",
          "bathing",
          "surfing",
          "swimming",
          "others",
          "surfing",
          "surfing",
          "bathing",
          "swimming",
          "others",
          "bathing",
          "others",
          "bathing",
          "surfing",
          "surfing",
          "surfing",
          "swimming",
          "swimming",
          "diving",
          "bathing",
          "swimming",
          "others",
          "surfing",
          "fishing",
          "fishing",
          "surfing",
          "surfing",
          "swimming",
          "swimming",
          "others",
          "surfing",
          "others",
          "bathing",
          "kayaking",
          "bathing",
          "surfing",
          "surfing",
          "others",
          "surfing",
          "fishing",
          "surfing",
          "swimming",
          "surfing",
          "surfing",
          "swimming",
          "bathing",
          "swimming",
          "swimming",
          "surfing",
          "fishing",
          "surfing",
          "surfing",
          "surfing",
          "surfing",
          "bathing",
          "others",
          "surfing",
          "surfing",
          "others",
          "fishing",
          "fishing",
          "surfing",
          "surfing",
          "swimming",
          "swimming",
          "others",
          "surfing",
          "swimming",
          "diving",
          "surfing",
          "surfing",
          "surfing",
          "surfing",
          "swimming",
          "surfing",
          "surfing",
          "surfing",
          "bathing",
          "surfing",
          "bathing",
          "others",
          "surfing",
          "bathing",
          "surfing",
          "diving",
          "surfing",
          "others",
          "surfing",
          "surfing",
          "diving",
          "surfing",
          "surfing",
          "surfing",
          "surfing",
          "surfing",
          "swimming",
          "diving",
          "surfing",
          "surfing",
          "others",
          "fishing",
          "others",
          "diving",
          "fishing",
          "surfing",
          "swimming",
          "others",
          "surfing",
          "surfing",
          "surfing",
          "surfing",
          "swimming",
          "swimming",
          "surfing",
          "surfing",
          "surfing",
          "swimming",
          "diving",
          "surfing",
          "surfing",
          "surfing",
          "fishing",
          "bathing",
          "surfing",
          "others",
          "surfing",
          "surfing",
          "surfing",
          "diving",
          "swimming",
          "swimming",
          "swimming",
          "others",
          "surfing",
          "swimming",
          "others",
          "others",
          "bathing",
          "surfing",
          "surfing",
          "others",
          "surfing",
          "surfing",
          "fishing",
          "surfing",
          "surfing",
          "bathing",
          "others",
          "swimming",
          "surfing",
          "surfing",
          "surfing",
          "swimming",
          "surfing",
          "swimming",
          "kayaking",
          "fishing",
          "swimming",
          "fishing",
          "others",
          "diving",
          "surfing",
          "others",
          "others",
          "bathing",
          "others",
          "diving",
          "fishing",
          "fishing",
          "surfing",
          "others",
          "fishing",
          "surfing",
          "surfing",
          "kayaking",
          "diving",
          "surfing",
          "diving",
          "surfing",
          "surfing",
          "surfing",
          "surfing",
          "surfing",
          "surfing",
          "surfing",
          "others",
          "surfing",
          "others",
          "swimming",
          "fishing",
          "diving",
          "surfing",
          "surfing",
          "swimming",
          "bathing",
          "kayaking",
          "swimming",
          "surfing",
          "surfing",
          "surfing",
          "swimming",
          "others",
          "others",
          "surfing",
          "fishing",
          "swimming",
          "surfing",
          "surfing",
          "surfing",
          "swimming",
          "surfing",
          "surfing",
          "surfing",
          "fishing",
          "diving",
          "kayaking",
          "surfing",
          "fishing",
          "fishing",
          "others",
          "others",
          "surfing",
          "surfing",
          "diving",
          "diving",
          "surfing",
          "surfing",
          "surfing",
          "surfing",
          "diving",
          "surfing",
          "others",
          "surfing",
          "surfing",
          "surfing",
          "surfing",
          "swimming",
          "fishing",
          "others",
          "swimming",
          "surfing",
          "surfing",
          "surfing",
          "swimming",
          "surfing",
          "surfing",
          "others",
          "others",
          "surfing",
          "surfing",
          "fishing",
          "surfing",
          "bathing",
          "surfing",
          "surfing",
          "surfing",
          "bathing",
          "diving",
          "swimming",
          "fishing",
          "swimming",
          "surfing",
          "diving",
          "surfing",
          "surfing",
          "swimming",
          "others",
          "fishing",
          "others",
          "surfing",
          "swimming",
          "fishing",
          "surfing",
          "surfing",
          "surfing",
          "others",
          "diving",
          "bathing",
          "surfing",
          "diving",
          "diving",
          "swimming",
          "surfing",
          "fishing",
          "fishing",
          "surfing",
          "surfing",
          "surfing",
          "surfing",
          "swimming",
          "swimming",
          "fishing",
          "surfing",
          "others",
          "fishing",
          "diving",
          "swimming",
          "surfing",
          "swimming",
          "swimming",
          "fishing",
          "fishing",
          "swimming",
          "surfing",
          "others",
          "surfing",
          "fishing",
          "surfing",
          "fishing",
          "others",
          "surfing",
          "fishing",
          "surfing",
          "surfing",
          "surfing",
          "surfing",
          "diving",
          "swimming",
          "others",
          "others",
          "swimming",
          "swimming",
          "others",
          "surfing",
          "swimming",
          "swimming",
          "surfing",
          "surfing",
          "diving",
          "surfing",
          "surfing",
          "surfing",
          "surfing",
          "surfing",
          "surfing",
          "swimming",
          "surfing",
          "surfing",
          "others",
          "fishing",
          "surfing",
          "surfing",
          "surfing",
          "surfing",
          "others",
          "fishing",
          "swimming",
          "swimming",
          "surfing",
          "fishing",
          "swimming",
          "surfing",
          "surfing",
          "others",
          "fishing",
          "surfing",
          "surfing",
          "fishing",
          "surfing",
          "diving",
          "swimming",
          "diving",
          "others",
          "surfing",
          "surfing",
          "surfing",
          "surfing",
          "surfing",
          "fishing",
          "surfing",
          "diving",
          "surfing",
          "surfing",
          "bathing",
          "diving",
          "diving",
          "diving",
          "swimming",
          "surfing",
          "surfing",
          "surfing",
          "surfing",
          "diving",
          "swimming",
          "diving",
          "diving",
          "swimming",
          "diving",
          "surfing",
          "surfing",
          "surfing",
          "swimming",
          "swimming",
          "swimming",
          "fishing",
          "fishing",
          "surfing",
          "others",
          "swimming",
          "surfing",
          "diving",
          "surfing",
          "others",
          "surfing",
          "swimming",
          "diving",
          "diving",
          "surfing",
          "surfing",
          "diving",
          "bathing",
          "diving",
          "diving",
          "surfing",
          "others",
          "bathing",
          "diving",
          "surfing",
          "others",
          "surfing",
          "others",
          "surfing",
          "fishing",
          "diving",
          "bathing",
          "others",
          "others",
          "surfing",
          "fishing",
          "surfing",
          "others",
          "surfing",
          "others",
          "bathing",
          "fishing",
          "fishing",
          "fishing",
          "fishing",
          "others",
          "fishing",
          "diving",
          "bathing",
          "others",
          "fishing",
          "others",
          "fishing",
          "swimming",
          "swimming",
          "others",
          "diving",
          "surfing",
          "surfing",
          "swimming",
          "others",
          "surfing",
          "others",
          "swimming",
          "swimming",
          "others",
          "fishing",
          "bathing",
          "others",
          "diving",
          "others",
          "diving",
          "others",
          "surfing",
          "swimming",
          "diving",
          "swimming",
          "swimming",
          "swimming",
          "bathing",
          "fishing",
          "others",
          "diving",
          "fishing",
          "others",
          "surfing",
          "surfing",
          "fishing",
          "swimming",
          "surfing",
          "swimming",
          "others",
          "fishing",
          "others",
          "fishing",
          "fishing",
          "others",
          "fishing",
          "bathing",
          "surfing",
          "others",
          "fishing",
          "swimming",
          "surfing",
          "fishing",
          "others",
          "fishing",
          "fishing",
          "fishing",
          "fishing",
          "swimming",
          "diving",
          "surfing",
          "fishing",
          "others",
          "others",
          "others",
          "surfing",
          "others",
          "diving",
          "swimming",
          "bathing",
          "swimming",
          "others",
          "fishing",
          "fishing",
          "surfing",
          "fishing",
          "fishing",
          "fishing",
          "surfing",
          "others",
          "fishing",
          "bathing",
          "swimming",
          "others",
          "fishing",
          "others",
          "swimming",
          "bathing",
          "fishing",
          "others",
          "fishing",
          "fishing",
          "diving",
          "bathing",
          "swimming",
          "fishing",
          "diving",
          "swimming",
          "surfing",
          "surfing",
          "others",
          "swimming",
          "diving",
          "surfing",
          "others",
          "others",
          "diving",
          "swimming",
          "others",
          "diving",
          "swimming",
          "others",
          "others",
          "others",
          "others",
          "surfing",
          "surfing",
          "others",
          "swimming",
          "diving",
          "fishing",
          "others",
          "surfing",
          "fishing",
          "fishing",
          "swimming",
          "others",
          "others",
          "swimming",
          "others",
          "others",
          "others",
          "diving",
          "others",
          "bathing",
          "bathing",
          "diving",
          "surfing",
          "surfing",
          "others",
          "surfing",
          "fishing",
          "surfing",
          "swimming",
          "others",
          "swimming",
          "bathing",
          "swimming",
          "swimming",
          "surfing",
          "fishing",
          "swimming",
          "diving",
          "bathing",
          "swimming",
          "fishing",
          "swimming",
          "others",
          "fishing",
          "diving",
          "surfing",
          "surfing",
          "surfing",
          "surfing",
          "fishing",
          "others",
          "others",
          "swimming",
          "swimming",
          "bathing",
          "swimming",
          "fishing",
          "others",
          "surfing",
          "others",
          "bathing",
          "others",
          "others",
          "fishing",
          "others",
          "surfing",
          "swimming",
          "others",
          "others",
          "bathing",
          "swimming",
          "others",
          "others",
          "surfing",
          "others",
          "fishing",
          "others",
          "others",
          "diving",
          "diving",
          "surfing",
          "others",
          "swimming",
          "surfing",
          "swimming",
          "swimming",
          "swimming",
          "swimming",
          "swimming",
          "fishing",
          "swimming",
          "surfing",
          "swimming",
          "others",
          "surfing",
          "surfing",
          "surfing",
          "bathing",
          "bathing",
          "swimming",
          "bathing",
          "swimming",
          "swimming",
          "bathing",
          "bathing",
          "bathing",
          "others",
          "swimming",
          "swimming",
          "others"
         ],
         "x0": " ",
         "xaxis": "x",
         "y": [
          57,
          11,
          48,
          15,
          12,
          10,
          21,
          30,
          60,
          32,
          33,
          37,
          12,
          19,
          25,
          10,
          69,
          18,
          55,
          35,
          18,
          40,
          54,
          35,
          25,
          25,
          31,
          17,
          60,
          54,
          40,
          28,
          18,
          35,
          42,
          17,
          37,
          3,
          69,
          13,
          34,
          15,
          37,
          40,
          40,
          50,
          46,
          13,
          34,
          82,
          48,
          19,
          32,
          14,
          33,
          20,
          40,
          28,
          17,
          35,
          10,
          21,
          51,
          17,
          58,
          30,
          26,
          22,
          21,
          18,
          55,
          57,
          48,
          47,
          16,
          55,
          61,
          20,
          65,
          73,
          58,
          36,
          36,
          66,
          25,
          29,
          21,
          32,
          16,
          36,
          43,
          60,
          51,
          25,
          37,
          20,
          49,
          21,
          40,
          18,
          29,
          11,
          61,
          59,
          42,
          34,
          35,
          11,
          59,
          42,
          6,
          19,
          64,
          52,
          13,
          57,
          22,
          11,
          23,
          59,
          24,
          15,
          12,
          46,
          22,
          41,
          19,
          21,
          31,
          45,
          15,
          31,
          43,
          55,
          20,
          54,
          28,
          19,
          10,
          42,
          21,
          21,
          44,
          9,
          25,
          18,
          22,
          13,
          14,
          22,
          14,
          27,
          12,
          16,
          20,
          42,
          50,
          29,
          62,
          37,
          54,
          21,
          38,
          15,
          10,
          22,
          57,
          52,
          25,
          38,
          52,
          32,
          68,
          12,
          18,
          19,
          23,
          43,
          47,
          6,
          37,
          10,
          16,
          12,
          13,
          11,
          47,
          14,
          19,
          19,
          18,
          30,
          29,
          63,
          26,
          71,
          58,
          9,
          36,
          35,
          57,
          20,
          34,
          15,
          50,
          13,
          44,
          53,
          18,
          34,
          20,
          13,
          29,
          15,
          28,
          23,
          43,
          20,
          52,
          13,
          10,
          10,
          8,
          20,
          51,
          61,
          39,
          14,
          19,
          42,
          15,
          16,
          39,
          22,
          38,
          35,
          44,
          40,
          23,
          42,
          25,
          42,
          21,
          28,
          37,
          19,
          29,
          30,
          26,
          58,
          25,
          77,
          46,
          24,
          41,
          45,
          25,
          55,
          45,
          12,
          50,
          27,
          7,
          45,
          21,
          13,
          43,
          25,
          17,
          9,
          50,
          11,
          16,
          19,
          10,
          17,
          56,
          40,
          18,
          64,
          50,
          50,
          63,
          14,
          28,
          15,
          29,
          16,
          34,
          51,
          9,
          21,
          53,
          58,
          30,
          28,
          16,
          48,
          43,
          26,
          23,
          29,
          60,
          31,
          61,
          14,
          30,
          43,
          25,
          51,
          24,
          55,
          42,
          11,
          21,
          52,
          25,
          37,
          32,
          8,
          56,
          34,
          39,
          17,
          48,
          44,
          50,
          43,
          52,
          29,
          6,
          26,
          16,
          12,
          62,
          6,
          23,
          16,
          30,
          25,
          33,
          46,
          22,
          30,
          47,
          15,
          28,
          28,
          21,
          20,
          61,
          15,
          17,
          34,
          31,
          19,
          29,
          44,
          28,
          34,
          23,
          27,
          51,
          63,
          18,
          50,
          51,
          43,
          21,
          5,
          25,
          37,
          19,
          19,
          39,
          10,
          20,
          32,
          54,
          29,
          6,
          54,
          12,
          16,
          17,
          28,
          21,
          22,
          28,
          19,
          22,
          86,
          37,
          17,
          49,
          48,
          30,
          24,
          36,
          32,
          38,
          55,
          16,
          46,
          54,
          46,
          70,
          48,
          33,
          20,
          22,
          18,
          29,
          18,
          15,
          24,
          24,
          24,
          10,
          47,
          25,
          37,
          20,
          10,
          13,
          9,
          20,
          48,
          13,
          17,
          18,
          40,
          49,
          58,
          60,
          59,
          10,
          68,
          35,
          24,
          34,
          60,
          46,
          18,
          14,
          32,
          20,
          55,
          27,
          18,
          39,
          58,
          31,
          22,
          27,
          25,
          17,
          54,
          10,
          23,
          39,
          22,
          26,
          56,
          14,
          41,
          26,
          19,
          37,
          12,
          43,
          52,
          46,
          31,
          49,
          55,
          52,
          31,
          40,
          15,
          17,
          17,
          61,
          40,
          15,
          33,
          31,
          41,
          15,
          19,
          24,
          13,
          31,
          49,
          29,
          15,
          34,
          24,
          15,
          11,
          43,
          44,
          40,
          43,
          32,
          40,
          51,
          43,
          15,
          52,
          19,
          26,
          20,
          47,
          13,
          31,
          17,
          44,
          8,
          15,
          16,
          24,
          14,
          17,
          42,
          46,
          37,
          40,
          35,
          15,
          14,
          9,
          37,
          40,
          18,
          24,
          21,
          14,
          30,
          18,
          52,
          13,
          14,
          27,
          25,
          20,
          31,
          52,
          14,
          21,
          42,
          37,
          32,
          52,
          31,
          22,
          16,
          48,
          18,
          23,
          56,
          14,
          58,
          36,
          15,
          58,
          15,
          24,
          54,
          52,
          16,
          7,
          15,
          19,
          30,
          9,
          20,
          36,
          15,
          14,
          30,
          48,
          18,
          17,
          20,
          38,
          19,
          21,
          63,
          68,
          13,
          12,
          24,
          26,
          7,
          27,
          9,
          42,
          59,
          29,
          26,
          30,
          41,
          24,
          25,
          10,
          43,
          15,
          29,
          20,
          18,
          55,
          33,
          12,
          27,
          24,
          59,
          41,
          19,
          14,
          49,
          21,
          40,
          11,
          14,
          13,
          9,
          25,
          22,
          43,
          24,
          7,
          40,
          26,
          31,
          15,
          33,
          30,
          20,
          46,
          13,
          15,
          15,
          11,
          28,
          21,
          15,
          15,
          18,
          34,
          52,
          21,
          30,
          29,
          44,
          23,
          18,
          26,
          17,
          32,
          18,
          25,
          26,
          55,
          36,
          20,
          15,
          22,
          57,
          48,
          52,
          26,
          68,
          18,
          40,
          62,
          37,
          12,
          16,
          14,
          13,
          61,
          22,
          14,
          19,
          16,
          11,
          33,
          32,
          47,
          25,
          40,
          37,
          32,
          45,
          39,
          20,
          30,
          40,
          34,
          15,
          16,
          40,
          26,
          17,
          38,
          24,
          47,
          30,
          20,
          28,
          13,
          19,
          11,
          7,
          45,
          8,
          16,
          17,
          44,
          9,
          24,
          63,
          28,
          16,
          20,
          22,
          20,
          61,
          51,
          15,
          46,
          40,
          13,
          36,
          35,
          18,
          22,
          13,
          46,
          18,
          30,
          50,
          41,
          16,
          21,
          19,
          17,
          30,
          18,
          16,
          18,
          15,
          58,
          10,
          39,
          17,
          60,
          18,
          22,
          20,
          34,
          9,
          16,
          17,
          36,
          17,
          23,
          18,
          11,
          12,
          20,
          50,
          44,
          54,
          25,
          48,
          34,
          41,
          21,
          16,
          60,
          14,
          35,
          18,
          47,
          32,
          55,
          19,
          47,
          20,
          36,
          16,
          29,
          27,
          15,
          15,
          14,
          13,
          15,
          19,
          22,
          9,
          30,
          11,
          28,
          50,
          10,
          24,
          16,
          55,
          35,
          40,
          34,
          28,
          45,
          43,
          41,
          29,
          17,
          11,
          20,
          31,
          30,
          35,
          20,
          16,
          35,
          20,
          21,
          14,
          21,
          16,
          13,
          23,
          44,
          29,
          69,
          18,
          18,
          17,
          27,
          32,
          17,
          17,
          20,
          19,
          19,
          43,
          36,
          48,
          18,
          35,
          52,
          29,
          33,
          45,
          14,
          16,
          12,
          38,
          21,
          12,
          22,
          22,
          46,
          26,
          40,
          40,
          38,
          73,
          52,
          27,
          23,
          56,
          69,
          23,
          11,
          24,
          49,
          26,
          25,
          8,
          48,
          40,
          27,
          47,
          53,
          27,
          44,
          13,
          41,
          12,
          20,
          55,
          13,
          19,
          52,
          17,
          55,
          44,
          13,
          34,
          26,
          14,
          37,
          39,
          39,
          35,
          19,
          51,
          39,
          45,
          13,
          16,
          22,
          37,
          39,
          28,
          17,
          10,
          62,
          35,
          42,
          43,
          43,
          21,
          41,
          5,
          41,
          29,
          25,
          30,
          19,
          21,
          18,
          14,
          13,
          28,
          18,
          26,
          16,
          28,
          24,
          18,
          40,
          14,
          24,
          22,
          50,
          40,
          33,
          23,
          19,
          23,
          12,
          14,
          12,
          20,
          18,
          22,
          29,
          12,
          17,
          17,
          19,
          19,
          47,
          18,
          33,
          34,
          12,
          27,
          45,
          26,
          22,
          21,
          31,
          14,
          23,
          19,
          5,
          28,
          29,
          19,
          36,
          21,
          8,
          9,
          18,
          63,
          17,
          22,
          27,
          47,
          53,
          15,
          39,
          25,
          19,
          32,
          16,
          18,
          19,
          18,
          20,
          20,
          12,
          18,
          18,
          14,
          31,
          45,
          10,
          38,
          20,
          35,
          22,
          26,
          34,
          9,
          16,
          43,
          12,
          31,
          15,
          30,
          24,
          22,
          20,
          71,
          19,
          23,
          15,
          44,
          33,
          26,
          26,
          34,
          36,
          69,
          51,
          19,
          39,
          28,
          12,
          22,
          25,
          35,
          55,
          69,
          21,
          29,
          30,
          31,
          19,
          24,
          46,
          40,
          17,
          40,
          28,
          20,
          18,
          17,
          22,
          42,
          35,
          36,
          21,
          19,
          19,
          36,
          25,
          21,
          32,
          23,
          10,
          40,
          22,
          30,
          32,
          18,
          31,
          23,
          22,
          38,
          20,
          35,
          24,
          50,
          18,
          26,
          25,
          43,
          19,
          26,
          49,
          44,
          22,
          18,
          38,
          22,
          23,
          31,
          17,
          29,
          38,
          21,
          17,
          34,
          16,
          28,
          26,
          19,
          17,
          21,
          23,
          27,
          15,
          36,
          37,
          12,
          25,
          31,
          29,
          24,
          17,
          20,
          15,
          33,
          16,
          20,
          21,
          24,
          12,
          40,
          27,
          32,
          16,
          35,
          16,
          30,
          37,
          40,
          27,
          17,
          26,
          6,
          32,
          26,
          26,
          21,
          46,
          29,
          29,
          22,
          16,
          22,
          46,
          13,
          15,
          13,
          29,
          15,
          18,
          34,
          20,
          23,
          15,
          25,
          17,
          13,
          18,
          30,
          27,
          13,
          28,
          33,
          14,
          17,
          16,
          47,
          29,
          13,
          42,
          21,
          30,
          22,
          27,
          16,
          17,
          16,
          22,
          32,
          26,
          16,
          16,
          20,
          28,
          18,
          38,
          26,
          19,
          20,
          8,
          16,
          20,
          19,
          28,
          25,
          53,
          32,
          27,
          19,
          24,
          19,
          24,
          30,
          15,
          27,
          25,
          22,
          29,
          19,
          15,
          22,
          24,
          29,
          25,
          18,
          20,
          25,
          24,
          8,
          27,
          19,
          27,
          17,
          18,
          25,
          17,
          20,
          31,
          29,
          19,
          19,
          25,
          20,
          15,
          19,
          24,
          21,
          27,
          33,
          19,
          20,
          44,
          23,
          34,
          18,
          15,
          17,
          16,
          17,
          29,
          20,
          41,
          48,
          61,
          45,
          19,
          17,
          21,
          14,
          19,
          33,
          41,
          11,
          13,
          29,
          25,
          22,
          32,
          18,
          30,
          24,
          16,
          30,
          26,
          21,
          16,
          43,
          18,
          25,
          53,
          13,
          13,
          8,
          23,
          16,
          21,
          17,
          16,
          15,
          18,
          25,
          33,
          17,
          10,
          17,
          26,
          22,
          27,
          19,
          24,
          19,
          15,
          26,
          32,
          36,
          32,
          43,
          18,
          8,
          34,
          14,
          15,
          18,
          18,
          25,
          13,
          29,
          16,
          15,
          35,
          44,
          24,
          23,
          15,
          38,
          49,
          28,
          8,
          17,
          16,
          25,
          18,
          22,
          20,
          19,
          25,
          19,
          20,
          14,
          19,
          28,
          22,
          38,
          26,
          25,
          39,
          17,
          21,
          20,
          20,
          24,
          13,
          23,
          20,
          18,
          21,
          25,
          35,
          28,
          18,
          16,
          26,
          15,
          15,
          28,
          27,
          24,
          24,
          30,
          24,
          20,
          39,
          24,
          19,
          41,
          13,
          11,
          13,
          55,
          31,
          16,
          13,
          35,
          18,
          44,
          29,
          19,
          24,
          54,
          57,
          24,
          18,
          23,
          20,
          17,
          16,
          42,
          22,
          16,
          19,
          22,
          38,
          57,
          21,
          20,
          52,
          37,
          21,
          33,
          15,
          13,
          25,
          36,
          25,
          38,
          24,
          15,
          41,
          39,
          24,
          27,
          25,
          16,
          16,
          48,
          42,
          44,
          19,
          17,
          19,
          21,
          30,
          36,
          30,
          15,
          25,
          19,
          13,
          14,
          17,
          18,
          12,
          8,
          31,
          20,
          36,
          59,
          17,
          29,
          14,
          14,
          20,
          16,
          28,
          17,
          22,
          19,
          10,
          38,
          7,
          8,
          25,
          19,
          16,
          30,
          18,
          16,
          25,
          23,
          24,
          39,
          16,
          19,
          31,
          21,
          31,
          27,
          30,
          27,
          21,
          18,
          16,
          13,
          35,
          21,
          14,
          29,
          18,
          22,
          18,
          28,
          21,
          18,
          18,
          15,
          18,
          37,
          15,
          18,
          16,
          14,
          24,
          43,
          19,
          38,
          38,
          16,
          20,
          13,
          12,
          34,
          12,
          22,
          24,
          18,
          49,
          17,
          23,
          19,
          26,
          19,
          18,
          25,
          17,
          16,
          30,
          13,
          18,
          18,
          16,
          9,
          19,
          13,
          20,
          17,
          28,
          21
         ],
         "y0": " ",
         "yaxis": "y"
        },
        {
         "alignmentgroup": "True",
         "boxpoints": "all",
         "hovertemplate": "Fatal (Y/N)=Y<br>Activity=%{x}<br>Age=%{y}<extra></extra>",
         "legendgroup": "Y",
         "marker": {
          "color": "#2171b5"
         },
         "name": "Y",
         "notched": false,
         "offsetgroup": "Y",
         "orientation": "v",
         "showlegend": true,
         "type": "box",
         "x": [
          "bathing",
          "diving",
          "others",
          "surfing",
          "others",
          "surfing",
          "diving",
          "surfing",
          "bathing",
          "diving",
          "diving",
          "surfing",
          "swimming",
          "surfing",
          "fishing",
          "swimming",
          "swimming",
          "swimming",
          "fishing",
          "kayaking",
          "others",
          "surfing",
          "swimming",
          "diving",
          "swimming",
          "swimming",
          "others",
          "fishing",
          "swimming",
          "swimming",
          "surfing",
          "surfing",
          "surfing",
          "others",
          "diving",
          "swimming",
          "diving",
          "swimming",
          "others",
          "others",
          "surfing",
          "swimming",
          "diving",
          "surfing",
          "others",
          "others",
          "diving",
          "surfing",
          "diving",
          "others",
          "surfing",
          "diving",
          "others",
          "surfing",
          "others",
          "swimming",
          "surfing",
          "surfing",
          "swimming",
          "diving",
          "fishing",
          "swimming",
          "others",
          "diving",
          "others",
          "surfing",
          "others",
          "swimming",
          "swimming",
          "surfing",
          "diving",
          "swimming",
          "fishing",
          "diving",
          "others",
          "fishing",
          "swimming",
          "diving",
          "surfing",
          "others",
          "surfing",
          "swimming",
          "fishing",
          "others",
          "others",
          "swimming",
          "swimming",
          "diving",
          "swimming",
          "others",
          "diving",
          "swimming",
          "swimming",
          "swimming",
          "swimming",
          "surfing",
          "surfing",
          "surfing",
          "others",
          "others",
          "surfing",
          "swimming",
          "others",
          "swimming",
          "diving",
          "others",
          "others",
          "fishing",
          "surfing",
          "surfing",
          "diving",
          "surfing",
          "diving",
          "swimming",
          "diving",
          "swimming",
          "others",
          "surfing",
          "surfing",
          "diving",
          "swimming",
          "diving",
          "diving",
          "diving",
          "others",
          "surfing",
          "surfing",
          "diving",
          "diving",
          "diving",
          "swimming",
          "diving",
          "diving",
          "surfing",
          "swimming",
          "kayaking",
          "diving",
          "swimming",
          "others",
          "diving",
          "others",
          "others",
          "swimming",
          "fishing",
          "surfing",
          "surfing",
          "swimming",
          "diving",
          "fishing",
          "swimming",
          "others",
          "swimming",
          "fishing",
          "bathing",
          "swimming",
          "swimming",
          "surfing",
          "fishing",
          "bathing",
          "bathing",
          "swimming",
          "swimming",
          "fishing",
          "others",
          "others",
          "fishing",
          "others",
          "bathing",
          "surfing",
          "bathing",
          "swimming",
          "swimming",
          "fishing",
          "fishing",
          "swimming",
          "swimming",
          "others",
          "others",
          "swimming",
          "swimming",
          "bathing",
          "fishing",
          "bathing",
          "fishing",
          "fishing",
          "fishing",
          "swimming",
          "others",
          "surfing",
          "others",
          "diving",
          "others",
          "swimming",
          "swimming",
          "diving",
          "others",
          "swimming",
          "others",
          "diving",
          "others",
          "bathing",
          "others",
          "swimming",
          "surfing",
          "others",
          "swimming",
          "others",
          "others",
          "swimming",
          "bathing",
          "surfing",
          "others",
          "others",
          "swimming",
          "swimming",
          "fishing",
          "fishing",
          "bathing",
          "others",
          "diving",
          "others",
          "surfing",
          "swimming",
          "others",
          "surfing",
          "swimming",
          "swimming",
          "fishing",
          "surfing",
          "others",
          "swimming",
          "swimming",
          "others",
          "others",
          "others",
          "surfing",
          "swimming",
          "bathing",
          "others",
          "others",
          "swimming",
          "swimming",
          "swimming",
          "swimming",
          "swimming",
          "swimming",
          "surfing",
          "surfing",
          "swimming",
          "others",
          "others",
          "swimming",
          "surfing",
          "swimming",
          "swimming",
          "surfing",
          "swimming",
          "others",
          "swimming",
          "bathing",
          "swimming",
          "swimming",
          "swimming",
          "swimming",
          "swimming",
          "swimming",
          "swimming",
          "swimming",
          "swimming",
          "others",
          "swimming",
          "swimming",
          "swimming",
          "surfing",
          "swimming",
          "others",
          "swimming",
          "swimming",
          "swimming",
          "diving",
          "diving",
          "surfing",
          "swimming",
          "surfing",
          "swimming",
          "surfing",
          "swimming",
          "swimming",
          "swimming",
          "bathing",
          "swimming",
          "swimming",
          "swimming",
          "bathing",
          "swimming",
          "bathing",
          "swimming",
          "swimming",
          "swimming",
          "swimming",
          "swimming",
          "bathing",
          "bathing",
          "others",
          "swimming",
          "swimming",
          "bathing",
          "others",
          "swimming",
          "swimming",
          "swimming",
          "fishing",
          "swimming",
          "others",
          "swimming",
          "swimming",
          "swimming",
          "bathing",
          "bathing",
          "surfing",
          "bathing"
         ],
         "x0": " ",
         "xaxis": "x",
         "y": [
          22,
          33,
          28,
          17,
          26,
          50,
          60,
          29,
          69,
          46,
          65,
          13,
          22,
          41,
          17,
          50,
          63,
          66,
          28,
          57,
          19,
          35,
          74,
          20,
          18,
          15,
          36,
          68,
          46,
          32,
          39,
          22,
          24,
          20,
          33,
          25,
          32,
          64,
          38,
          21,
          49,
          30,
          36,
          15,
          31,
          15,
          49,
          16,
          70,
          19,
          31,
          19,
          38,
          37,
          22,
          60,
          25,
          19,
          25,
          51,
          39,
          66,
          16,
          49,
          20,
          34,
          27,
          24,
          21,
          18,
          23,
          14,
          22,
          26,
          18,
          38,
          77,
          50,
          30,
          21,
          57,
          29,
          21,
          19,
          50,
          23,
          36,
          23,
          16,
          15,
          42,
          28,
          10,
          47,
          49,
          17,
          25,
          31,
          69,
          14,
          22,
          52,
          29,
          9,
          26,
          20,
          35,
          39,
          25,
          41,
          33,
          25,
          29,
          29,
          47,
          14,
          42,
          24,
          22,
          27,
          61,
          42,
          31,
          34,
          18,
          28,
          16,
          41,
          41,
          19,
          65,
          21,
          29,
          27,
          47,
          24,
          38,
          8,
          21,
          33,
          16,
          28,
          21,
          15,
          27,
          20,
          75,
          27,
          23,
          12,
          21,
          20,
          37,
          45,
          19,
          34,
          19,
          18,
          16,
          18,
          14,
          35,
          24,
          19,
          23,
          36,
          21,
          8,
          15,
          25,
          29,
          32,
          35,
          17,
          19,
          18,
          15,
          30,
          42,
          25,
          32,
          16,
          32,
          28,
          40,
          25,
          22,
          13,
          18,
          22,
          23,
          38,
          14,
          25,
          13,
          29,
          13,
          22,
          33,
          18,
          15,
          22,
          33,
          15,
          22,
          21,
          32,
          28,
          29,
          23,
          15,
          22,
          28,
          57,
          25,
          19,
          16,
          13,
          26,
          15,
          22,
          22,
          25,
          13,
          16,
          23,
          23,
          15,
          17,
          21,
          42,
          19,
          20,
          25,
          20,
          14,
          34,
          13,
          20,
          28,
          17,
          12,
          30,
          17,
          19,
          17,
          23,
          22,
          26,
          17,
          20,
          31,
          15,
          18,
          28,
          23,
          17,
          25,
          17,
          55,
          13,
          18,
          20,
          25,
          18,
          32,
          15,
          16,
          14,
          13,
          38,
          22,
          27,
          22,
          19,
          14,
          15,
          17,
          38,
          18,
          18,
          20,
          39,
          14,
          17,
          28,
          17,
          15,
          20,
          55,
          16,
          22,
          16,
          19,
          19,
          21,
          18,
          54,
          21,
          12,
          47,
          13,
          38,
          41,
          24,
          21,
          31,
          30,
          26,
          30,
          29,
          35,
          26,
          28,
          11,
          13,
          21,
          37,
          11,
          35,
          22
         ],
         "y0": " ",
         "yaxis": "y"
        }
       ],
       "layout": {
        "boxmode": "group",
        "height": 600,
        "legend": {
         "title": {
          "text": "Fatal (Y/N)"
         },
         "tracegroupgap": 0
        },
        "margin": {
         "t": 60
        },
        "template": {
         "data": {
          "bar": [
           {
            "error_x": {
             "color": "#2a3f5f"
            },
            "error_y": {
             "color": "#2a3f5f"
            },
            "marker": {
             "line": {
              "color": "#E5ECF6",
              "width": 0.5
             },
             "pattern": {
              "fillmode": "overlay",
              "size": 10,
              "solidity": 0.2
             }
            },
            "type": "bar"
           }
          ],
          "barpolar": [
           {
            "marker": {
             "line": {
              "color": "#E5ECF6",
              "width": 0.5
             },
             "pattern": {
              "fillmode": "overlay",
              "size": 10,
              "solidity": 0.2
             }
            },
            "type": "barpolar"
           }
          ],
          "carpet": [
           {
            "aaxis": {
             "endlinecolor": "#2a3f5f",
             "gridcolor": "white",
             "linecolor": "white",
             "minorgridcolor": "white",
             "startlinecolor": "#2a3f5f"
            },
            "baxis": {
             "endlinecolor": "#2a3f5f",
             "gridcolor": "white",
             "linecolor": "white",
             "minorgridcolor": "white",
             "startlinecolor": "#2a3f5f"
            },
            "type": "carpet"
           }
          ],
          "choropleth": [
           {
            "colorbar": {
             "outlinewidth": 0,
             "ticks": ""
            },
            "type": "choropleth"
           }
          ],
          "contour": [
           {
            "colorbar": {
             "outlinewidth": 0,
             "ticks": ""
            },
            "colorscale": [
             [
              0,
              "#0d0887"
             ],
             [
              0.1111111111111111,
              "#46039f"
             ],
             [
              0.2222222222222222,
              "#7201a8"
             ],
             [
              0.3333333333333333,
              "#9c179e"
             ],
             [
              0.4444444444444444,
              "#bd3786"
             ],
             [
              0.5555555555555556,
              "#d8576b"
             ],
             [
              0.6666666666666666,
              "#ed7953"
             ],
             [
              0.7777777777777778,
              "#fb9f3a"
             ],
             [
              0.8888888888888888,
              "#fdca26"
             ],
             [
              1,
              "#f0f921"
             ]
            ],
            "type": "contour"
           }
          ],
          "contourcarpet": [
           {
            "colorbar": {
             "outlinewidth": 0,
             "ticks": ""
            },
            "type": "contourcarpet"
           }
          ],
          "heatmap": [
           {
            "colorbar": {
             "outlinewidth": 0,
             "ticks": ""
            },
            "colorscale": [
             [
              0,
              "#0d0887"
             ],
             [
              0.1111111111111111,
              "#46039f"
             ],
             [
              0.2222222222222222,
              "#7201a8"
             ],
             [
              0.3333333333333333,
              "#9c179e"
             ],
             [
              0.4444444444444444,
              "#bd3786"
             ],
             [
              0.5555555555555556,
              "#d8576b"
             ],
             [
              0.6666666666666666,
              "#ed7953"
             ],
             [
              0.7777777777777778,
              "#fb9f3a"
             ],
             [
              0.8888888888888888,
              "#fdca26"
             ],
             [
              1,
              "#f0f921"
             ]
            ],
            "type": "heatmap"
           }
          ],
          "heatmapgl": [
           {
            "colorbar": {
             "outlinewidth": 0,
             "ticks": ""
            },
            "colorscale": [
             [
              0,
              "#0d0887"
             ],
             [
              0.1111111111111111,
              "#46039f"
             ],
             [
              0.2222222222222222,
              "#7201a8"
             ],
             [
              0.3333333333333333,
              "#9c179e"
             ],
             [
              0.4444444444444444,
              "#bd3786"
             ],
             [
              0.5555555555555556,
              "#d8576b"
             ],
             [
              0.6666666666666666,
              "#ed7953"
             ],
             [
              0.7777777777777778,
              "#fb9f3a"
             ],
             [
              0.8888888888888888,
              "#fdca26"
             ],
             [
              1,
              "#f0f921"
             ]
            ],
            "type": "heatmapgl"
           }
          ],
          "histogram": [
           {
            "marker": {
             "pattern": {
              "fillmode": "overlay",
              "size": 10,
              "solidity": 0.2
             }
            },
            "type": "histogram"
           }
          ],
          "histogram2d": [
           {
            "colorbar": {
             "outlinewidth": 0,
             "ticks": ""
            },
            "colorscale": [
             [
              0,
              "#0d0887"
             ],
             [
              0.1111111111111111,
              "#46039f"
             ],
             [
              0.2222222222222222,
              "#7201a8"
             ],
             [
              0.3333333333333333,
              "#9c179e"
             ],
             [
              0.4444444444444444,
              "#bd3786"
             ],
             [
              0.5555555555555556,
              "#d8576b"
             ],
             [
              0.6666666666666666,
              "#ed7953"
             ],
             [
              0.7777777777777778,
              "#fb9f3a"
             ],
             [
              0.8888888888888888,
              "#fdca26"
             ],
             [
              1,
              "#f0f921"
             ]
            ],
            "type": "histogram2d"
           }
          ],
          "histogram2dcontour": [
           {
            "colorbar": {
             "outlinewidth": 0,
             "ticks": ""
            },
            "colorscale": [
             [
              0,
              "#0d0887"
             ],
             [
              0.1111111111111111,
              "#46039f"
             ],
             [
              0.2222222222222222,
              "#7201a8"
             ],
             [
              0.3333333333333333,
              "#9c179e"
             ],
             [
              0.4444444444444444,
              "#bd3786"
             ],
             [
              0.5555555555555556,
              "#d8576b"
             ],
             [
              0.6666666666666666,
              "#ed7953"
             ],
             [
              0.7777777777777778,
              "#fb9f3a"
             ],
             [
              0.8888888888888888,
              "#fdca26"
             ],
             [
              1,
              "#f0f921"
             ]
            ],
            "type": "histogram2dcontour"
           }
          ],
          "mesh3d": [
           {
            "colorbar": {
             "outlinewidth": 0,
             "ticks": ""
            },
            "type": "mesh3d"
           }
          ],
          "parcoords": [
           {
            "line": {
             "colorbar": {
              "outlinewidth": 0,
              "ticks": ""
             }
            },
            "type": "parcoords"
           }
          ],
          "pie": [
           {
            "automargin": true,
            "type": "pie"
           }
          ],
          "scatter": [
           {
            "fillpattern": {
             "fillmode": "overlay",
             "size": 10,
             "solidity": 0.2
            },
            "type": "scatter"
           }
          ],
          "scatter3d": [
           {
            "line": {
             "colorbar": {
              "outlinewidth": 0,
              "ticks": ""
             }
            },
            "marker": {
             "colorbar": {
              "outlinewidth": 0,
              "ticks": ""
             }
            },
            "type": "scatter3d"
           }
          ],
          "scattercarpet": [
           {
            "marker": {
             "colorbar": {
              "outlinewidth": 0,
              "ticks": ""
             }
            },
            "type": "scattercarpet"
           }
          ],
          "scattergeo": [
           {
            "marker": {
             "colorbar": {
              "outlinewidth": 0,
              "ticks": ""
             }
            },
            "type": "scattergeo"
           }
          ],
          "scattergl": [
           {
            "marker": {
             "colorbar": {
              "outlinewidth": 0,
              "ticks": ""
             }
            },
            "type": "scattergl"
           }
          ],
          "scattermapbox": [
           {
            "marker": {
             "colorbar": {
              "outlinewidth": 0,
              "ticks": ""
             }
            },
            "type": "scattermapbox"
           }
          ],
          "scatterpolar": [
           {
            "marker": {
             "colorbar": {
              "outlinewidth": 0,
              "ticks": ""
             }
            },
            "type": "scatterpolar"
           }
          ],
          "scatterpolargl": [
           {
            "marker": {
             "colorbar": {
              "outlinewidth": 0,
              "ticks": ""
             }
            },
            "type": "scatterpolargl"
           }
          ],
          "scatterternary": [
           {
            "marker": {
             "colorbar": {
              "outlinewidth": 0,
              "ticks": ""
             }
            },
            "type": "scatterternary"
           }
          ],
          "surface": [
           {
            "colorbar": {
             "outlinewidth": 0,
             "ticks": ""
            },
            "colorscale": [
             [
              0,
              "#0d0887"
             ],
             [
              0.1111111111111111,
              "#46039f"
             ],
             [
              0.2222222222222222,
              "#7201a8"
             ],
             [
              0.3333333333333333,
              "#9c179e"
             ],
             [
              0.4444444444444444,
              "#bd3786"
             ],
             [
              0.5555555555555556,
              "#d8576b"
             ],
             [
              0.6666666666666666,
              "#ed7953"
             ],
             [
              0.7777777777777778,
              "#fb9f3a"
             ],
             [
              0.8888888888888888,
              "#fdca26"
             ],
             [
              1,
              "#f0f921"
             ]
            ],
            "type": "surface"
           }
          ],
          "table": [
           {
            "cells": {
             "fill": {
              "color": "#EBF0F8"
             },
             "line": {
              "color": "white"
             }
            },
            "header": {
             "fill": {
              "color": "#C8D4E3"
             },
             "line": {
              "color": "white"
             }
            },
            "type": "table"
           }
          ]
         },
         "layout": {
          "annotationdefaults": {
           "arrowcolor": "#2a3f5f",
           "arrowhead": 0,
           "arrowwidth": 1
          },
          "autotypenumbers": "strict",
          "coloraxis": {
           "colorbar": {
            "outlinewidth": 0,
            "ticks": ""
           }
          },
          "colorscale": {
           "diverging": [
            [
             0,
             "#8e0152"
            ],
            [
             0.1,
             "#c51b7d"
            ],
            [
             0.2,
             "#de77ae"
            ],
            [
             0.3,
             "#f1b6da"
            ],
            [
             0.4,
             "#fde0ef"
            ],
            [
             0.5,
             "#f7f7f7"
            ],
            [
             0.6,
             "#e6f5d0"
            ],
            [
             0.7,
             "#b8e186"
            ],
            [
             0.8,
             "#7fbc41"
            ],
            [
             0.9,
             "#4d9221"
            ],
            [
             1,
             "#276419"
            ]
           ],
           "sequential": [
            [
             0,
             "#0d0887"
            ],
            [
             0.1111111111111111,
             "#46039f"
            ],
            [
             0.2222222222222222,
             "#7201a8"
            ],
            [
             0.3333333333333333,
             "#9c179e"
            ],
            [
             0.4444444444444444,
             "#bd3786"
            ],
            [
             0.5555555555555556,
             "#d8576b"
            ],
            [
             0.6666666666666666,
             "#ed7953"
            ],
            [
             0.7777777777777778,
             "#fb9f3a"
            ],
            [
             0.8888888888888888,
             "#fdca26"
            ],
            [
             1,
             "#f0f921"
            ]
           ],
           "sequentialminus": [
            [
             0,
             "#0d0887"
            ],
            [
             0.1111111111111111,
             "#46039f"
            ],
            [
             0.2222222222222222,
             "#7201a8"
            ],
            [
             0.3333333333333333,
             "#9c179e"
            ],
            [
             0.4444444444444444,
             "#bd3786"
            ],
            [
             0.5555555555555556,
             "#d8576b"
            ],
            [
             0.6666666666666666,
             "#ed7953"
            ],
            [
             0.7777777777777778,
             "#fb9f3a"
            ],
            [
             0.8888888888888888,
             "#fdca26"
            ],
            [
             1,
             "#f0f921"
            ]
           ]
          },
          "colorway": [
           "#636efa",
           "#EF553B",
           "#00cc96",
           "#ab63fa",
           "#FFA15A",
           "#19d3f3",
           "#FF6692",
           "#B6E880",
           "#FF97FF",
           "#FECB52"
          ],
          "font": {
           "color": "#2a3f5f"
          },
          "geo": {
           "bgcolor": "white",
           "lakecolor": "white",
           "landcolor": "#E5ECF6",
           "showlakes": true,
           "showland": true,
           "subunitcolor": "white"
          },
          "hoverlabel": {
           "align": "left"
          },
          "hovermode": "closest",
          "mapbox": {
           "style": "light"
          },
          "paper_bgcolor": "white",
          "plot_bgcolor": "#E5ECF6",
          "polar": {
           "angularaxis": {
            "gridcolor": "white",
            "linecolor": "white",
            "ticks": ""
           },
           "bgcolor": "#E5ECF6",
           "radialaxis": {
            "gridcolor": "white",
            "linecolor": "white",
            "ticks": ""
           }
          },
          "scene": {
           "xaxis": {
            "backgroundcolor": "#E5ECF6",
            "gridcolor": "white",
            "gridwidth": 2,
            "linecolor": "white",
            "showbackground": true,
            "ticks": "",
            "zerolinecolor": "white"
           },
           "yaxis": {
            "backgroundcolor": "#E5ECF6",
            "gridcolor": "white",
            "gridwidth": 2,
            "linecolor": "white",
            "showbackground": true,
            "ticks": "",
            "zerolinecolor": "white"
           },
           "zaxis": {
            "backgroundcolor": "#E5ECF6",
            "gridcolor": "white",
            "gridwidth": 2,
            "linecolor": "white",
            "showbackground": true,
            "ticks": "",
            "zerolinecolor": "white"
           }
          },
          "shapedefaults": {
           "line": {
            "color": "#2a3f5f"
           }
          },
          "ternary": {
           "aaxis": {
            "gridcolor": "white",
            "linecolor": "white",
            "ticks": ""
           },
           "baxis": {
            "gridcolor": "white",
            "linecolor": "white",
            "ticks": ""
           },
           "bgcolor": "#E5ECF6",
           "caxis": {
            "gridcolor": "white",
            "linecolor": "white",
            "ticks": ""
           }
          },
          "title": {
           "x": 0.05
          },
          "xaxis": {
           "automargin": true,
           "gridcolor": "white",
           "linecolor": "white",
           "ticks": "",
           "title": {
            "standoff": 15
           },
           "zerolinecolor": "white",
           "zerolinewidth": 2
          },
          "yaxis": {
           "automargin": true,
           "gridcolor": "white",
           "linecolor": "white",
           "ticks": "",
           "title": {
            "standoff": 15
           },
           "zerolinecolor": "white",
           "zerolinewidth": 2
          }
         }
        },
        "title": {
         "text": "Box Plot of Age by Activity with Fatal (Y/N)"
        },
        "width": 1500,
        "xaxis": {
         "anchor": "y",
         "domain": [
          0,
          1
         ],
         "title": {
          "text": "Activity"
         }
        },
        "yaxis": {
         "anchor": "x",
         "domain": [
          0,
          1
         ],
         "title": {
          "text": "Age"
         }
        }
       }
      }
     },
     "metadata": {},
     "output_type": "display_data"
    }
   ],
   "source": [
    "# Define custom color palette with blue colors\n",
    "#custom_palette = px.colors.qualitative.Blues\n",
    "custom_palette = ['#084594', '#2171b5', '#4292c6', '#6baed6', '#9ecae1', '#c6dbef', '#deebf7', '#f7fbff']\n",
    "\n",
    "\n",
    "# Create the box plot with custom color palette and title\n",
    "fig = px.box(attacks, x=\"Activity\", y=\"Age\", color=\"Fatal (Y/N)\", points=\"all\", \n",
    "             width=1500, height=600, color_discrete_sequence=custom_palette)\n",
    "fig.update_layout(title_text=\"Box Plot of Age by Activity with Fatal (Y/N)\")\n",
    "fig.show()"
   ]
  },
  {
   "cell_type": "markdown",
   "metadata": {},
   "source": [
    "## Other Graphs"
   ]
  },
  {
   "cell_type": "code",
   "execution_count": 233,
   "metadata": {},
   "outputs": [
    {
     "data": {
      "text/html": [
       "<div>\n",
       "<style scoped>\n",
       "    .dataframe tbody tr th:only-of-type {\n",
       "        vertical-align: middle;\n",
       "    }\n",
       "\n",
       "    .dataframe tbody tr th {\n",
       "        vertical-align: top;\n",
       "    }\n",
       "\n",
       "    .dataframe thead th {\n",
       "        text-align: right;\n",
       "    }\n",
       "</style>\n",
       "<table border=\"1\" class=\"dataframe\">\n",
       "  <thead>\n",
       "    <tr style=\"text-align: right;\">\n",
       "      <th></th>\n",
       "      <th>Age</th>\n",
       "      <th>Time</th>\n",
       "      <th>Activity_type_sports activity</th>\n",
       "      <th>Fatal (Y/N)_Y</th>\n",
       "    </tr>\n",
       "  </thead>\n",
       "  <tbody>\n",
       "    <tr>\n",
       "      <th>Age</th>\n",
       "      <td>1.000000</td>\n",
       "      <td>-0.162040</td>\n",
       "      <td>0.103771</td>\n",
       "      <td>-0.009078</td>\n",
       "    </tr>\n",
       "    <tr>\n",
       "      <th>Time</th>\n",
       "      <td>-0.162040</td>\n",
       "      <td>1.000000</td>\n",
       "      <td>-0.087559</td>\n",
       "      <td>-0.019709</td>\n",
       "    </tr>\n",
       "    <tr>\n",
       "      <th>Activity_type_sports activity</th>\n",
       "      <td>0.103771</td>\n",
       "      <td>-0.087559</td>\n",
       "      <td>1.000000</td>\n",
       "      <td>-0.182671</td>\n",
       "    </tr>\n",
       "    <tr>\n",
       "      <th>Fatal (Y/N)_Y</th>\n",
       "      <td>-0.009078</td>\n",
       "      <td>-0.019709</td>\n",
       "      <td>-0.182671</td>\n",
       "      <td>1.000000</td>\n",
       "    </tr>\n",
       "  </tbody>\n",
       "</table>\n",
       "</div>"
      ],
      "text/plain": [
       "                                    Age      Time  \\\n",
       "Age                            1.000000 -0.162040   \n",
       "Time                          -0.162040  1.000000   \n",
       "Activity_type_sports activity  0.103771 -0.087559   \n",
       "Fatal (Y/N)_Y                 -0.009078 -0.019709   \n",
       "\n",
       "                               Activity_type_sports activity  Fatal (Y/N)_Y  \n",
       "Age                                                 0.103771      -0.009078  \n",
       "Time                                               -0.087559      -0.019709  \n",
       "Activity_type_sports activity                       1.000000      -0.182671  \n",
       "Fatal (Y/N)_Y                                      -0.182671       1.000000  "
      ]
     },
     "execution_count": 233,
     "metadata": {},
     "output_type": "execute_result"
    }
   ],
   "source": [
    "# Select the specific columns for which you want to calculate the correlation\n",
    "selected_columns = ['Age', 'Time', 'Activity_type', 'Fatal (Y/N)']\n",
    "corr_table = attacks[selected_columns]\n",
    "\n",
    "# One-hot encode categorical columns\n",
    "corr_table = pd.get_dummies(corr_table, columns=['Activity_type', 'Fatal (Y/N)'], drop_first=True)\n",
    "\n",
    "# Calculate the correlation matrix\n",
    "corr_matrix = corr_table.corr()\n",
    "\n",
    "# Display the correlation matrix\n",
    "corr_matrix"
   ]
  },
  {
   "cell_type": "code",
   "execution_count": 347,
   "metadata": {},
   "outputs": [
    {
     "data": {
      "text/html": [
       "<div>\n",
       "<style scoped>\n",
       "    .dataframe tbody tr th:only-of-type {\n",
       "        vertical-align: middle;\n",
       "    }\n",
       "\n",
       "    .dataframe tbody tr th {\n",
       "        vertical-align: top;\n",
       "    }\n",
       "\n",
       "    .dataframe thead th {\n",
       "        text-align: right;\n",
       "    }\n",
       "</style>\n",
       "<table border=\"1\" class=\"dataframe\">\n",
       "  <thead>\n",
       "    <tr style=\"text-align: right;\">\n",
       "      <th></th>\n",
       "      <th>Activity_freq_code</th>\n",
       "      <th>Age_Group_freq_code</th>\n",
       "      <th>Day_time_freq_code</th>\n",
       "      <th>Sex_freq_code</th>\n",
       "      <th>Fatal (Y/N)_freq_code</th>\n",
       "    </tr>\n",
       "  </thead>\n",
       "  <tbody>\n",
       "    <tr>\n",
       "      <th>0</th>\n",
       "      <td>308</td>\n",
       "      <td>580</td>\n",
       "      <td>1027</td>\n",
       "      <td>275</td>\n",
       "      <td>1553</td>\n",
       "    </tr>\n",
       "    <tr>\n",
       "      <th>1</th>\n",
       "      <td>687</td>\n",
       "      <td>122</td>\n",
       "      <td>1027</td>\n",
       "      <td>275</td>\n",
       "      <td>1553</td>\n",
       "    </tr>\n",
       "    <tr>\n",
       "      <th>2</th>\n",
       "      <td>687</td>\n",
       "      <td>580</td>\n",
       "      <td>767</td>\n",
       "      <td>1599</td>\n",
       "      <td>1553</td>\n",
       "    </tr>\n",
       "    <tr>\n",
       "      <th>8</th>\n",
       "      <td>143</td>\n",
       "      <td>430</td>\n",
       "      <td>1027</td>\n",
       "      <td>1599</td>\n",
       "      <td>1553</td>\n",
       "    </tr>\n",
       "    <tr>\n",
       "      <th>9</th>\n",
       "      <td>687</td>\n",
       "      <td>122</td>\n",
       "      <td>1027</td>\n",
       "      <td>1599</td>\n",
       "      <td>1553</td>\n",
       "    </tr>\n",
       "    <tr>\n",
       "      <th>...</th>\n",
       "      <td>...</td>\n",
       "      <td>...</td>\n",
       "      <td>...</td>\n",
       "      <td>...</td>\n",
       "      <td>...</td>\n",
       "    </tr>\n",
       "    <tr>\n",
       "      <th>5922</th>\n",
       "      <td>687</td>\n",
       "      <td>580</td>\n",
       "      <td>767</td>\n",
       "      <td>1599</td>\n",
       "      <td>321</td>\n",
       "    </tr>\n",
       "    <tr>\n",
       "      <th>5934</th>\n",
       "      <td>361</td>\n",
       "      <td>430</td>\n",
       "      <td>767</td>\n",
       "      <td>1599</td>\n",
       "      <td>1553</td>\n",
       "    </tr>\n",
       "    <tr>\n",
       "      <th>5963</th>\n",
       "      <td>361</td>\n",
       "      <td>687</td>\n",
       "      <td>767</td>\n",
       "      <td>1599</td>\n",
       "      <td>1553</td>\n",
       "    </tr>\n",
       "    <tr>\n",
       "      <th>5991</th>\n",
       "      <td>143</td>\n",
       "      <td>687</td>\n",
       "      <td>1027</td>\n",
       "      <td>1599</td>\n",
       "      <td>321</td>\n",
       "    </tr>\n",
       "    <tr>\n",
       "      <th>6200</th>\n",
       "      <td>308</td>\n",
       "      <td>687</td>\n",
       "      <td>1027</td>\n",
       "      <td>275</td>\n",
       "      <td>1553</td>\n",
       "    </tr>\n",
       "  </tbody>\n",
       "</table>\n",
       "<p>1874 rows × 5 columns</p>\n",
       "</div>"
      ],
      "text/plain": [
       "      Activity_freq_code  Age_Group_freq_code  Day_time_freq_code  \\\n",
       "0                    308                  580                1027   \n",
       "1                    687                  122                1027   \n",
       "2                    687                  580                 767   \n",
       "8                    143                  430                1027   \n",
       "9                    687                  122                1027   \n",
       "...                  ...                  ...                 ...   \n",
       "5922                 687                  580                 767   \n",
       "5934                 361                  430                 767   \n",
       "5963                 361                  687                 767   \n",
       "5991                 143                  687                1027   \n",
       "6200                 308                  687                1027   \n",
       "\n",
       "      Sex_freq_code  Fatal (Y/N)_freq_code  \n",
       "0               275                   1553  \n",
       "1               275                   1553  \n",
       "2              1599                   1553  \n",
       "8              1599                   1553  \n",
       "9              1599                   1553  \n",
       "...             ...                    ...  \n",
       "5922           1599                    321  \n",
       "5934           1599                   1553  \n",
       "5963           1599                   1553  \n",
       "5991           1599                    321  \n",
       "6200            275                   1553  \n",
       "\n",
       "[1874 rows x 5 columns]"
      ]
     },
     "execution_count": 347,
     "metadata": {},
     "output_type": "execute_result"
    }
   ],
   "source": [
    "columnas_categoricas = ['Activity', 'Age_Group', 'Day_time', 'Sex', 'Fatal (Y/N)']\n",
    "\n",
    "# Crear un nuevo DataFrame para almacenar la codificación de frecuencia\n",
    "attacks_codificado = pd.DataFrame()\n",
    "\n",
    "# Iterar sobre cada columna categórica\n",
    "for columna in columnas_categoricas:\n",
    "    # Calcular la frecuencia de cada categoría y almacenarla en un diccionario\n",
    "    frecuencias = attacks[columna].value_counts().to_dict()\n",
    "    # Crear una nueva columna en el DataFrame con la codificación de frecuencia\n",
    "    attacks_codificado[f'{columna}_freq_code'] = attacks[columna].map(frecuencias)\n",
    "\n",
    "# Concatenar el DataFrame codificado con el DataFrame original\n",
    "attacks_codificado_completo = pd.concat([attacks, attacks_codificado], axis=1)\n",
    "attacks_codificado\n"
   ]
  },
  {
   "cell_type": "code",
   "execution_count": 310,
   "metadata": {},
   "outputs": [],
   "source": [
    "columnas_categoricas = ['Activity', 'Age_Group', 'Day_time', 'Sex', 'Fatal (Y/N)']\n",
    "\n",
    "# Crear un nuevo DataFrame para almacenar la codificación de frecuencia\n",
    "attacks_codificado = pd.DataFrame()\n",
    "\n",
    "# Iterar sobre cada columna categórica\n",
    "for columna in columnas_categoricas:\n",
    "    # Calcular la frecuencia de cada categoría y almacenarla en un diccionario\n",
    "    frecuencias = attacks[columna].value_counts().to_dict()\n",
    "    # Crear una nueva columna en el DataFrame con la codificación de frecuencia\n",
    "    attacks_codificado[f'{columna}_freq_code'] = attacks[columna].map(frecuencias)"
   ]
  },
  {
   "cell_type": "code",
   "execution_count": 344,
   "metadata": {},
   "outputs": [
    {
     "data": {
      "image/png": "[encoded data removed]",
      "text/plain": [
       "<Figure size 1000x600 with 2 Axes>"
      ]
     },
     "metadata": {},
     "output_type": "display_data"
    }
   ],
   "source": [
    "categorical_columns = ['Sex', 'Age_Group', 'Day_time', 'Activity', 'Fatal (Y/N)']\n",
    "\n",
    "# Calculate the frequency of each category for each value of 'Fatal (Y/N)'\n",
    "attacks_frequency = pd.get_dummies(attacks[categorical_columns])\n",
    "\n",
    "# Calculate the correlation with 'Fatal (Y/N)'\n",
    "correlation_with_fatal = attacks_frequency.corr()[['Fatal (Y/N)_N', 'Fatal (Y/N)_Y']]\n",
    "\n",
    "# Select the correlations with 'Fatal (Y/N)'\n",
    "correlation_with_fatal = correlation_with_fatal.loc[:, correlation_with_fatal.columns.str.startswith('Fatal')]\n",
    "\n",
    "# Drop the correlation of 'Fatal (Y/N)' with itself\n",
    "correlation_with_fatal = correlation_with_fatal.drop(['Fatal (Y/N)_N', 'Fatal (Y/N)_Y'])\n",
    "\n",
    "# Create the heatmap\n",
    "plt.figure(figsize=(10, 6))  # Adjust the figure size as needed\n",
    "sns.heatmap(correlation_with_fatal, annot=True, cmap='Blues', fmt='.2f')  # Change the colormap and formatting as needed\n",
    "plt.title('Correlation of Categorical Variables with Fatal (Y/N)')\n",
    "plt.show()"
   ]
  },
  {
   "cell_type": "code",
   "execution_count": 319,
   "metadata": {},
   "outputs": [
    {
     "data": {
      "image/png": "[encoded data removed]",
      "text/plain": [
       "<Figure size 2000x1500 with 6 Axes>"
      ]
     },
     "metadata": {},
     "output_type": "display_data"
    }
   ],
   "source": [
    "# Create subplots\n",
    "fig, axs = plt.subplots(nrows=2, ncols=3, figsize=(20, 15))\n",
    "\n",
    "# Grouping by \"Fatal (Y/N)\" and \"Sex\", and counting occurrences\n",
    "fatal_sex_counts = attacks.groupby([\"Fatal (Y/N)\", \"Sex\"])[\"Sex\"].count().unstack()\n",
    "fatal_sex_counts.plot(kind=\"barh\", ax=axs[0, 0])\n",
    "axs[0, 0].set_title('Fatalities by Sex')\n",
    "\n",
    "# Violin plot for distribution of age by fatality\n",
    "sns.violinplot(x=attacks[\"Age\"], y=attacks[\"Fatal (Y/N)\"], ax=axs[0, 1])\n",
    "axs[0, 1].set_title('Distribution of Age by Fatality')\n",
    "\n",
    "# Stack histogram for distribution of age by fatality\n",
    "sns.histplot(data=attacks, x=\"Age\", hue=\"Fatal (Y/N)\", multiple=\"stack\", ax=axs[0, 2])\n",
    "axs[0, 2].set_title('Distribution of Age by Fatality')\n",
    "\n",
    "# Swarm plot for body mass by time and fatality\n",
    "sns.swarmplot(data=attacks, x=\"Time\", y=\"Fatal (Y/N)\", hue=\"Activity\", ax=axs[1, 0])\n",
    "axs[1, 0].set_title('Time vs Fatal (Y/N) with Activity')\n",
    "\n",
    "# Count plot for sex\n",
    "sns.countplot(x=attacks[\"Sex\"], ax=axs[1, 1])\n",
    "axs[1, 1].set_title('Count of Attacks by Sex')\n",
    "\n",
    "# Count plot for fatality\n",
    "sns.countplot(x=attacks[\"Fatal (Y/N)\"], ax=axs[1, 2])\n",
    "axs[1, 2].set_title('Count of Fatalities')\n",
    "\n",
    "plt.tight_layout()\n",
    "plt.show()"
   ]
  },
  {
   "cell_type": "code",
   "execution_count": null,
   "metadata": {},
   "outputs": [],
   "source": []
  }
 ],
 "metadata": {
  "kernelspec": {
   "display_name": "Ironhack",
   "language": "python",
   "name": "python3"
  },
  "language_info": {
   "codemirror_mode": {
    "name": "ipython",
    "version": 3
   },
   "file_extension": ".py",
   "mimetype": "text/x-python",
   "name": "python",
   "nbconvert_exporter": "python",
   "pygments_lexer": "ipython3",
   "version": "3.11.7"
  }
 },
 "nbformat": 4,
 "nbformat_minor": 2
}
